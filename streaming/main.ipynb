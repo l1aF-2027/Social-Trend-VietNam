{
 "cells": [
  {
   "cell_type": "markdown",
   "id": "fAk9_o9gtuh7",
   "metadata": {
    "id": "fAk9_o9gtuh7"
   },
   "source": [
    "#### Env"
   ]
  },
  {
   "cell_type": "code",
   "execution_count": 1,
   "id": "hHnxPaAmqHi_",
   "metadata": {
    "colab": {
     "base_uri": "https://localhost:8080/"
    },
    "executionInfo": {
     "elapsed": 25603,
     "status": "ok",
     "timestamp": 1752459762738,
     "user": {
      "displayName": "Duy Hoang",
      "userId": "14942285181523211297"
     },
     "user_tz": -420
    },
    "id": "hHnxPaAmqHi_",
    "outputId": "5d0e4165-3a31-4144-c588-f22229023aaf"
   },
   "outputs": [
    {
     "name": "stdout",
     "output_type": "stream",
     "text": [
      "Mounted at /content/drive\n"
     ]
    }
   ],
   "source": [
    "from google.colab import drive\n",
    "drive.mount('/content/drive')"
   ]
  },
  {
   "cell_type": "code",
   "execution_count": 2,
   "id": "ZceDeXLype78",
   "metadata": {
    "colab": {
     "base_uri": "https://localhost:8080/"
    },
    "executionInfo": {
     "elapsed": 181966,
     "status": "ok",
     "timestamp": 1752459944702,
     "user": {
      "displayName": "Duy Hoang",
      "userId": "14942285181523211297"
     },
     "user_tz": -420
    },
    "id": "ZceDeXLype78",
    "outputId": "2f2b582b-ef65-4af5-eee4-20a7f252c2d5"
   },
   "outputs": [
    {
     "name": "stdout",
     "output_type": "stream",
     "text": [
      "\u001b[2K   \u001b[90m━━━━━━━━━━━━━━━━━━━━━━━━━━━━━━━━━━━━━━━━\u001b[0m \u001b[32m10.8/10.8 MB\u001b[0m \u001b[31m26.5 MB/s\u001b[0m eta \u001b[36m0:00:00\u001b[0m\n",
      "\u001b[2K   \u001b[90m━━━━━━━━━━━━━━━━━━━━━━━━━━━━━━━━━━━━━━━━\u001b[0m \u001b[32m309.8/309.8 kB\u001b[0m \u001b[31m31.3 MB/s\u001b[0m eta \u001b[36m0:00:00\u001b[0m\n",
      "\u001b[2K   \u001b[90m━━━━━━━━━━━━━━━━━━━━━━━━━━━━━━━━━━━━━━━━\u001b[0m \u001b[32m363.4/363.4 MB\u001b[0m \u001b[31m5.1 MB/s\u001b[0m eta \u001b[36m0:00:00\u001b[0m\n",
      "\u001b[2K   \u001b[90m━━━━━━━━━━━━━━━━━━━━━━━━━━━━━━━━━━━━━━━━\u001b[0m \u001b[32m13.8/13.8 MB\u001b[0m \u001b[31m30.9 MB/s\u001b[0m eta \u001b[36m0:00:00\u001b[0m\n",
      "\u001b[2K   \u001b[90m━━━━━━━━━━━━━━━━━━━━━━━━━━━━━━━━━━━━━━━━\u001b[0m \u001b[32m24.6/24.6 MB\u001b[0m \u001b[31m22.0 MB/s\u001b[0m eta \u001b[36m0:00:00\u001b[0m\n",
      "\u001b[2K   \u001b[90m━━━━━━━━━━━━━━━━━━━━━━━━━━━━━━━━━━━━━━━━\u001b[0m \u001b[32m883.7/883.7 kB\u001b[0m \u001b[31m59.2 MB/s\u001b[0m eta \u001b[36m0:00:00\u001b[0m\n",
      "\u001b[2K   \u001b[90m━━━━━━━━━━━━━━━━━━━━━━━━━━━━━━━━━━━━━━━\u001b[0m \u001b[32m664.8/664.8 MB\u001b[0m \u001b[31m754.0 kB/s\u001b[0m eta \u001b[36m0:00:00\u001b[0m\n",
      "\u001b[2K   \u001b[90m━━━━━━━━━━━━━━━━━━━━━━━━━━━━━━━━━━━━━━━━\u001b[0m \u001b[32m211.5/211.5 MB\u001b[0m \u001b[31m1.3 MB/s\u001b[0m eta \u001b[36m0:00:00\u001b[0m\n",
      "\u001b[2K   \u001b[90m━━━━━━━━━━━━━━━━━━━━━━━━━━━━━━━━━━━━━━━━\u001b[0m \u001b[32m56.3/56.3 MB\u001b[0m \u001b[31m12.0 MB/s\u001b[0m eta \u001b[36m0:00:00\u001b[0m\n",
      "\u001b[2K   \u001b[90m━━━━━━━━━━━━━━━━━━━━━━━━━━━━━━━━━━━━━━━━\u001b[0m \u001b[32m127.9/127.9 MB\u001b[0m \u001b[31m7.8 MB/s\u001b[0m eta \u001b[36m0:00:00\u001b[0m\n",
      "\u001b[2K   \u001b[90m━━━━━━━━━━━━━━━━━━━━━━━━━━━━━━━━━━━━━━━━\u001b[0m \u001b[32m207.5/207.5 MB\u001b[0m \u001b[31m1.6 MB/s\u001b[0m eta \u001b[36m0:00:00\u001b[0m\n",
      "\u001b[2K   \u001b[90m━━━━━━━━━━━━━━━━━━━━━━━━━━━━━━━━━━━━━━━━\u001b[0m \u001b[32m21.1/21.1 MB\u001b[0m \u001b[31m23.8 MB/s\u001b[0m eta \u001b[36m0:00:00\u001b[0m\n",
      "\u001b[2K   \u001b[90m━━━━━━━━━━━━━━━━━━━━━━━━━━━━━━━━━━━━━━━━\u001b[0m \u001b[32m1.1/1.1 MB\u001b[0m \u001b[31m53.0 MB/s\u001b[0m eta \u001b[36m0:00:00\u001b[0m\n",
      "\u001b[2K   \u001b[90m━━━━━━━━━━━━━━━━━━━━━━━━━━━━━━━━━━━━━━━━\u001b[0m \u001b[32m235.8/235.8 kB\u001b[0m \u001b[31m23.7 MB/s\u001b[0m eta \u001b[36m0:00:00\u001b[0m\n",
      "\u001b[2K   \u001b[90m━━━━━━━━━━━━━━━━━━━━━━━━━━━━━━━━━━━━━━━━\u001b[0m \u001b[32m161.7/161.7 kB\u001b[0m \u001b[31m16.8 MB/s\u001b[0m eta \u001b[36m0:00:00\u001b[0m\n",
      "\u001b[2K   \u001b[90m━━━━━━━━━━━━━━━━━━━━━━━━━━━━━━━━━━━━━━━━\u001b[0m \u001b[32m590.6/590.6 kB\u001b[0m \u001b[31m50.3 MB/s\u001b[0m eta \u001b[36m0:00:00\u001b[0m\n",
      "\u001b[2K   \u001b[90m━━━━━━━━━━━━━━━━━━━━━━━━━━━━━━━━━━━━━━━━\u001b[0m \u001b[32m3.1/3.1 MB\u001b[0m \u001b[31m100.9 MB/s\u001b[0m eta \u001b[36m0:00:00\u001b[0m\n",
      "\u001b[?25h"
     ]
    }
   ],
   "source": [
    "!pip install kafka-python findspark pyspark torch transformers==4.53.0 fuzzywuzzy stanza unidecode python-Levenshtein -q"
   ]
  },
  {
   "cell_type": "code",
   "execution_count": 3,
   "id": "46AnHhHikCbD",
   "metadata": {
    "colab": {
     "base_uri": "https://localhost:8080/"
    },
    "executionInfo": {
     "elapsed": 10691,
     "status": "ok",
     "timestamp": 1752459955395,
     "user": {
      "displayName": "Duy Hoang",
      "userId": "14942285181523211297"
     },
     "user_tz": -420
    },
    "id": "46AnHhHikCbD",
    "outputId": "0a810d62-a7cb-4c41-c96a-3fe2d68c6d31"
   },
   "outputs": [
    {
     "name": "stdout",
     "output_type": "stream",
     "text": [
      "Collecting pyngrok\n",
      "  Downloading pyngrok-7.2.12-py3-none-any.whl.metadata (9.4 kB)\n",
      "Requirement already satisfied: PyYAML>=5.1 in /usr/local/lib/python3.11/dist-packages (from pyngrok) (6.0.2)\n",
      "Downloading pyngrok-7.2.12-py3-none-any.whl (26 kB)\n",
      "Installing collected packages: pyngrok\n",
      "Successfully installed pyngrok-7.2.12\n"
     ]
    }
   ],
   "source": [
    "!pip install pyngrok"
   ]
  },
  {
   "cell_type": "code",
   "execution_count": 4,
   "id": "I64gvTSvqcdl",
   "metadata": {
    "executionInfo": {
     "elapsed": 688,
     "status": "ok",
     "timestamp": 1752459956088,
     "user": {
      "displayName": "Duy Hoang",
      "userId": "14942285181523211297"
     },
     "user_tz": -420
    },
    "id": "I64gvTSvqcdl"
   },
   "outputs": [],
   "source": [
    "import json\n",
    "import os\n",
    "from kafka import KafkaProducer\n",
    "from tqdm import tqdm\n",
    "from time import sleep, time\n",
    "import json\n",
    "import psycopg2\n",
    "from pyspark.sql import DataFrame"
   ]
  },
  {
   "cell_type": "code",
   "execution_count": 5,
   "id": "n9UEd4SSwS0N",
   "metadata": {
    "executionInfo": {
     "elapsed": 9,
     "status": "ok",
     "timestamp": 1752459956095,
     "user": {
      "displayName": "Duy Hoang",
      "userId": "14942285181523211297"
     },
     "user_tz": -420
    },
    "id": "n9UEd4SSwS0N"
   },
   "outputs": [],
   "source": [
    "postgres_url = \"jdbc:postgresql://ep-mute-lab-a1al1nx2-pooler.ap-southeast-1.aws.neon.tech/socialtrend?sslmode=require\"\n",
    "postgres_properties = {\n",
    "    \"user\": \"socialtrend_owner\",\n",
    "    \"password\": \"npg_wOv01JkxVquo\",\n",
    "    \"driver\": \"org.postgresql.Driver\"\n",
    "}\n",
    "\n",
    "PG_CONN_STR = (\n",
    "    \"host=ep-mute-lab-a1al1nx2-pooler.ap-southeast-1.aws.neon.tech \"\n",
    "    \"dbname=socialtrend user=socialtrend_owner password=npg_wOv01JkxVquo \"\n",
    "    \"sslmode=require channel_binding=require\"\n",
    ")"
   ]
  },
  {
   "cell_type": "code",
   "execution_count": 6,
   "id": "TleYDI_Wv5-t",
   "metadata": {
    "colab": {
     "base_uri": "https://localhost:8080/"
    },
    "executionInfo": {
     "elapsed": 1927,
     "status": "ok",
     "timestamp": 1752459958022,
     "user": {
      "displayName": "Duy Hoang",
      "userId": "14942285181523211297"
     },
     "user_tz": -420
    },
    "id": "TleYDI_Wv5-t",
    "outputId": "90976935-0ae5-4f01-a771-dc40a72369bd"
   },
   "outputs": [
    {
     "name": "stdout",
     "output_type": "stream",
     "text": [
      "--2025-07-14 02:25:53--  https://jdbc.postgresql.org/download/postgresql-42.6.0.jar\n",
      "Resolving jdbc.postgresql.org (jdbc.postgresql.org)... 72.32.157.228, 2001:4800:3e1:1::228\n",
      "Connecting to jdbc.postgresql.org (jdbc.postgresql.org)|72.32.157.228|:443... connected.\n",
      "HTTP request sent, awaiting response... 200 OK\n",
      "Length: 1081604 (1.0M) [application/java-archive]\n",
      "Saving to: ‘postgresql-42.6.0.jar’\n",
      "\n",
      "postgresql-42.6.0.j 100%[===================>]   1.03M  1.30MB/s    in 0.8s    \n",
      "\n",
      "2025-07-14 02:25:55 (1.30 MB/s) - ‘postgresql-42.6.0.jar’ saved [1081604/1081604]\n",
      "\n"
     ]
    }
   ],
   "source": [
    "!wget https://jdbc.postgresql.org/download/postgresql-42.6.0.jar"
   ]
  },
  {
   "cell_type": "code",
   "execution_count": 7,
   "id": "FoNE3aV6pjzN",
   "metadata": {
    "colab": {
     "base_uri": "https://localhost:8080/"
    },
    "executionInfo": {
     "elapsed": 35041,
     "status": "ok",
     "timestamp": 1752459993065,
     "user": {
      "displayName": "Duy Hoang",
      "userId": "14942285181523211297"
     },
     "user_tz": -420
    },
    "id": "FoNE3aV6pjzN",
    "outputId": "06adca22-46de-400c-eb46-224433442dfb"
   },
   "outputs": [
    {
     "name": "stdout",
     "output_type": "stream",
     "text": [
      "/content\n",
      "--2025-07-14 02:25:55--  https://dlcdn.apache.org/spark/spark-3.5.6/spark-3.5.6-bin-hadoop3.tgz\n",
      "Resolving dlcdn.apache.org (dlcdn.apache.org)... 151.101.2.132, 2a04:4e42::644\n",
      "Connecting to dlcdn.apache.org (dlcdn.apache.org)|151.101.2.132|:443... connected.\n",
      "HTTP request sent, awaiting response... 200 OK\n",
      "Length: 400923510 (382M) [application/x-gzip]\n",
      "Saving to: ‘spark-3.5.6-bin-hadoop3.tgz’\n",
      "\n",
      "spark-3.5.6-bin-had 100%[===================>] 382.35M  46.0MB/s    in 8.8s    \n",
      "\n",
      "2025-07-14 02:26:04 (43.6 MB/s) - ‘spark-3.5.6-bin-hadoop3.tgz’ saved [400923510/400923510]\n",
      "\n",
      "Requirement already satisfied: findspark in /usr/local/lib/python3.11/dist-packages (2.0.1)\n",
      "Requirement already satisfied: pyspark in /usr/local/lib/python3.11/dist-packages (3.5.1)\n",
      "Requirement already satisfied: kafka-python in /usr/local/lib/python3.11/dist-packages (2.2.15)\n",
      "Requirement already satisfied: py4j==0.10.9.7 in /usr/local/lib/python3.11/dist-packages (from pyspark) (0.10.9.7)\n"
     ]
    }
   ],
   "source": [
    "!pwd\n",
    "!wget https://dlcdn.apache.org/spark/spark-3.5.6/spark-3.5.6-bin-hadoop3.tgz\n",
    "!tar -xzf spark-3.5.6-bin-hadoop3.tgz\n",
    "!pip install findspark\n",
    "!pip install pyspark kafka-python"
   ]
  },
  {
   "cell_type": "code",
   "execution_count": 8,
   "id": "qWUn1tBtpkkP",
   "metadata": {
    "colab": {
     "base_uri": "https://localhost:8080/"
    },
    "executionInfo": {
     "elapsed": 13946,
     "status": "ok",
     "timestamp": 1752460007009,
     "user": {
      "displayName": "Duy Hoang",
      "userId": "14942285181523211297"
     },
     "user_tz": -420
    },
    "id": "qWUn1tBtpkkP",
    "outputId": "aa9139f5-25ae-42a2-fe34-d684cc162bae"
   },
   "outputs": [
    {
     "name": "stdout",
     "output_type": "stream",
     "text": [
      "--2025-07-14 02:26:30--  https://downloads.apache.org/kafka/3.7.2/kafka_2.12-3.7.2.tgz\n",
      "Resolving downloads.apache.org (downloads.apache.org)... 135.181.214.104, 88.99.208.237, 2a01:4f9:3a:2c57::2, ...\n",
      "Connecting to downloads.apache.org (downloads.apache.org)|135.181.214.104|:443... connected.\n",
      "HTTP request sent, awaiting response... 200 OK\n",
      "Length: 120886836 (115M) [application/x-gzip]\n",
      "Saving to: ‘kafka_2.12-3.7.2.tgz’\n",
      "\n",
      "kafka_2.12-3.7.2.tg 100%[===================>] 115.29M  11.5MB/s    in 11s     \n",
      "\n",
      "2025-07-14 02:26:42 (10.2 MB/s) - ‘kafka_2.12-3.7.2.tgz’ saved [120886836/120886836]\n",
      "\n"
     ]
    }
   ],
   "source": [
    "!wget https://downloads.apache.org/kafka/3.7.2/kafka_2.12-3.7.2.tgz\n",
    "!tar -xzf kafka_2.12-3.7.2.tgz"
   ]
  },
  {
   "cell_type": "code",
   "execution_count": 9,
   "id": "tclcKDEDpl1I",
   "metadata": {
    "executionInfo": {
     "elapsed": 1634,
     "status": "ok",
     "timestamp": 1752460008644,
     "user": {
      "displayName": "Duy Hoang",
      "userId": "14942285181523211297"
     },
     "user_tz": -420
    },
    "id": "tclcKDEDpl1I"
   },
   "outputs": [],
   "source": [
    "!./kafka_2.12-3.7.2/bin/zookeeper-server-start.sh -daemon ./kafka_2.12-3.7.2/config/zookeeper.properties\n",
    "!./kafka_2.12-3.7.2/bin/kafka-server-start.sh -daemon ./kafka_2.12-3.7.2/config/server.properties"
   ]
  },
  {
   "cell_type": "code",
   "execution_count": 10,
   "id": "knOi8GpBptjN",
   "metadata": {
    "colab": {
     "base_uri": "https://localhost:8080/"
    },
    "executionInfo": {
     "elapsed": 10009,
     "status": "ok",
     "timestamp": 1752460018654,
     "user": {
      "displayName": "Duy Hoang",
      "userId": "14942285181523211297"
     },
     "user_tz": -420
    },
    "id": "knOi8GpBptjN",
    "outputId": "ce71bc29-621e-48f8-b367-ab916f344f85"
   },
   "outputs": [
    {
     "name": "stdout",
     "output_type": "stream",
     "text": [
      "Waiting 10 seconds for Kafka and Zookeeper to be ready...\n"
     ]
    }
   ],
   "source": [
    "import time\n",
    "print(\"Waiting 10 seconds for Kafka and Zookeeper to be ready...\")\n",
    "time.sleep(10)"
   ]
  },
  {
   "cell_type": "code",
   "execution_count": 11,
   "id": "fMi8zvNYpwiz",
   "metadata": {
    "colab": {
     "base_uri": "https://localhost:8080/"
    },
    "executionInfo": {
     "elapsed": 130,
     "status": "ok",
     "timestamp": 1752460018786,
     "user": {
      "displayName": "Duy Hoang",
      "userId": "14942285181523211297"
     },
     "user_tz": -420
    },
    "id": "fMi8zvNYpwiz",
    "outputId": "051a285e-2105-4f95-888e-486984d63e0a"
   },
   "outputs": [
    {
     "name": "stdout",
     "output_type": "stream",
     "text": [
      "root        2847       1 17 02:26 ?        00:00:01 java -Xmx512M -Xms512M -server -XX:+UseG1GC -XX:MaxGCPauseMillis=20 -XX:InitiatingHeapOccupancyPercent=35 -XX:+ExplicitGCInvokesConcurrent -XX:MaxInlineLevel=15 -Djava.awt.headless=true -Xlog:gc*:file=/content/kafka_2.12-3.7.2/bin/../logs/zookeeper-gc.log:time,tags:filecount=10,filesize=100M -Dcom.sun.management.jmxremote -Dcom.sun.management.jmxremote.authenticate=false -Dcom.sun.management.jmxremote.ssl=false -Dkafka.logs.dir=/content/kafka_2.12-3.7.2/bin/../logs -Dlog4j.configuration=file:./kafka_2.12-3.7.2/bin/../config/log4j.properties -cp /content/kafka_2.12-3.7.2/bin/../libs/activation-1.1.1.jar:/content/kafka_2.12-3.7.2/bin/../libs/aopalliance-repackaged-2.6.1.jar:/content/kafka_2.12-3.7.2/bin/../libs/argparse4j-0.7.0.jar:/content/kafka_2.12-3.7.2/bin/../libs/audience-annotations-0.12.0.jar:/content/kafka_2.12-3.7.2/bin/../libs/caffeine-2.9.3.jar:/content/kafka_2.12-3.7.2/bin/../libs/checker-qual-3.19.0.jar:/content/kafka_2.12-3.7.2/bin/../libs/commons-beanutils-1.9.4.jar:/content/kafka_2.12-3.7.2/bin/../libs/commons-cli-1.4.jar:/content/kafka_2.12-3.7.2/bin/../libs/commons-collections-3.2.2.jar:/content/kafka_2.12-3.7.2/bin/../libs/commons-digester-2.1.jar:/content/kafka_2.12-3.7.2/bin/../libs/commons-io-2.14.0.jar:/content/kafka_2.12-3.7.2/bin/../libs/commons-lang3-3.8.1.jar:/content/kafka_2.12-3.7.2/bin/../libs/commons-logging-1.2.jar:/content/kafka_2.12-3.7.2/bin/../libs/commons-validator-1.7.jar:/content/kafka_2.12-3.7.2/bin/../libs/connect-api-3.7.2.jar:/content/kafka_2.12-3.7.2/bin/../libs/connect-basic-auth-extension-3.7.2.jar:/content/kafka_2.12-3.7.2/bin/../libs/connect-json-3.7.2.jar:/content/kafka_2.12-3.7.2/bin/../libs/connect-mirror-3.7.2.jar:/content/kafka_2.12-3.7.2/bin/../libs/connect-mirror-client-3.7.2.jar:/content/kafka_2.12-3.7.2/bin/../libs/connect-runtime-3.7.2.jar:/content/kafka_2.12-3.7.2/bin/../libs/connect-transforms-3.7.2.jar:/content/kafka_2.12-3.7.2/bin/../libs/error_prone_annotations-2.10.0.jar:/content/kafka_2.12-3.7.2/bin/../libs/hk2-api-2.6.1.jar:/content/kafka_2.12-3.7.2/bin/../libs/hk2-locator-2.6.1.jar:/content/kafka_2.12-3.7.2/bin/../libs/hk2-utils-2.6.1.jar:/content/kafka_2.12-3.7.2/bin/../libs/jackson-annotations-2.16.2.jar:/content/kafka_2.12-3.7.2/bin/../libs/jackson-core-2.16.2.jar:/content/kafka_2.12-3.7.2/bin/../libs/jackson-databind-2.16.2.jar:/content/kafka_2.12-3.7.2/bin/../libs/jackson-dataformat-csv-2.16.2.jar:/content/kafka_2.12-3.7.2/bin/../libs/jackson-datatype-jdk8-2.16.2.jar:/content/kafka_2.12-3.7.2/bin/../libs/jackson-jaxrs-base-2.16.2.jar:/content/kafka_2.12-3.7.2/bin/../libs/jackson-jaxrs-json-provider-2.16.2.jar:/content/kafka_2.12-3.7.2/bin/../libs/jackson-module-jaxb-annotations-2.16.2.jar:/content/kafka_2.12-3.7.2/bin/../libs/jackson-module-scala_2.12-2.16.2.jar:/content/kafka_2.12-3.7.2/bin/../libs/jakarta.activation-api-1.2.2.jar:/content/kafka_2.12-3.7.2/bin/../libs/jakarta.annotation-api-1.3.5.jar:/content/kafka_2.12-3.7.2/bin/../libs/jakarta.inject-2.6.1.jar:/content/kafka_2.12-3.7.2/bin/../libs/jakarta.validation-api-2.0.2.jar:/content/kafka_2.12-3.7.2/bin/../libs/jakarta.ws.rs-api-2.1.6.jar:/content/kafka_2.12-3.7.2/bin/../libs/jakarta.xml.bind-api-2.3.3.jar:/content/kafka_2.12-3.7.2/bin/../libs/javassist-3.29.2-GA.jar:/content/kafka_2.12-3.7.2/bin/../libs/javax.activation-api-1.2.0.jar:/content/kafka_2.12-3.7.2/bin/../libs/javax.annotation-api-1.3.2.jar:/content/kafka_2.12-3.7.2/bin/../libs/javax.servlet-api-3.1.0.jar:/content/kafka_2.12-3.7.2/bin/../libs/javax.ws.rs-api-2.1.1.jar:/content/kafka_2.12-3.7.2/bin/../libs/jaxb-api-2.3.1.jar:/content/kafka_2.12-3.7.2/bin/../libs/jersey-client-2.39.1.jar:/content/kafka_2.12-3.7.2/bin/../libs/jersey-common-2.39.1.jar:/content/kafka_2.12-3.7.2/bin/../libs/jersey-container-servlet-2.39.1.jar:/content/kafka_2.12-3.7.2/bin/../libs/jersey-container-servlet-core-2.39.1.jar:/content/kafka_2.12-3.7.2/bin/../libs/jersey-hk2-2.39.1.jar:/content/kafka_2.12-3.7.2/bin/../libs/jersey-server-2.39.1.jar:/content/kafka_2.12-3.7.2/bin/../libs/jetty-client-9.4.56.v20240826.jar:/content/kafka_2.12-3.7.2/bin/../libs/jetty-continuation-9.4.56.v20240826.jar:/content/kafka_2.12-3.7.2/bin/../libs/jetty-http-9.4.56.v20240826.jar:/content/kafka_2.12-3.7.2/bin/../libs/jetty-io-9.4.56.v20240826.jar:/content/kafka_2.12-3.7.2/bin/../libs/jetty-security-9.4.56.v20240826.jar:/content/kafka_2.12-3.7.2/bin/../libs/jetty-server-9.4.56.v20240826.jar:/content/kafka_2.12-3.7.2/bin/../libs/jetty-servlet-9.4.56.v20240826.jar:/content/kafka_2.12-3.7.2/bin/../libs/jetty-servlets-9.4.56.v20240826.jar:/content/kafka_2.12-3.7.2/bin/../libs/jetty-util-9.4.56.v20240826.jar:/content/kafka_2.12-3.7.2/bin/../libs/jetty-util-ajax-9.4.56.v20240826.jar:/content/kafka_2.12-3.7.2/bin/../libs/jline-3.25.1.jar:/content/kafka_2.12-3.7.2/bin/../libs/jopt-simple-5.0.4.jar:/content/kafka_2.12-3.7.2/bin/../libs/jose4j-0.9.4.jar:/content/kafka_2.12-3.7.2/bin/../libs/jsr305-3.0.2.jar:/content/kafka_2.12-3.7.2/bin/../libs/kafka_2.12-3.7.2.jar:/content/kafka_2.12-3.7.2/bin/../libs/kafka-clients-3.7.2.jar:/content/kafka_2.12-3.7.2/bin/../libs/kafka-group-coordinator-3.7.2.jar:/content/kafka_2.12-3.7.2/bin/../libs/kafka-log4j-appender-3.7.2.jar:/content/kafka_2.12-3.7.2/bin/../libs/kafka-metadata-3.7.2.jar:/content/kafka_2.12-3.7.2/bin/../libs/kafka-raft-3.7.2.jar:/content/kafka_2.12-3.7.2/bin/../libs/kafka-server-3.7.2.jar:/content/kafka_2.12-3.7.2/bin/../libs/kafka-server-common-3.7.2.jar:/content/kafka_2.12-3.7.2/bin/../libs/kafka-shell-3.7.2.jar:/content/kafka_2.12-3.7.2/bin/../libs/kafka-storage-3.7.2.jar:/content/kafka_2.12-3.7.2/bin/../libs/kafka-storage-api-3.7.2.jar:/content/kafka_2.12-3.7.2/bin/../libs/kafka-streams-3.7.2.jar:/content/kafka_2.12-3.7.2/bin/../libs/kafka-streams-examples-3.7.2.jar:/content/kafka_2.12-3.7.2/bin/../libs/kafka-streams-scala_2.12-3.7.2.jar:/content/kafka_2.12-3.7.2/bin/../libs/kafka-streams-test-utils-3.7.2.jar:/content/kafka_2.12-3.7.2/bin/../libs/kafka-tools-3.7.2.jar:/content/kafka_2.12-3.7.2/bin/../libs/kafka-tools-api-3.7.2.jar:/content/kafka_2.12-3.7.2/bin/../libs/lz4-java-1.8.0.jar:/content/kafka_2.12-3.7.2/bin/../libs/maven-artifact-3.8.8.jar:/content/kafka_2.12-3.7.2/bin/../libs/metrics-core-2.2.0.jar:/content/kafka_2.12-3.7.2/bin/../libs/metrics-core-4.1.12.1.jar:/content/kafka_2.12-3.7.2/bin/../libs/netty-buffer-4.1.115.Final.jar:/content/kafka_2.12-3.7.2/bin/../libs/netty-codec-4.1.115.Final.jar:/content/kafka_2.12-3.7.2/bin/../libs/netty-common-4.1.115.Final.jar:/content/kafka_2.12-3.7.2/bin/../libs/netty-handler-4.1.115.Final.jar:/content/kafka_2.12-3.7.2/bin/../libs/netty-resolver-4.1.115.Final.jar:/content/kafka_2.12-3.7.2/bin/../libs/netty-transport-4.1.115.Final.jar:/content/kafka_2.12-3.7.2/bin/../libs/netty-transport-classes-epoll-4.1.115.Final.jar:/content/kafka_2.12-3.7.2/bin/../libs/netty-transport-native-epoll-4.1.115.Final.jar:/content/kafka_2.12-3.7.2/bin/../libs/netty-transport-native-unix-common-4.1.115.Final.jar:/content/kafka_2.12-3.7.2/bin/../libs/opentelemetry-proto-1.0.0-alpha.jar:/content/kafka_2.12-3.7.2/bin/../libs/osgi-resource-locator-1.0.3.jar:/content/kafka_2.12-3.7.2/bin/../libs/paranamer-2.8.jar:/content/kafka_2.12-3.7.2/bin/../libs/pcollections-4.0.1.jar:/content/kafka_2.12-3.7.2/bin/../libs/plexus-utils-3.3.1.jar:/content/kafka_2.12-3.7.2/bin/../libs/protobuf-java-3.25.5.jar:/content/kafka_2.12-3.7.2/bin/../libs/reflections-0.10.2.jar:/content/kafka_2.12-3.7.2/bin/../libs/reload4j-1.2.25.jar:/content/kafka_2.12-3.7.2/bin/../libs/rocksdbjni-7.9.2.jar:/content/kafka_2.12-3.7.2/bin/../libs/scala-collection-compat_2.12-2.10.0.jar:/content/kafka_2.12-3.7.2/bin/../libs/scala-java8-compat_2.12-1.0.2.jar:/content/kafka_2.12-3.7.2/bin/../libs/scala-library-2.12.18.jar:/content/kafka_2.12-3.7.2/bin/../libs/scala-logging_2.12-3.9.4.jar:/content/kafka_2.12-3.7.2/bin/../libs/scala-reflect-2.12.18.jar:/content/kafka_2.12-3.7.2/bin/../libs/slf4j-api-1.7.36.jar:/content/kafka_2.12-3.7.2/bin/../libs/slf4j-reload4j-1.7.36.jar:/content/kafka_2.12-3.7.2/bin/../libs/snappy-java-1.1.10.5.jar:/content/kafka_2.12-3.7.2/bin/../libs/swagger-annotations-2.2.8.jar:/content/kafka_2.12-3.7.2/bin/../libs/trogdor-3.7.2.jar:/content/kafka_2.12-3.7.2/bin/../libs/zookeeper-3.8.4.jar:/content/kafka_2.12-3.7.2/bin/../libs/zookeeper-jute-3.8.4.jar:/content/kafka_2.12-3.7.2/bin/../libs/zstd-jni-1.5.6-4.jar org.apache.zookeeper.server.quorum.QuorumPeerMain ./kafka_2.12-3.7.2/config/zookeeper.properties\n",
      "root        3257       1 61 02:26 ?        00:00:06 java -Xmx1G -Xms1G -server -XX:+UseG1GC -XX:MaxGCPauseMillis=20 -XX:InitiatingHeapOccupancyPercent=35 -XX:+ExplicitGCInvokesConcurrent -XX:MaxInlineLevel=15 -Djava.awt.headless=true -Xlog:gc*:file=/content/kafka_2.12-3.7.2/bin/../logs/kafkaServer-gc.log:time,tags:filecount=10,filesize=100M -Dcom.sun.management.jmxremote -Dcom.sun.management.jmxremote.authenticate=false -Dcom.sun.management.jmxremote.ssl=false -Dkafka.logs.dir=/content/kafka_2.12-3.7.2/bin/../logs -Dlog4j.configuration=file:./kafka_2.12-3.7.2/bin/../config/log4j.properties -cp /content/kafka_2.12-3.7.2/bin/../libs/activation-1.1.1.jar:/content/kafka_2.12-3.7.2/bin/../libs/aopalliance-repackaged-2.6.1.jar:/content/kafka_2.12-3.7.2/bin/../libs/argparse4j-0.7.0.jar:/content/kafka_2.12-3.7.2/bin/../libs/audience-annotations-0.12.0.jar:/content/kafka_2.12-3.7.2/bin/../libs/caffeine-2.9.3.jar:/content/kafka_2.12-3.7.2/bin/../libs/checker-qual-3.19.0.jar:/content/kafka_2.12-3.7.2/bin/../libs/commons-beanutils-1.9.4.jar:/content/kafka_2.12-3.7.2/bin/../libs/commons-cli-1.4.jar:/content/kafka_2.12-3.7.2/bin/../libs/commons-collections-3.2.2.jar:/content/kafka_2.12-3.7.2/bin/../libs/commons-digester-2.1.jar:/content/kafka_2.12-3.7.2/bin/../libs/commons-io-2.14.0.jar:/content/kafka_2.12-3.7.2/bin/../libs/commons-lang3-3.8.1.jar:/content/kafka_2.12-3.7.2/bin/../libs/commons-logging-1.2.jar:/content/kafka_2.12-3.7.2/bin/../libs/commons-validator-1.7.jar:/content/kafka_2.12-3.7.2/bin/../libs/connect-api-3.7.2.jar:/content/kafka_2.12-3.7.2/bin/../libs/connect-basic-auth-extension-3.7.2.jar:/content/kafka_2.12-3.7.2/bin/../libs/connect-json-3.7.2.jar:/content/kafka_2.12-3.7.2/bin/../libs/connect-mirror-3.7.2.jar:/content/kafka_2.12-3.7.2/bin/../libs/connect-mirror-client-3.7.2.jar:/content/kafka_2.12-3.7.2/bin/../libs/connect-runtime-3.7.2.jar:/content/kafka_2.12-3.7.2/bin/../libs/connect-transforms-3.7.2.jar:/content/kafka_2.12-3.7.2/bin/../libs/error_prone_annotations-2.10.0.jar:/content/kafka_2.12-3.7.2/bin/../libs/hk2-api-2.6.1.jar:/content/kafka_2.12-3.7.2/bin/../libs/hk2-locator-2.6.1.jar:/content/kafka_2.12-3.7.2/bin/../libs/hk2-utils-2.6.1.jar:/content/kafka_2.12-3.7.2/bin/../libs/jackson-annotations-2.16.2.jar:/content/kafka_2.12-3.7.2/bin/../libs/jackson-core-2.16.2.jar:/content/kafka_2.12-3.7.2/bin/../libs/jackson-databind-2.16.2.jar:/content/kafka_2.12-3.7.2/bin/../libs/jackson-dataformat-csv-2.16.2.jar:/content/kafka_2.12-3.7.2/bin/../libs/jackson-datatype-jdk8-2.16.2.jar:/content/kafka_2.12-3.7.2/bin/../libs/jackson-jaxrs-base-2.16.2.jar:/content/kafka_2.12-3.7.2/bin/../libs/jackson-jaxrs-json-provider-2.16.2.jar:/content/kafka_2.12-3.7.2/bin/../libs/jackson-module-jaxb-annotations-2.16.2.jar:/content/kafka_2.12-3.7.2/bin/../libs/jackson-module-scala_2.12-2.16.2.jar:/content/kafka_2.12-3.7.2/bin/../libs/jakarta.activation-api-1.2.2.jar:/content/kafka_2.12-3.7.2/bin/../libs/jakarta.annotation-api-1.3.5.jar:/content/kafka_2.12-3.7.2/bin/../libs/jakarta.inject-2.6.1.jar:/content/kafka_2.12-3.7.2/bin/../libs/jakarta.validation-api-2.0.2.jar:/content/kafka_2.12-3.7.2/bin/../libs/jakarta.ws.rs-api-2.1.6.jar:/content/kafka_2.12-3.7.2/bin/../libs/jakarta.xml.bind-api-2.3.3.jar:/content/kafka_2.12-3.7.2/bin/../libs/javassist-3.29.2-GA.jar:/content/kafka_2.12-3.7.2/bin/../libs/javax.activation-api-1.2.0.jar:/content/kafka_2.12-3.7.2/bin/../libs/javax.annotation-api-1.3.2.jar:/content/kafka_2.12-3.7.2/bin/../libs/javax.servlet-api-3.1.0.jar:/content/kafka_2.12-3.7.2/bin/../libs/javax.ws.rs-api-2.1.1.jar:/content/kafka_2.12-3.7.2/bin/../libs/jaxb-api-2.3.1.jar:/content/kafka_2.12-3.7.2/bin/../libs/jersey-client-2.39.1.jar:/content/kafka_2.12-3.7.2/bin/../libs/jersey-common-2.39.1.jar:/content/kafka_2.12-3.7.2/bin/../libs/jersey-container-servlet-2.39.1.jar:/content/kafka_2.12-3.7.2/bin/../libs/jersey-container-servlet-core-2.39.1.jar:/content/kafka_2.12-3.7.2/bin/../libs/jersey-hk2-2.39.1.jar:/content/kafka_2.12-3.7.2/bin/../libs/jersey-server-2.39.1.jar:/content/kafka_2.12-3.7.2/bin/../libs/jetty-client-9.4.56.v20240826.jar:/content/kafka_2.12-3.7.2/bin/../libs/jetty-continuation-9.4.56.v20240826.jar:/content/kafka_2.12-3.7.2/bin/../libs/jetty-http-9.4.56.v20240826.jar:/content/kafka_2.12-3.7.2/bin/../libs/jetty-io-9.4.56.v20240826.jar:/content/kafka_2.12-3.7.2/bin/../libs/jetty-security-9.4.56.v20240826.jar:/content/kafka_2.12-3.7.2/bin/../libs/jetty-server-9.4.56.v20240826.jar:/content/kafka_2.12-3.7.2/bin/../libs/jetty-servlet-9.4.56.v20240826.jar:/content/kafka_2.12-3.7.2/bin/../libs/jetty-servlets-9.4.56.v20240826.jar:/content/kafka_2.12-3.7.2/bin/../libs/jetty-util-9.4.56.v20240826.jar:/content/kafka_2.12-3.7.2/bin/../libs/jetty-util-ajax-9.4.56.v20240826.jar:/content/kafka_2.12-3.7.2/bin/../libs/jline-3.25.1.jar:/content/kafka_2.12-3.7.2/bin/../libs/jopt-simple-5.0.4.jar:/content/kafka_2.12-3.7.2/bin/../libs/jose4j-0.9.4.jar:/content/kafka_2.12-3.7.2/bin/../libs/jsr305-3.0.2.jar:/content/kafka_2.12-3.7.2/bin/../libs/kafka_2.12-3.7.2.jar:/content/kafka_2.12-3.7.2/bin/../libs/kafka-clients-3.7.2.jar:/content/kafka_2.12-3.7.2/bin/../libs/kafka-group-coordinator-3.7.2.jar:/content/kafka_2.12-3.7.2/bin/../libs/kafka-log4j-appender-3.7.2.jar:/content/kafka_2.12-3.7.2/bin/../libs/kafka-metadata-3.7.2.jar:/content/kafka_2.12-3.7.2/bin/../libs/kafka-raft-3.7.2.jar:/content/kafka_2.12-3.7.2/bin/../libs/kafka-server-3.7.2.jar:/content/kafka_2.12-3.7.2/bin/../libs/kafka-server-common-3.7.2.jar:/content/kafka_2.12-3.7.2/bin/../libs/kafka-shell-3.7.2.jar:/content/kafka_2.12-3.7.2/bin/../libs/kafka-storage-3.7.2.jar:/content/kafka_2.12-3.7.2/bin/../libs/kafka-storage-api-3.7.2.jar:/content/kafka_2.12-3.7.2/bin/../libs/kafka-streams-3.7.2.jar:/content/kafka_2.12-3.7.2/bin/../libs/kafka-streams-examples-3.7.2.jar:/content/kafka_2.12-3.7.2/bin/../libs/kafka-streams-scala_2.12-3.7.2.jar:/content/kafka_2.12-3.7.2/bin/../libs/kafka-streams-test-utils-3.7.2.jar:/content/kafka_2.12-3.7.2/bin/../libs/kafka-tools-3.7.2.jar:/content/kafka_2.12-3.7.2/bin/../libs/kafka-tools-api-3.7.2.jar:/content/kafka_2.12-3.7.2/bin/../libs/lz4-java-1.8.0.jar:/content/kafka_2.12-3.7.2/bin/../libs/maven-artifact-3.8.8.jar:/content/kafka_2.12-3.7.2/bin/../libs/metrics-core-2.2.0.jar:/content/kafka_2.12-3.7.2/bin/../libs/metrics-core-4.1.12.1.jar:/content/kafka_2.12-3.7.2/bin/../libs/netty-buffer-4.1.115.Final.jar:/content/kafka_2.12-3.7.2/bin/../libs/netty-codec-4.1.115.Final.jar:/content/kafka_2.12-3.7.2/bin/../libs/netty-common-4.1.115.Final.jar:/content/kafka_2.12-3.7.2/bin/../libs/netty-handler-4.1.115.Final.jar:/content/kafka_2.12-3.7.2/bin/../libs/netty-resolver-4.1.115.Final.jar:/content/kafka_2.12-3.7.2/bin/../libs/netty-transport-4.1.115.Final.jar:/content/kafka_2.12-3.7.2/bin/../libs/netty-transport-classes-epoll-4.1.115.Final.jar:/content/kafka_2.12-3.7.2/bin/../libs/netty-transport-native-epoll-4.1.115.Final.jar:/content/kafka_2.12-3.7.2/bin/../libs/netty-transport-native-unix-common-4.1.115.Final.jar:/content/kafka_2.12-3.7.2/bin/../libs/opentelemetry-proto-1.0.0-alpha.jar:/content/kafka_2.12-3.7.2/bin/../libs/osgi-resource-locator-1.0.3.jar:/content/kafka_2.12-3.7.2/bin/../libs/paranamer-2.8.jar:/content/kafka_2.12-3.7.2/bin/../libs/pcollections-4.0.1.jar:/content/kafka_2.12-3.7.2/bin/../libs/plexus-utils-3.3.1.jar:/content/kafka_2.12-3.7.2/bin/../libs/protobuf-java-3.25.5.jar:/content/kafka_2.12-3.7.2/bin/../libs/reflections-0.10.2.jar:/content/kafka_2.12-3.7.2/bin/../libs/reload4j-1.2.25.jar:/content/kafka_2.12-3.7.2/bin/../libs/rocksdbjni-7.9.2.jar:/content/kafka_2.12-3.7.2/bin/../libs/scala-collection-compat_2.12-2.10.0.jar:/content/kafka_2.12-3.7.2/bin/../libs/scala-java8-compat_2.12-1.0.2.jar:/content/kafka_2.12-3.7.2/bin/../libs/scala-library-2.12.18.jar:/content/kafka_2.12-3.7.2/bin/../libs/scala-logging_2.12-3.9.4.jar:/content/kafka_2.12-3.7.2/bin/../libs/scala-reflect-2.12.18.jar:/content/kafka_2.12-3.7.2/bin/../libs/slf4j-api-1.7.36.jar:/content/kafka_2.12-3.7.2/bin/../libs/slf4j-reload4j-1.7.36.jar:/content/kafka_2.12-3.7.2/bin/../libs/snappy-java-1.1.10.5.jar:/content/kafka_2.12-3.7.2/bin/../libs/swagger-annotations-2.2.8.jar:/content/kafka_2.12-3.7.2/bin/../libs/trogdor-3.7.2.jar:/content/kafka_2.12-3.7.2/bin/../libs/zookeeper-3.8.4.jar:/content/kafka_2.12-3.7.2/bin/../libs/zookeeper-jute-3.8.4.jar:/content/kafka_2.12-3.7.2/bin/../libs/zstd-jni-1.5.6-4.jar kafka.Kafka ./kafka_2.12-3.7.2/config/server.properties\n",
      "root        3384     880  0 02:26 ?        00:00:00 /bin/bash -c ps -ef | grep kafka\n",
      "root        3386    3384  0 02:26 ?        00:00:00 grep kafka\n"
     ]
    }
   ],
   "source": [
    "!ps -ef | grep kafka"
   ]
  },
  {
   "cell_type": "code",
   "execution_count": 12,
   "id": "K8AQglnVrAQ3",
   "metadata": {
    "colab": {
     "base_uri": "https://localhost:8080/"
    },
    "executionInfo": {
     "elapsed": 4526,
     "status": "ok",
     "timestamp": 1752460023322,
     "user": {
      "displayName": "Duy Hoang",
      "userId": "14942285181523211297"
     },
     "user_tz": -420
    },
    "id": "K8AQglnVrAQ3",
    "outputId": "1c01693a-7173-4af7-90eb-b101682cbe32"
   },
   "outputs": [
    {
     "name": "stdout",
     "output_type": "stream",
     "text": [
      "Created topic news-stream.\n"
     ]
    }
   ],
   "source": [
    "!./kafka_2.12-3.7.2/bin/kafka-topics.sh --create --bootstrap-server 127.0.0.1:9092 \\\n",
    "    --replication-factor 1 --partitions 1 --topic news-stream"
   ]
  },
  {
   "cell_type": "code",
   "execution_count": 13,
   "id": "l-Ehpzapr-A5",
   "metadata": {
    "colab": {
     "base_uri": "https://localhost:8080/"
    },
    "executionInfo": {
     "elapsed": 3906,
     "status": "ok",
     "timestamp": 1752460027232,
     "user": {
      "displayName": "Duy Hoang",
      "userId": "14942285181523211297"
     },
     "user_tz": -420
    },
    "id": "l-Ehpzapr-A5",
    "outputId": "5d4552a9-47dc-4488-b05a-81f2e0b83cb3"
   },
   "outputs": [
    {
     "name": "stdout",
     "output_type": "stream",
     "text": [
      "Topic: news-stream\tTopicId: AuOVcEghSdCpF4iAj-4EFA\tPartitionCount: 1\tReplicationFactor: 1\tConfigs: \n",
      "\tTopic: news-stream\tPartition: 0\tLeader: 0\tReplicas: 0\tIsr: 0\n"
     ]
    }
   ],
   "source": [
    "!./kafka_2.12-3.7.2/bin/kafka-topics.sh --describe --bootstrap-server 127.0.0.1:9092 --topic news-stream"
   ]
  },
  {
   "cell_type": "markdown",
   "id": "JfHUxn9gtpGS",
   "metadata": {
    "id": "JfHUxn9gtpGS"
   },
   "source": [
    "#### Consumer"
   ]
  },
  {
   "cell_type": "code",
   "execution_count": 14,
   "id": "XsW2SrGH72XT",
   "metadata": {
    "executionInfo": {
     "elapsed": 1,
     "status": "ok",
     "timestamp": 1752460027235,
     "user": {
      "displayName": "Duy Hoang",
      "userId": "14942285181523211297"
     },
     "user_tz": -420
    },
    "id": "XsW2SrGH72XT"
   },
   "outputs": [],
   "source": [
    "# !pip install --upgrade transformers"
   ]
  },
  {
   "cell_type": "code",
   "execution_count": 15,
   "id": "ygrikoVNtqbm",
   "metadata": {
    "executionInfo": {
     "elapsed": 22565,
     "status": "ok",
     "timestamp": 1752460049801,
     "user": {
      "displayName": "Duy Hoang",
      "userId": "14942285181523211297"
     },
     "user_tz": -420
    },
    "id": "ygrikoVNtqbm"
   },
   "outputs": [],
   "source": [
    "import os, json, torch, findspark\n",
    "from pyspark.sql import SparkSession\n",
    "from pyspark.ml.functions import predict_batch_udf\n",
    "from pyspark.sql.functions import from_json, col, pandas_udf, udf, struct\n",
    "from pyspark.sql.types import StructType, StructField, StringType\n",
    "import pandas as pd\n",
    "from transformers import AutoTokenizer, AutoModel\n",
    "from threading import Thread\n",
    "import pickle"
   ]
  },
  {
   "cell_type": "code",
   "execution_count": 16,
   "id": "aQJ92KrnvVbi",
   "metadata": {
    "executionInfo": {
     "elapsed": 3,
     "status": "ok",
     "timestamp": 1752460049802,
     "user": {
      "displayName": "Duy Hoang",
      "userId": "14942285181523211297"
     },
     "user_tz": -420
    },
    "id": "aQJ92KrnvVbi"
   },
   "outputs": [],
   "source": [
    "os.environ[\"SPARK_HOME\"] = \"/content/spark-3.5.6-bin-hadoop3\"\n",
    "findspark.init()"
   ]
  },
  {
   "cell_type": "code",
   "execution_count": 17,
   "id": "r9SewOeVvbXB",
   "metadata": {
    "executionInfo": {
     "elapsed": 4,
     "status": "ok",
     "timestamp": 1752460049807,
     "user": {
      "displayName": "Duy Hoang",
      "userId": "14942285181523211297"
     },
     "user_tz": -420
    },
    "id": "r9SewOeVvbXB"
   },
   "outputs": [],
   "source": [
    "spark_jars_packages = (\n",
    "    \"org.apache.spark:spark-sql-kafka-0-10_2.12:3.5.6,\"\n",
    "    \"org.postgresql:postgresql:42.6.0\"\n",
    ")"
   ]
  },
  {
   "cell_type": "code",
   "execution_count": 18,
   "id": "3_SsAT1pZ49Z",
   "metadata": {
    "executionInfo": {
     "elapsed": 4,
     "status": "ok",
     "timestamp": 1752460049814,
     "user": {
      "displayName": "Duy Hoang",
      "userId": "14942285181523211297"
     },
     "user_tz": -420
    },
    "id": "3_SsAT1pZ49Z"
   },
   "outputs": [],
   "source": [
    "    # .config(\"spark.driver.memory\", \"3g\") \\\n",
    "    # .config(\"spark.executor.memory\", \"3g\") \\\n",
    "    # .config(\"spark.sql.shuffle.partitions\", \"2\") \\\n",
    "    # .config(\"spark.default.parallelism\", \"2\") \\\n",
    "    # .config(\"spark.sql.execution.arrow.pyspark.enabled\", \"true\") \\"
   ]
  },
  {
   "cell_type": "code",
   "execution_count": 19,
   "id": "QLptaIOfvaD_",
   "metadata": {
    "executionInfo": {
     "elapsed": 33922,
     "status": "ok",
     "timestamp": 1752460083737,
     "user": {
      "displayName": "Duy Hoang",
      "userId": "14942285181523211297"
     },
     "user_tz": -420
    },
    "id": "QLptaIOfvaD_"
   },
   "outputs": [],
   "source": [
    "spark = SparkSession.builder \\\n",
    "    .appName(\"KafkaSparkABSA_NER\") \\\n",
    "    .config(\"spark.jars.packages\", spark_jars_packages) \\\n",
    "    .config(\"spark.driver.memory\", \"5g\") \\\n",
    "    .config(\"spark.executor.memory\", \"5g\") \\\n",
    "    .getOrCreate()"
   ]
  },
  {
   "cell_type": "code",
   "execution_count": 20,
   "id": "L9EVZreRvals",
   "metadata": {
    "executionInfo": {
     "elapsed": 3509,
     "status": "ok",
     "timestamp": 1752460087247,
     "user": {
      "displayName": "Duy Hoang",
      "userId": "14942285181523211297"
     },
     "user_tz": -420
    },
    "id": "L9EVZreRvals"
   },
   "outputs": [],
   "source": [
    "schema = StructType([StructField(\"text\", StringType(), True)])\n",
    "\n",
    "df_raw = (\n",
    "    spark.readStream\n",
    "         .format(\"kafka\")\n",
    "         .option(\"kafka.bootstrap.servers\", \"localhost:9092\")\n",
    "         .option(\"subscribe\", \"news-stream\")\n",
    "         .option(\"startingOffsets\", \"earliest\")\n",
    "        #  .option(\"maxOffsetsPerTrigger\", \"20\")\n",
    "         .load()\n",
    ")"
   ]
  },
  {
   "cell_type": "code",
   "execution_count": 21,
   "id": "sOSJk_Po3VcE",
   "metadata": {
    "executionInfo": {
     "elapsed": 2,
     "status": "ok",
     "timestamp": 1752460087259,
     "user": {
      "displayName": "Duy Hoang",
      "userId": "14942285181523211297"
     },
     "user_tz": -420
    },
    "id": "sOSJk_Po3VcE"
   },
   "outputs": [],
   "source": [
    "def build_text(item):\n",
    "    parts = [item.get(\"post_content\", \"\")]\n",
    "    if \"comment\" in item:\n",
    "        parts += item[\"comment\"].get(\"parent_comment_texts\", [])\n",
    "        ct = item[\"comment\"].get(\"comment_text\", \"\")\n",
    "        if ct:\n",
    "            parts.append(ct)\n",
    "    parts += [d.get(\"image_description\", \"\") for d in item.get(\"image_descriptions\", [])]\n",
    "    return \"\\n\".join([p for p in parts if p])"
   ]
  },
  {
   "cell_type": "code",
   "execution_count": 22,
   "id": "EvVrWI-XpYMq",
   "metadata": {
    "executionInfo": {
     "elapsed": 15,
     "status": "ok",
     "timestamp": 1752460087274,
     "user": {
      "displayName": "Duy Hoang",
      "userId": "14942285181523211297"
     },
     "user_tz": -420
    },
    "id": "EvVrWI-XpYMq"
   },
   "outputs": [],
   "source": [
    "@udf(StringType())\n",
    "def extract_all_fields(json_str):\n",
    "    try:\n",
    "        item = json.loads(json_str)\n",
    "        text_all = build_text(item)\n",
    "        text_content = item.get(\"post_content\", \"\")\n",
    "        creation_time = str(item.get(\"creation_time\", \"\"))\n",
    "        total_reactions = int(item.get(\"total_reactions\", 0))\n",
    "        share_count = int(item.get(\"share_count\", 0))\n",
    "        return json.dumps({\n",
    "            \"text_all\": text_all,\n",
    "            \"text_content\": text_content,\n",
    "            \"creation_time\": creation_time,\n",
    "            \"total_reactions\": total_reactions,\n",
    "            \"share_count\": share_count\n",
    "        })\n",
    "    except:\n",
    "        return json.dumps({\n",
    "            \"text_all\": \"\",\n",
    "            \"text_content\": \"\",\n",
    "            \"creation_time\": \"\",\n",
    "            \"total_reactions\": 0,\n",
    "            \"share_count\": 0\n",
    "        })"
   ]
  },
  {
   "cell_type": "code",
   "execution_count": 23,
   "id": "_gJGULbtvufq",
   "metadata": {
    "executionInfo": {
     "elapsed": 6,
     "status": "ok",
     "timestamp": 1752460087282,
     "user": {
      "displayName": "Duy Hoang",
      "userId": "14942285181523211297"
     },
     "user_tz": -420
    },
    "id": "_gJGULbtvufq"
   },
   "outputs": [],
   "source": [
    "schema = StructType([\n",
    "    StructField(\"text_all\", StringType(), True),\n",
    "    StructField(\"text_content\", StringType(), True),\n",
    "    StructField(\"creation_time\", StringType(), True),\n",
    "    StructField(\"total_reactions\", StringType(), True),\n",
    "    StructField(\"share_count\", StringType(), True)\n",
    "])"
   ]
  },
  {
   "cell_type": "code",
   "execution_count": 24,
   "id": "p1tTCoedu3sI",
   "metadata": {
    "executionInfo": {
     "elapsed": 434,
     "status": "ok",
     "timestamp": 1752460087718,
     "user": {
      "displayName": "Duy Hoang",
      "userId": "14942285181523211297"
     },
     "user_tz": -420
    },
    "id": "p1tTCoedu3sI"
   },
   "outputs": [],
   "source": [
    "df_extracted = (\n",
    "    df_raw\n",
    "      .selectExpr(\"CAST(value AS STRING) as json_str\")\n",
    "      .withColumn(\"json_cleaned\", extract_all_fields(col(\"json_str\")))\n",
    ")"
   ]
  },
  {
   "cell_type": "code",
   "execution_count": 25,
   "id": "Zu6kzPqQpia2",
   "metadata": {
    "executionInfo": {
     "elapsed": 243,
     "status": "ok",
     "timestamp": 1752460087962,
     "user": {
      "displayName": "Duy Hoang",
      "userId": "14942285181523211297"
     },
     "user_tz": -420
    },
    "id": "Zu6kzPqQpia2"
   },
   "outputs": [],
   "source": [
    "df = (\n",
    "    df_extracted\n",
    "      .withColumn(\"data\", from_json(col(\"json_cleaned\"), schema))\n",
    "      .select(\"data.*\")\n",
    ")"
   ]
  },
  {
   "cell_type": "code",
   "execution_count": null,
   "id": "TmChL353FEkK",
   "metadata": {
    "executionInfo": {
     "elapsed": 1,
     "status": "ok",
     "timestamp": 1752460087970,
     "user": {
      "displayName": "Duy Hoang",
      "userId": "14942285181523211297"
     },
     "user_tz": -420
    },
    "id": "TmChL353FEkK"
   },
   "outputs": [],
   "source": [
    "def start_producer():\n",
    "    # sleep(20)\n",
    "    print(\"Starting producer...\")\n",
    "    producer = KafkaProducer(\n",
    "        bootstrap_servers='localhost:9092',\n",
    "        value_serializer=lambda v: json.dumps(v).encode('utf-8')\n",
    "    )\n",
    "\n",
    "    data_files = [\n",
    "    '/content/drive/MyDrive/ds200/final_project/data_test/K14vn.json',\n",
    "    '/content/drive/MyDrive/ds200/final_project/data_test/vietnamnet.json',\n",
    "    '/content/drive/MyDrive/ds200/final_project/data_test/Theanh28.json'\n",
    "    ]\n",
    "    data = []\n",
    "    for file in data_files:\n",
    "        with open(file) as f:\n",
    "            data += json.load(f)\n",
    "\n",
    "    print(f\"Sending {len(data)} items to Kafka topic 'news-stream'...\")\n",
    "    # data = data[:36]\n",
    "    for item in data:\n",
    "        if stop_flag.is_set():\n",
    "          print(\"Producer stopped early\")\n",
    "          break\n",
    "        producer.send(\"news-stream\", item)\n",
    "        # print(f\"→ Sent: {item.get('post_content', '')[:50]}...\")\n",
    "        sleep(10)\n",
    "\n",
    "    producer.flush()\n",
    "    print(\"Producer done sending.\")"
   ]
  },
  {
   "cell_type": "code",
   "execution_count": 27,
   "id": "mFYktU-g664v",
   "metadata": {
    "executionInfo": {
     "elapsed": 55,
     "status": "ok",
     "timestamp": 1752460088026,
     "user": {
      "displayName": "Duy Hoang",
      "userId": "14942285181523211297"
     },
     "user_tz": -420
    },
    "id": "mFYktU-g664v"
   },
   "outputs": [],
   "source": [
    "device = \"cuda\" if torch.cuda.is_available() else \"cpu\""
   ]
  },
  {
   "cell_type": "code",
   "execution_count": 28,
   "id": "NvJPeHFAxcKa",
   "metadata": {
    "executionInfo": {
     "elapsed": 224,
     "status": "ok",
     "timestamp": 1752460088258,
     "user": {
      "displayName": "Duy Hoang",
      "userId": "14942285181523211297"
     },
     "user_tz": -420
    },
    "id": "NvJPeHFAxcKa"
   },
   "outputs": [],
   "source": [
    "from fuzzywuzzy import fuzz"
   ]
  },
  {
   "cell_type": "code",
   "execution_count": 29,
   "id": "0S-iLj1f4osK",
   "metadata": {
    "colab": {
     "base_uri": "https://localhost:8080/"
    },
    "executionInfo": {
     "elapsed": 20,
     "status": "ok",
     "timestamp": 1752460088279,
     "user": {
      "displayName": "Duy Hoang",
      "userId": "14942285181523211297"
     },
     "user_tz": -420
    },
    "id": "0S-iLj1f4osK",
    "outputId": "3237e4b4-8470-4789-ba65-2e10486d5f5c"
   },
   "outputs": [
    {
     "name": "stdout",
     "output_type": "stream",
     "text": [
      "root\n",
      " |-- text_all: string (nullable = true)\n",
      " |-- text_content: string (nullable = true)\n",
      " |-- creation_time: string (nullable = true)\n",
      " |-- total_reactions: string (nullable = true)\n",
      " |-- share_count: string (nullable = true)\n",
      "\n"
     ]
    }
   ],
   "source": [
    "df.printSchema()"
   ]
  },
  {
   "cell_type": "markdown",
   "id": "b9uIcTGzuX2k",
   "metadata": {
    "id": "b9uIcTGzuX2k"
   },
   "source": [
    "hàm make_predict_fn() này dùng strategy tính embedding cho câu trước rồi mới vào phần mô hình nằm trong class"
   ]
  },
  {
   "cell_type": "code",
   "execution_count": 30,
   "id": "2wDRJ8mnvR4F",
   "metadata": {
    "executionInfo": {
     "elapsed": 13,
     "status": "ok",
     "timestamp": 1752460088302,
     "user": {
      "displayName": "Duy Hoang",
      "userId": "14942285181523211297"
     },
     "user_tz": -420
    },
    "id": "2wDRJ8mnvR4F"
   },
   "outputs": [],
   "source": [
    "def make_predict_fn():\n",
    "    import torch\n",
    "    import torch.nn as nn\n",
    "    import json, joblib, stanza, re\n",
    "    from transformers import AutoTokenizer, AutoModel, AutoModelForTokenClassification, pipeline\n",
    "    from unidecode import unidecode\n",
    "    from fuzzywuzzy import fuzz\n",
    "\n",
    "    device = \"cuda\" if torch.cuda.is_available() else \"cpu\"\n",
    "\n",
    "    # === Load NER ===\n",
    "    tokenizer_ner = AutoTokenizer.from_pretrained(\"NlpHUST/ner-vietnamese-electra-base\")\n",
    "    model_ner = AutoModelForTokenClassification.from_pretrained(\"NlpHUST/ner-vietnamese-electra-base\")\n",
    "    ner_pipeline = pipeline(\"ner\", model=model_ner, tokenizer=tokenizer_ner, aggregation_strategy=\"simple\")\n",
    "\n",
    "    # === Load Stanza ===\n",
    "    stanza.download('vi')\n",
    "    nlp_stanza = stanza.Pipeline('vi', processors='tokenize,pos,lemma,depparse')\n",
    "\n",
    "    # === Load alias mapping ===\n",
    "    alias_path = \"/content/drive/MyDrive/ds200/final_project/celebrity_aliases.json\"\n",
    "    with open(alias_path, encoding=\"utf-8\") as f:\n",
    "        alias_dict = json.load(f)\n",
    "\n",
    "    # === Load ABSA ===\n",
    "    MODEL_DIR = \"/content/drive/MyDrive/ds200/final_project/model/saved_model\"\n",
    "    tokenizer_embed = AutoTokenizer.from_pretrained(MODEL_DIR)\n",
    "    model_token = AutoModel.from_pretrained(MODEL_DIR).to(device).eval()\n",
    "    aspect_encoder = joblib.load(\"/content/drive/MyDrive/ds200/final_project/model/aspect_encoder.pkl\")\n",
    "    sentiment_encoder = joblib.load(\"/content/drive/MyDrive/ds200/final_project/model/sentiment_encoder.pkl\")\n",
    "\n",
    "    with open(\"/content/drive/MyDrive/ds200/final_project/model/classifier_config.json\") as f:\n",
    "        cfg = json.load(f)\n",
    "\n",
    "    class MultiTaskClassifier(nn.Module):\n",
    "        def __init__(self, input_dim, lstm_hidden_dim, lstm_layers, hidden_dims,\n",
    "                     num_aspects, num_sentiments, task_specific_dims=None):\n",
    "            super().__init__()\n",
    "            self.bilstm = nn.LSTM(input_dim, lstm_hidden_dim, lstm_layers,\n",
    "                                  batch_first=True, bidirectional=True)\n",
    "            layers, prev = [], lstm_hidden_dim * 2\n",
    "            for h in hidden_dims:\n",
    "                layers += [nn.Linear(prev, h), nn.ReLU(), nn.Dropout(0.3), nn.BatchNorm1d(h)]\n",
    "                prev = h\n",
    "            self.shared = nn.Sequential(*layers)\n",
    "            if task_specific_dims is None:\n",
    "                task_specific_dims = [prev // 2, prev // 4]\n",
    "            self.aspect_1_layers = self._head(prev, task_specific_dims, num_aspects)\n",
    "            self.aspect_2_layers = self._head(prev, task_specific_dims, num_aspects)\n",
    "            self.sentiment_1_layers = self._head(prev, task_specific_dims, num_sentiments)\n",
    "            self.sentiment_2_layers = self._head(prev, task_specific_dims, num_sentiments)\n",
    "\n",
    "        def _head(self, inp, hs, out_dim):\n",
    "            layers = []\n",
    "            for h in hs:\n",
    "                layers += [nn.Linear(inp, h), nn.ReLU(), nn.Dropout(0.2)]\n",
    "                inp = h\n",
    "            layers.append(nn.Linear(inp, out_dim))\n",
    "            return nn.Sequential(*layers)\n",
    "\n",
    "        def forward(self, x):\n",
    "            out, _ = self.bilstm(x)\n",
    "            pooled = out.mean(1)\n",
    "            shared = self.shared(pooled)\n",
    "            return (self.aspect_1_layers(shared), self.aspect_2_layers(shared),\n",
    "                    self.sentiment_1_layers(shared), self.sentiment_2_layers(shared))\n",
    "\n",
    "    classifier = MultiTaskClassifier(**cfg).to(device)\n",
    "    classifier.load_state_dict(torch.load(\n",
    "        \"/content/drive/MyDrive/ds200/final_project/model/classifier.pt\", map_location=device\n",
    "    ))\n",
    "    classifier.eval()\n",
    "\n",
    "    def load_alias_mapping(alias_path):\n",
    "        with open(alias_path, \"r\", encoding=\"utf-8\") as f:\n",
    "            alias_dict = json.load(f)\n",
    "        alias_to_name = {}\n",
    "        for name, aliases in alias_dict.items():\n",
    "            alias_to_name[unidecode(name).lower()] = name\n",
    "            for alias in aliases:\n",
    "                alias_to_name[unidecode(alias).lower()] = name\n",
    "        return alias_to_name\n",
    "\n",
    "    def replace_alias_with_canonical_in_subjects(text, alias_to_name, subjects):\n",
    "        for subj in subjects:\n",
    "            subj_norm = unidecode(subj).lower()\n",
    "            for canonical_name, aliases in alias_to_name.items():\n",
    "                aliases_norm = [unidecode(alias).lower() for alias in aliases]\n",
    "                if subj_norm in aliases_norm:\n",
    "                    text = text.replace(subj, canonical_name)\n",
    "                    break\n",
    "        return text\n",
    "\n",
    "    def extract_subjects(doc):\n",
    "        subjects = []\n",
    "        for sent in doc.sentences:\n",
    "            for word in sent.words:\n",
    "                if word.deprel in [\"nsubj\", \"nsubj:pass\"]:\n",
    "                    phrase = [word.text]\n",
    "                    for w in sent.words:\n",
    "                        if w.head == word.id and w.deprel in [\"compound\", \"flat\", \"nmod\"]:\n",
    "                            phrase.append(w.text)\n",
    "                    phrase_sorted = sorted(set(phrase), key=lambda x: doc.text.lower().find(x.lower()))\n",
    "                    subject_phrase = \" \".join(phrase_sorted)\n",
    "                    subjects.append(subject_phrase)\n",
    "        return list(set(subjects))\n",
    "\n",
    "    def capitalize_subjects(text, subjects):\n",
    "        for subj in subjects:\n",
    "            if subj.strip():\n",
    "                text = re.sub(r'\\b' + re.escape(subj) + r'\\b', subj.title(), text, flags=re.IGNORECASE)\n",
    "        return text\n",
    "\n",
    "    def resolve_entity_to_celebrity_fuzzy(entity_word, alias_dict, threshold=90):\n",
    "        word_clean = unidecode(entity_word)\n",
    "        best_score = 0\n",
    "        best_match = None\n",
    "        for canonical, aliases in alias_dict.items():\n",
    "            for alias in aliases:\n",
    "                alias_clean = unidecode(alias)\n",
    "                score = fuzz.ratio(word_clean, alias_clean)\n",
    "                if score > best_score and score >= threshold:\n",
    "                    best_score = score\n",
    "                    best_match = canonical\n",
    "        return best_match\n",
    "\n",
    "    def preprocess_and_ner(text):\n",
    "        alias_to_name = load_alias_mapping(alias_path)\n",
    "\n",
    "        # Phân tích ban đầu để tìm chủ ngữ\n",
    "        doc = nlp_stanza(text)\n",
    "        subjects = extract_subjects(doc)\n",
    "\n",
    "        # Chỉ thay alias trong cụm chủ ngữ\n",
    "        text = replace_alias_with_canonical_in_subjects(text, alias_to_name, subjects)\n",
    "\n",
    "        # Phân tích lại sau khi thay thế alias\n",
    "        doc = nlp_stanza(text)\n",
    "        subjects = extract_subjects(doc)\n",
    "\n",
    "        # Viết hoa các chủ ngữ\n",
    "        text_modified = capitalize_subjects(text, subjects)\n",
    "\n",
    "        # Dự đoán NER\n",
    "        ner_results = ner_pipeline(text_modified)\n",
    "        print(ner_results)\n",
    "        person_entities = [ent for ent in ner_results if ent[\"entity_group\"] == \"PERSON\"]\n",
    "        print(person_entities)\n",
    "        resolved_entities = []\n",
    "        seen = set()\n",
    "\n",
    "        for ent in person_entities:\n",
    "            word = ent[\"word\"]\n",
    "            canonical = resolve_entity_to_celebrity_fuzzy(word, alias_dict)\n",
    "            name = canonical if canonical else word\n",
    "            if name not in seen:\n",
    "                resolved_entities.append(name)\n",
    "                seen.add(name)\n",
    "\n",
    "        return resolved_entities\n",
    "\n",
    "    def predict(batch):\n",
    "        import numpy as np\n",
    "        results = []\n",
    "        rows = batch.tolist() if isinstance(batch, np.ndarray) else list(batch)\n",
    "\n",
    "        for row in rows:\n",
    "            text_all = row[0] or \"\"\n",
    "            text_content = row[1] or \"\"\n",
    "\n",
    "            # Sử dụng preprocess_and_ner trực tiếp\n",
    "            ner_content = preprocess_and_ner(text_content)\n",
    "            ner_all = preprocess_and_ner(text_all)\n",
    "\n",
    "            enc = tokenizer_embed(\n",
    "                [text_all],\n",
    "                return_tensors=\"pt\",\n",
    "                padding=\"max_length\",\n",
    "                truncation=True,\n",
    "                max_length=256\n",
    "            ).to(device)\n",
    "            with torch.no_grad():\n",
    "                emb = model_token(**enc).last_hidden_state\n",
    "                a1, a2, s1, s2 = classifier(emb)\n",
    "            absa = {\n",
    "                \"aspect1\": aspect_encoder.classes_[int(a1[0].argmax())],\n",
    "                \"aspect2\": aspect_encoder.classes_[int(a2[0].argmax())],\n",
    "                \"sent1\": sentiment_encoder.classes_[int(s1[0].argmax())],\n",
    "                \"sent2\": sentiment_encoder.classes_[int(s2[0].argmax())],\n",
    "            }\n",
    "\n",
    "            results.append({\n",
    "                \"ner_content\": json.dumps(ner_content, ensure_ascii=False),\n",
    "                \"ner_all\": json.dumps(ner_all, ensure_ascii=False),\n",
    "                \"aspect1\": absa[\"aspect1\"],\n",
    "                \"aspect2\": absa[\"aspect2\"],\n",
    "                \"sent1\": absa[\"sent1\"],\n",
    "                \"sent2\": absa[\"sent2\"],\n",
    "            })\n",
    "\n",
    "        return results\n",
    "\n",
    "    return predict"
   ]
  },
  {
   "cell_type": "markdown",
   "id": "_-aZsY36uQ4R",
   "metadata": {
    "id": "_-aZsY36uQ4R"
   },
   "source": [
    "dùng make_predict_fn() ở dưới cho 2 strategy cho hết cả embedding và cả mô hình vào trong 1 class"
   ]
  },
  {
   "cell_type": "code",
   "execution_count": 31,
   "id": "x7zAZqJF7Jm3",
   "metadata": {
    "executionInfo": {
     "elapsed": 10,
     "status": "ok",
     "timestamp": 1752460088315,
     "user": {
      "displayName": "Duy Hoang",
      "userId": "14942285181523211297"
     },
     "user_tz": -420
    },
    "id": "x7zAZqJF7Jm3"
   },
   "outputs": [],
   "source": [
    "# def make_predict_fn():\n",
    "#     import torch\n",
    "#     import torch.nn as nn\n",
    "#     import json, joblib, stanza, re\n",
    "#     from transformers import AutoTokenizer, AutoModel, AutoModelForTokenClassification, pipeline\n",
    "#     from unidecode import unidecode\n",
    "#     from fuzzywuzzy import fuzz\n",
    "\n",
    "#     device = \"cuda\" if torch.cuda.is_available() else \"cpu\"\n",
    "\n",
    "#     # === Load NER model ===\n",
    "#     tokenizer_ner = AutoTokenizer.from_pretrained(\"NlpHUST/ner-vietnamese-electra-base\")\n",
    "#     model_ner = AutoModelForTokenClassification.from_pretrained(\"NlpHUST/ner-vietnamese-electra-base\").to(device)\n",
    "#     ner_pipeline = pipeline(\"ner\", model=model_ner, tokenizer=tokenizer_ner, aggregation_strategy=\"simple\")\n",
    "\n",
    "#     # === Load Stanza for dependency parsing ===\n",
    "#     stanza.download('vi')\n",
    "#     nlp_stanza = stanza.Pipeline('vi', processors='tokenize,pos,lemma,depparse')\n",
    "\n",
    "#     # === Load alias mapping ===\n",
    "#     alias_path = \"/content/drive/MyDrive/ds200/final_project/celebrity_aliases.json\"\n",
    "#     with open(alias_path, encoding=\"utf-8\") as f:\n",
    "#         alias_dict = json.load(f)\n",
    "\n",
    "#     def load_alias_mapping(d):\n",
    "#         inv = {}\n",
    "#         for name, aliases in d.items():\n",
    "#             inv[name.lower()] = name\n",
    "#             for a in aliases:\n",
    "#                 inv[a.lower()] = name\n",
    "#         return inv\n",
    "\n",
    "#     alias_to_name = load_alias_mapping(alias_dict)\n",
    "\n",
    "#     # === Load checkpoint & model config ===\n",
    "#     ckpt = torch.load(\"/content/drive/MyDrive/ds200/final_project/model/saved_model/model.pt\", map_location=device)\n",
    "#     config_keys = {k: ckpt[k] for k in ckpt if k != 'model_state_dict'}\n",
    "\n",
    "#     MODEL_DIR = \"/content/drive/MyDrive/ds200/final_project/model/saved_model\"\n",
    "\n",
    "#     # === Define classifier ===\n",
    "#     class MultiTaskClassifierWithEmbedding(nn.Module):\n",
    "#         def __init__(self, model_name, lstm_hidden_dim, lstm_layers,\n",
    "#                      hidden_dims, num_aspects, num_sentiments,\n",
    "#                      task_specific_dims=None, device='cuda'):\n",
    "#             super().__init__()\n",
    "#             self.device = device\n",
    "#             self.tokenizer = AutoTokenizer.from_pretrained(MODEL_DIR)\n",
    "#             self.embedding_model = AutoModel.from_pretrained(MODEL_DIR).to(device).eval()\n",
    "#             for p in self.embedding_model.parameters():\n",
    "#                 p.requires_grad = False\n",
    "\n",
    "#             input_dim = self.embedding_model.config.hidden_size\n",
    "#             self.bilstm = nn.LSTM(input_dim, lstm_hidden_dim, lstm_layers,\n",
    "#                                   batch_first=True, bidirectional=True)\n",
    "#             prev = lstm_hidden_dim * 2\n",
    "#             layers = []\n",
    "#             for h in hidden_dims:\n",
    "#                 layers += [nn.Linear(prev, h), nn.ReLU(), nn.Dropout(0.3), nn.BatchNorm1d(h)]\n",
    "#                 prev = h\n",
    "#             self.shared = nn.Sequential(*layers)\n",
    "#             if task_specific_dims is None:\n",
    "#                 task_specific_dims = [prev // 2, prev // 4]\n",
    "#             self.aspect_1_layers = self._create_head(prev, task_specific_dims, num_aspects)\n",
    "#             self.aspect_2_layers = self._create_head(prev, task_specific_dims, num_aspects)\n",
    "#             self.sentiment_1_layers = self._create_head(prev, task_specific_dims, num_sentiments)\n",
    "#             self.sentiment_2_layers = self._create_head(prev, task_specific_dims, num_sentiments)\n",
    "\n",
    "#         def _create_head(self, inp, hid, out):\n",
    "#             layers = []\n",
    "#             prev = inp\n",
    "#             for h in hid:\n",
    "#                 layers += [nn.Linear(prev, h), nn.ReLU(), nn.Dropout(0.2)]\n",
    "#                 prev = h\n",
    "#             layers.append(nn.Linear(prev, out))\n",
    "#             return nn.Sequential(*layers)\n",
    "\n",
    "#         def forward(self, texts):\n",
    "#             with torch.no_grad():\n",
    "#                 enc = self.tokenizer(texts, return_tensors='pt',\n",
    "#                                      truncation=True, padding='max_length',\n",
    "#                                      max_length=512).to(self.device)\n",
    "#                 emb = self.embedding_model(**enc).last_hidden_state\n",
    "#             lstm_out, _ = self.bilstm(emb)\n",
    "#             pooled = lstm_out.mean(1)\n",
    "#             shared = self.shared(pooled)\n",
    "#             return (self.aspect_1_layers(shared),\n",
    "#                     self.aspect_2_layers(shared),\n",
    "#                     self.sentiment_1_layers(shared),\n",
    "#                     self.sentiment_2_layers(shared))\n",
    "\n",
    "#     # === Instantiate & load model ===\n",
    "#     classifier = MultiTaskClassifierWithEmbedding(**config_keys, device=device).to(device)\n",
    "#     # Bỏ qua embedding_model.* khi load\n",
    "#     filtered_state_dict = {\n",
    "#         k: v for k, v in ckpt['model_state_dict'].items()\n",
    "#         if not k.startswith('embedding_model.')\n",
    "#     }\n",
    "#     classifier.load_state_dict(filtered_state_dict, strict=False)\n",
    "#     classifier.eval()\n",
    "\n",
    "#     # === Load label encoders ===\n",
    "#     aspect_encoder = joblib.load(\"/content/drive/MyDrive/ds200/final_project/model/aspect_encoder.pkl\")\n",
    "#     sentiment_encoder = joblib.load(\"/content/drive/MyDrive/ds200/final_project/model/sentiment_encoder.pkl\")\n",
    "\n",
    "#     # === NER preprocessing helpers ===\n",
    "#     def extract_subjects(doc):\n",
    "#         subs = []\n",
    "#         for sent in doc.sentences:\n",
    "#             for w in sent.words:\n",
    "#                 if w.deprel in [\"nsubj\", \"nsubj:pass\"]:\n",
    "#                     phrase = [w.text] + [c.text for c in sent.words if c.head == w.id and c.deprel in [\"compound\", \"flat\", \"nmod\"]]\n",
    "#                     subs.append(\" \".join(sorted(set(phrase), key=lambda x: doc.text.find(x))))\n",
    "#         return list(set(subs))\n",
    "\n",
    "#     def capitalize_subjects(text, subjects):\n",
    "#         for s in subjects:\n",
    "#             if s.strip():\n",
    "#                 text = re.sub(r'\\b' + re.escape(s) + r'\\b', s.title(), text, flags=re.IGNORECASE)\n",
    "#         return text\n",
    "\n",
    "#     def resolve_entity(entity):\n",
    "#         best, name = 0, None\n",
    "#         clean = unidecode(entity)\n",
    "#         for canon, aliases in alias_dict.items():\n",
    "#             for a in aliases:\n",
    "#                 score = fuzz.ratio(clean, unidecode(a))\n",
    "#                 if score > best and score >= 90:\n",
    "#                     best, name = score, canon\n",
    "#         return name or entity\n",
    "\n",
    "#     def preprocess_and_ner(text):\n",
    "#         doc = nlp_stanza(text)\n",
    "#         subs = extract_subjects(doc)\n",
    "#         for subj in subs:\n",
    "#             norm = unidecode(subj).lower()\n",
    "#             if norm in alias_to_name:\n",
    "#                 text = text.replace(subj, alias_to_name[norm])\n",
    "#         doc = nlp_stanza(text)\n",
    "#         text = capitalize_subjects(text, extract_subjects(doc))\n",
    "#         ents = ner_pipeline(text)\n",
    "#         persons = [e[\"word\"] for e in ents if e[\"entity_group\"] == \"PERSON\"]\n",
    "#         seen, resolved = set(), []\n",
    "#         for p in persons:\n",
    "#             r = resolve_entity(p)\n",
    "#             if r not in seen:\n",
    "#                 resolved.append(r)\n",
    "#                 seen.add(r)\n",
    "#         return resolved\n",
    "\n",
    "#     # === Final predict ===\n",
    "#     def predict(batch):\n",
    "#         import numpy as np\n",
    "#         results = []\n",
    "#         rows = batch.tolist() if isinstance(batch, np.ndarray) else list(batch)\n",
    "\n",
    "#         for row in rows:\n",
    "#             text_all = row[0] or \"\"\n",
    "#             text_content = row[1] or \"\"\n",
    "\n",
    "#             # NER cho từng phần\n",
    "#             ner_content = preprocess_and_ner(text_content)\n",
    "#             ner_all = preprocess_and_ner(text_all)\n",
    "\n",
    "#             # Dự đoán ABSA dùng text_all\n",
    "#             a1_logits, a2_logits, s1_logits, s2_logits = classifier([text_all])\n",
    "#             absa = {\n",
    "#                 \"aspect1\": aspect_encoder.classes_[int(a1_logits.argmax())],\n",
    "#                 \"aspect2\": aspect_encoder.classes_[int(a2_logits.argmax())],\n",
    "#                 \"sent1\": sentiment_encoder.classes_[int(s1_logits.argmax())],\n",
    "#                 \"sent2\": sentiment_encoder.classes_[int(s2_logits.argmax())]\n",
    "#             }\n",
    "\n",
    "#             # Append kết quả\n",
    "#             results.append({\n",
    "#                 \"ner_content\": json.dumps(ner_content, ensure_ascii=False),\n",
    "#                 \"ner_all\": json.dumps(ner_all, ensure_ascii=False),\n",
    "#                 \"aspect1\": absa[\"aspect1\"],\n",
    "#                 \"aspect2\": absa[\"aspect2\"],\n",
    "#                 \"sent1\": absa[\"sent1\"],\n",
    "#                 \"sent2\": absa[\"sent2\"],\n",
    "#             })\n",
    "\n",
    "#         return results\n",
    "\n",
    "#     return predict\n"
   ]
  },
  {
   "cell_type": "code",
   "execution_count": 32,
   "id": "UlZ9xOSBpfGU",
   "metadata": {
    "executionInfo": {
     "elapsed": 5,
     "status": "ok",
     "timestamp": 1752460088321,
     "user": {
      "displayName": "Duy Hoang",
      "userId": "14942285181523211297"
     },
     "user_tz": -420
    },
    "id": "UlZ9xOSBpfGU"
   },
   "outputs": [],
   "source": [
    "def write_full_batch(batch_df: DataFrame, batch_id: int):\n",
    "    import psycopg2\n",
    "    import json\n",
    "    global seen_creation_times\n",
    "\n",
    "    def normalize(val):\n",
    "      if val is None:\n",
    "          return None\n",
    "      val_str = str(val).strip().lower()\n",
    "      if val_str in (\"\", \"null\", \"none\"):\n",
    "          return None\n",
    "      return val\n",
    "\n",
    "    conn = psycopg2.connect(PG_CONN_STR)\n",
    "    cur  = conn.cursor()\n",
    "\n",
    "    for row in batch_df.toLocalIterator():\n",
    "        creation_time = getattr(row, \"creation_time\", None)\n",
    "        ner_all       = json.loads(getattr(row, \"ner_all\", \"[]\"))\n",
    "        aspect1       = normalize(getattr(row, \"aspect1\", None))\n",
    "        aspect2       = normalize(getattr(row, \"aspect2\", None))\n",
    "        sent1         = normalize(getattr(row, \"sent1\", None).lower())\n",
    "        sent2         = normalize(getattr(row, \"sent2\", None).lower())\n",
    "\n",
    "        try:\n",
    "            total_reacts = int(getattr(row, \"total_reactions\", 0))\n",
    "            share_counts = int(getattr(row, \"share_count\", 0))\n",
    "        except:\n",
    "            total_reacts = 0\n",
    "            share_counts = 0\n",
    "\n",
    "        total_reacts += share_counts\n",
    "\n",
    "        absa_pairs = []\n",
    "        if aspect1 and sent1: absa_pairs.append((aspect1, sent1))\n",
    "        if aspect2 and sent2: absa_pairs.append((aspect2, sent2))\n",
    "\n",
    "        for celeb_name in ner_all:\n",
    "            cur.execute(\"\"\"\n",
    "                SELECT id FROM public.celebrities WHERE name = %s\n",
    "                UNION\n",
    "                SELECT c.id FROM public.celebrity_aliases a\n",
    "                JOIN public.celebrities c ON a.celebrity_id = c.id\n",
    "                WHERE a.alias = %s\n",
    "                LIMIT 1\n",
    "            \"\"\", (celeb_name, celeb_name))\n",
    "            fetch = cur.fetchone()\n",
    "\n",
    "            if fetch:\n",
    "                celeb_id = fetch[0]\n",
    "            else:\n",
    "                cur.execute(\"\"\"\n",
    "                    INSERT INTO public.celebrities (name, image_url, created_at, is_celebrity)\n",
    "                    VALUES (%s, %s, now(), FALSE)\n",
    "                    RETURNING id\n",
    "                \"\"\", (celeb_name, None))\n",
    "                celeb_id = cur.fetchone()[0]\n",
    "\n",
    "            if creation_time and creation_time not in seen_creation_times:\n",
    "                seen_creation_times.add(creation_time)\n",
    "                cur.execute(\"\"\"\n",
    "                    INSERT INTO public.reactions (celebrity_id, total_reactions, created_at)\n",
    "                    VALUES (%s, %s, now())\n",
    "                \"\"\", (celeb_id, total_reacts))\n",
    "\n",
    "            for aspect, sentiment in absa_pairs:\n",
    "                inc_pos = 1 if sentiment == \"positive\" else 0\n",
    "                inc_neg = 1 if sentiment == \"negative\" else 0\n",
    "                inc_neu = 1 if sentiment == \"neutral\"  else 0\n",
    "                # print(aspect)\n",
    "                cur.execute(\"\"\"\n",
    "                    INSERT INTO public.interactions\n",
    "                      (celebrity_id, positive_count, negative_count,\n",
    "                       neutral_count, field, interaction_date, created_at)\n",
    "                    VALUES (%s, %s, %s, %s, %s, CURRENT_DATE, now())\n",
    "                \"\"\", (celeb_id, inc_pos, inc_neg, inc_neu, aspect))\n",
    "\n",
    "    conn.commit()\n",
    "    cur.close()\n",
    "    conn.close()\n"
   ]
  },
  {
   "cell_type": "code",
   "execution_count": 33,
   "id": "D-1hK9jAdn1P",
   "metadata": {
    "executionInfo": {
     "elapsed": 1498,
     "status": "ok",
     "timestamp": 1752460089820,
     "user": {
      "displayName": "Duy Hoang",
      "userId": "14942285181523211297"
     },
     "user_tz": -420
    },
    "id": "D-1hK9jAdn1P"
   },
   "outputs": [],
   "source": [
    "query = (\n",
    "    df.writeStream\n",
    "      .outputMode(\"append\")\n",
    "      .format(\"memory\")\n",
    "      .queryName(\"debug_text\")\n",
    "      .trigger(processingTime=\"2 seconds\")\n",
    "      .start()\n",
    ")"
   ]
  },
  {
   "cell_type": "code",
   "execution_count": 34,
   "id": "dk4OrJAXrREQ",
   "metadata": {
    "executionInfo": {
     "elapsed": 5,
     "status": "ok",
     "timestamp": 1752460089867,
     "user": {
      "displayName": "Duy Hoang",
      "userId": "14942285181523211297"
     },
     "user_tz": -420
    },
    "id": "dk4OrJAXrREQ"
   },
   "outputs": [],
   "source": [
    "seen_creation_times = set()"
   ]
  },
  {
   "cell_type": "code",
   "execution_count": 35,
   "id": "NbQ9vJWF8gO1",
   "metadata": {
    "executionInfo": {
     "elapsed": 3,
     "status": "ok",
     "timestamp": 1752460089868,
     "user": {
      "displayName": "Duy Hoang",
      "userId": "14942285181523211297"
     },
     "user_tz": -420
    },
    "id": "NbQ9vJWF8gO1"
   },
   "outputs": [],
   "source": [
    "absa_ner_schema = StructType([\n",
    "    StructField(\"ner_content\", StringType(), True),\n",
    "    StructField(\"ner_all\", StringType(), True),\n",
    "    StructField(\"aspect1\", StringType(), True),\n",
    "    StructField(\"aspect2\", StringType(), True),\n",
    "    StructField(\"sent1\", StringType(), True),\n",
    "    StructField(\"sent2\", StringType(), True),\n",
    "])\n",
    "\n",
    "predict_udf = predict_batch_udf(\n",
    "    make_predict_fn,\n",
    "    return_type=absa_ner_schema,\n",
    "    batch_size=4\n",
    ")"
   ]
  },
  {
   "cell_type": "code",
   "execution_count": 36,
   "id": "5PKqYgCEMmcb",
   "metadata": {
    "executionInfo": {
     "elapsed": 210,
     "status": "ok",
     "timestamp": 1752460090076,
     "user": {
      "displayName": "Duy Hoang",
      "userId": "14942285181523211297"
     },
     "user_tz": -420
    },
    "id": "5PKqYgCEMmcb"
   },
   "outputs": [],
   "source": [
    "df_pred = df.withColumn(\"pred_struct\", predict_udf(struct(\"text_all\", \"text_content\"))) \\\n",
    "            .select(\"*\", \"pred_struct.*\") \\\n",
    "            .drop(\"pred_struct\")"
   ]
  },
  {
   "cell_type": "code",
   "execution_count": 37,
   "id": "SsfeevzFV9nV",
   "metadata": {
    "executionInfo": {
     "elapsed": 343,
     "status": "ok",
     "timestamp": 1752460090420,
     "user": {
      "displayName": "Duy Hoang",
      "userId": "14942285181523211297"
     },
     "user_tz": -420
    },
    "id": "SsfeevzFV9nV"
   },
   "outputs": [],
   "source": [
    "debug_pred_query = (\n",
    "    df_pred.writeStream\n",
    "        .outputMode(\"append\")\n",
    "        .format(\"memory\")\n",
    "        .queryName(\"debug_pred\")\n",
    "        .trigger(processingTime=\"2 seconds\")\n",
    "        .start()\n",
    ")"
   ]
  },
  {
   "cell_type": "code",
   "execution_count": 38,
   "id": "RBzhhQV0vneV",
   "metadata": {
    "executionInfo": {
     "elapsed": 194,
     "status": "ok",
     "timestamp": 1752460090616,
     "user": {
      "displayName": "Duy Hoang",
      "userId": "14942285181523211297"
     },
     "user_tz": -420
    },
    "id": "RBzhhQV0vneV"
   },
   "outputs": [],
   "source": [
    "streaming_predict = (\n",
    "    df_pred.writeStream\n",
    "        .foreachBatch(write_full_batch)\n",
    "        .outputMode(\"append\")\n",
    "        .trigger(processingTime=\"2 seconds\")\n",
    "        .start()\n",
    ")"
   ]
  },
  {
   "cell_type": "code",
   "execution_count": 39,
   "id": "c1wtio43eEWn",
   "metadata": {
    "executionInfo": {
     "elapsed": 14,
     "status": "ok",
     "timestamp": 1752460090637,
     "user": {
      "displayName": "Duy Hoang",
      "userId": "14942285181523211297"
     },
     "user_tz": -420
    },
    "id": "c1wtio43eEWn"
   },
   "outputs": [],
   "source": [
    "import time\n",
    "from IPython.display import clear_output, display"
   ]
  },
  {
   "cell_type": "code",
   "execution_count": 40,
   "id": "xAiuHGdyeD9K",
   "metadata": {
    "executionInfo": {
     "elapsed": 1,
     "status": "ok",
     "timestamp": 1752460090639,
     "user": {
      "displayName": "Duy Hoang",
      "userId": "14942285181523211297"
     },
     "user_tz": -420
    },
    "id": "xAiuHGdyeD9K"
   },
   "outputs": [],
   "source": [
    "import threading\n",
    "stop_flag = threading.Event()"
   ]
  },
  {
   "cell_type": "code",
   "execution_count": 41,
   "id": "LJUblepCn214",
   "metadata": {
    "executionInfo": {
     "elapsed": 8,
     "status": "ok",
     "timestamp": 1752460090647,
     "user": {
      "displayName": "Duy Hoang",
      "userId": "14942285181523211297"
     },
     "user_tz": -420
    },
    "id": "LJUblepCn214"
   },
   "outputs": [],
   "source": [
    "producer_thread = Thread(target=start_producer)"
   ]
  },
  {
   "cell_type": "code",
   "execution_count": 42,
   "id": "0o1i3CWKn08T",
   "metadata": {
    "colab": {
     "base_uri": "https://localhost:8080/"
    },
    "executionInfo": {
     "elapsed": 57,
     "status": "ok",
     "timestamp": 1752460090705,
     "user": {
      "displayName": "Duy Hoang",
      "userId": "14942285181523211297"
     },
     "user_tz": -420
    },
    "id": "0o1i3CWKn08T",
    "outputId": "67a06a1c-de29-4105-c055-843b97204582"
   },
   "outputs": [
    {
     "name": "stdout",
     "output_type": "stream",
     "text": [
      "Thread name: Thread-12 (start_producer)\n",
      "Thread is alive: False\n",
      "Thread ID: None\n"
     ]
    }
   ],
   "source": [
    "print(f\"Thread name: {producer_thread.name}\")\n",
    "print(f\"Thread is alive: {producer_thread.is_alive()}\")\n",
    "print(f\"Thread ID: {producer_thread.ident}\")\n"
   ]
  },
  {
   "cell_type": "code",
   "execution_count": 43,
   "id": "DpreyMI0o8nd",
   "metadata": {
    "colab": {
     "base_uri": "https://localhost:8080/"
    },
    "executionInfo": {
     "elapsed": 7,
     "status": "ok",
     "timestamp": 1752460090705,
     "user": {
      "displayName": "Duy Hoang",
      "userId": "14942285181523211297"
     },
     "user_tz": -420
    },
    "id": "DpreyMI0o8nd",
    "outputId": "058d7bad-3f96-435c-f639-46545f7fa582"
   },
   "outputs": [
    {
     "name": "stdout",
     "output_type": "stream",
     "text": [
      "Starting producer...\n"
     ]
    }
   ],
   "source": [
    "producer_thread.start()"
   ]
  },
  {
   "cell_type": "code",
   "execution_count": 44,
   "id": "sQb95X-YlRBb",
   "metadata": {
    "colab": {
     "base_uri": "https://localhost:8080/"
    },
    "executionInfo": {
     "elapsed": 120032,
     "status": "ok",
     "timestamp": 1752460210735,
     "user": {
      "displayName": "Duy Hoang",
      "userId": "14942285181523211297"
     },
     "user_tz": -420
    },
    "id": "sQb95X-YlRBb",
    "outputId": "80961e7f-0b9a-49cf-fbc9-b262af0a2d63"
   },
   "outputs": [
    {
     "name": "stdout",
     "output_type": "stream",
     "text": [
      "Sending 177 items to Kafka topic 'news-stream'...\n"
     ]
    }
   ],
   "source": [
    "time.sleep(120)"
   ]
  },
  {
   "cell_type": "code",
   "execution_count": 45,
   "id": "OM2HXyngoAyw",
   "metadata": {
    "colab": {
     "base_uri": "https://localhost:8080/"
    },
    "executionInfo": {
     "elapsed": 14,
     "status": "ok",
     "timestamp": 1752460210736,
     "user": {
      "displayName": "Duy Hoang",
      "userId": "14942285181523211297"
     },
     "user_tz": -420
    },
    "id": "OM2HXyngoAyw",
    "outputId": "4addffd9-d1f2-48f5-89d1-81c95263affc"
   },
   "outputs": [
    {
     "name": "stdout",
     "output_type": "stream",
     "text": [
      "Thread name: Thread-12 (start_producer)\n",
      "Thread is alive: True\n",
      "Thread ID: 140658204755520\n"
     ]
    }
   ],
   "source": [
    "print(f\"Thread name: {producer_thread.name}\")\n",
    "print(f\"Thread is alive: {producer_thread.is_alive()}\")\n",
    "print(f\"Thread ID: {producer_thread.ident}\")\n"
   ]
  },
  {
   "cell_type": "code",
   "execution_count": 46,
   "id": "Xr4hY_PeMRD8",
   "metadata": {
    "colab": {
     "base_uri": "https://localhost:8080/",
     "height": 164
    },
    "executionInfo": {
     "elapsed": 81415,
     "status": "ok",
     "timestamp": 1752460292143,
     "user": {
      "displayName": "Duy Hoang",
      "userId": "14942285181523211297"
     },
     "user_tz": -420
    },
    "id": "Xr4hY_PeMRD8",
    "outputId": "7e847824-50f7-4eb6-da8f-531d0c87d1e2"
   },
   "outputs": [
    {
     "name": "stdout",
     "output_type": "stream",
     "text": [
      "Live view at 70 seconds:\n"
     ]
    },
    {
     "data": {
      "application/vnd.google.colaboratory.intrinsic+json": {
       "summary": "{\n  \"name\": \"    time\",\n  \"rows\": 2,\n  \"fields\": [\n    {\n      \"column\": \"text_all\",\n      \"properties\": {\n        \"dtype\": \"string\",\n        \"num_unique_values\": 2,\n        \"samples\": [\n          \"Th\\u00f4ng tin v\\u1ec1 doanh nghi\\u1ec7p ch\\u1ec9 c\\u00f3 6 lao \\u0111\\u1ed9ng \\u0111\\u1ee9ng sau lo\\u1ea1t s\\u1ea3n ph\\u1ea9m Detox \\u0111\\u01b0\\u1ee3c v\\u1ee3 ch\\u1ed3ng H\\u1eefu C\\u00f4ng qu\\u1ea3ng b\\u00e1 r\\u1ea7m r\\u1ed9 tr\\u00ean m\\u1ea1ng x\\u00e3 h\\u1ed9i \\ud83e\\udd74\\nM\\u1ed7i ng\\u00e0y th\\u00eam 1 th\\u00e0nh vi\\u00ean m\\u1edbi \\ud83e\\udd72\",\n          \"Th\\u00f4ng tin v\\u1ec1 doanh nghi\\u1ec7p ch\\u1ec9 c\\u00f3 6 lao \\u0111\\u1ed9ng \\u0111\\u1ee9ng sau lo\\u1ea1t s\\u1ea3n ph\\u1ea9m Detox \\u0111\\u01b0\\u1ee3c v\\u1ee3 ch\\u1ed3ng H\\u1eefu C\\u00f4ng qu\\u1ea3ng b\\u00e1 r\\u1ea7m r\\u1ed9 tr\\u00ean m\\u1ea1ng x\\u00e3 h\\u1ed9i \\ud83e\\udd74\\nTheo c\\u00e1c d\\u1eef li\\u1ec7u \\u0111\\u01b0\\u1ee3c C\\u1ed5ng th\\u00f4ng tin Qu\\u1ed1c gia v\\u1ec1 \\u0110\\u0103ng k\\u00fd doanh nghi\\u1ec7p c\\u00f4ng b\\u1ed1 \\u0111\\u1ed1i v\\u1edbi C\\u00f4ng ty CP S\\u1ea3n xu\\u1ea5t v\\u00e0 Th\\u01b0\\u01a1ng m\\u1ea1i EHERBAL cho th\\u1ea5y, v\\u1ee3 ch\\u1ed3ng di\\u1ec5n vi\\u00ean H\\u1eefu C\\u00f4ng (\\u00f4ng Nguy\\u1ec5n H\\u1eefu C\\u00f4ng v\\u00e0 b\\u00e0 Phan Th\\u1ee7y Ti\\u00ean) hi\\u1ec7n kh\\u00f4ng s\\u1edf h\\u1eefu c\\u1ed5 ph\\u1ea7n hay tham gia \\u0111\\u1ea1i di\\u1ec7n ph\\u00e1p lu\\u1eadt t\\u1ea1i doanh nghi\\u1ec7p n\\u00e0y \\ud83d\\udc49 https://s.biz.vn/Ar8KglZ\"\n        ],\n        \"semantic_type\": \"\",\n        \"description\": \"\"\n      }\n    },\n    {\n      \"column\": \"text_content\",\n      \"properties\": {\n        \"dtype\": \"string\",\n        \"num_unique_values\": 1,\n        \"samples\": [\n          \"Th\\u00f4ng tin v\\u1ec1 doanh nghi\\u1ec7p ch\\u1ec9 c\\u00f3 6 lao \\u0111\\u1ed9ng \\u0111\\u1ee9ng sau lo\\u1ea1t s\\u1ea3n ph\\u1ea9m Detox \\u0111\\u01b0\\u1ee3c v\\u1ee3 ch\\u1ed3ng H\\u1eefu C\\u00f4ng qu\\u1ea3ng b\\u00e1 r\\u1ea7m r\\u1ed9 tr\\u00ean m\\u1ea1ng x\\u00e3 h\\u1ed9i \\ud83e\\udd74\"\n        ],\n        \"semantic_type\": \"\",\n        \"description\": \"\"\n      }\n    },\n    {\n      \"column\": \"creation_time\",\n      \"properties\": {\n        \"dtype\": \"string\",\n        \"num_unique_values\": 1,\n        \"samples\": [\n          \"1750898193\"\n        ],\n        \"semantic_type\": \"\",\n        \"description\": \"\"\n      }\n    },\n    {\n      \"column\": \"total_reactions\",\n      \"properties\": {\n        \"dtype\": \"string\",\n        \"num_unique_values\": 1,\n        \"samples\": [\n          \"6292\"\n        ],\n        \"semantic_type\": \"\",\n        \"description\": \"\"\n      }\n    },\n    {\n      \"column\": \"share_count\",\n      \"properties\": {\n        \"dtype\": \"string\",\n        \"num_unique_values\": 1,\n        \"samples\": [\n          \"99\"\n        ],\n        \"semantic_type\": \"\",\n        \"description\": \"\"\n      }\n    }\n  ]\n}",
       "type": "dataframe"
      },
      "text/html": [
       "\n",
       "  <div id=\"df-877345fc-a69b-4e32-b1c6-440b628efa51\" class=\"colab-df-container\">\n",
       "    <div>\n",
       "<style scoped>\n",
       "    .dataframe tbody tr th:only-of-type {\n",
       "        vertical-align: middle;\n",
       "    }\n",
       "\n",
       "    .dataframe tbody tr th {\n",
       "        vertical-align: top;\n",
       "    }\n",
       "\n",
       "    .dataframe thead th {\n",
       "        text-align: right;\n",
       "    }\n",
       "</style>\n",
       "<table border=\"1\" class=\"dataframe\">\n",
       "  <thead>\n",
       "    <tr style=\"text-align: right;\">\n",
       "      <th></th>\n",
       "      <th>text_all</th>\n",
       "      <th>text_content</th>\n",
       "      <th>creation_time</th>\n",
       "      <th>total_reactions</th>\n",
       "      <th>share_count</th>\n",
       "    </tr>\n",
       "  </thead>\n",
       "  <tbody>\n",
       "    <tr>\n",
       "      <th>0</th>\n",
       "      <td>Thông tin về doanh nghiệp chỉ có 6 lao động đứng sau loạt sản phẩm Detox được vợ chồng Hữu Công quảng bá rầm rộ trên mạng xã hội 🥴\\nTheo các dữ liệu được Cổng thông tin Quốc gia về Đăng ký doanh nghiệp công bố đối với Công ty CP Sản xuất và Thương mại EHERBAL cho thấy, vợ chồng diễn viên Hữu Công (ông Nguyễn Hữu Công và bà Phan Thủy Tiên) hiện không sở hữu cổ phần hay tham gia đại diện pháp luật tại doanh nghiệp này 👉 https://s.biz.vn/Ar8KglZ</td>\n",
       "      <td>Thông tin về doanh nghiệp chỉ có 6 lao động đứng sau loạt sản phẩm Detox được vợ chồng Hữu Công quảng bá rầm rộ trên mạng xã hội 🥴</td>\n",
       "      <td>1750898193</td>\n",
       "      <td>6292</td>\n",
       "      <td>99</td>\n",
       "    </tr>\n",
       "    <tr>\n",
       "      <th>1</th>\n",
       "      <td>Thông tin về doanh nghiệp chỉ có 6 lao động đứng sau loạt sản phẩm Detox được vợ chồng Hữu Công quảng bá rầm rộ trên mạng xã hội 🥴\\nMỗi ngày thêm 1 thành viên mới 🥲</td>\n",
       "      <td>Thông tin về doanh nghiệp chỉ có 6 lao động đứng sau loạt sản phẩm Detox được vợ chồng Hữu Công quảng bá rầm rộ trên mạng xã hội 🥴</td>\n",
       "      <td>1750898193</td>\n",
       "      <td>6292</td>\n",
       "      <td>99</td>\n",
       "    </tr>\n",
       "  </tbody>\n",
       "</table>\n",
       "</div>\n",
       "    <div class=\"colab-df-buttons\">\n",
       "\n",
       "  <div class=\"colab-df-container\">\n",
       "    <button class=\"colab-df-convert\" onclick=\"convertToInteractive('df-877345fc-a69b-4e32-b1c6-440b628efa51')\"\n",
       "            title=\"Convert this dataframe to an interactive table.\"\n",
       "            style=\"display:none;\">\n",
       "\n",
       "  <svg xmlns=\"http://www.w3.org/2000/svg\" height=\"24px\" viewBox=\"0 -960 960 960\">\n",
       "    <path d=\"M120-120v-720h720v720H120Zm60-500h600v-160H180v160Zm220 220h160v-160H400v160Zm0 220h160v-160H400v160ZM180-400h160v-160H180v160Zm440 0h160v-160H620v160ZM180-180h160v-160H180v160Zm440 0h160v-160H620v160Z\"/>\n",
       "  </svg>\n",
       "    </button>\n",
       "\n",
       "  <style>\n",
       "    .colab-df-container {\n",
       "      display:flex;\n",
       "      gap: 12px;\n",
       "    }\n",
       "\n",
       "    .colab-df-convert {\n",
       "      background-color: #E8F0FE;\n",
       "      border: none;\n",
       "      border-radius: 50%;\n",
       "      cursor: pointer;\n",
       "      display: none;\n",
       "      fill: #1967D2;\n",
       "      height: 32px;\n",
       "      padding: 0 0 0 0;\n",
       "      width: 32px;\n",
       "    }\n",
       "\n",
       "    .colab-df-convert:hover {\n",
       "      background-color: #E2EBFA;\n",
       "      box-shadow: 0px 1px 2px rgba(60, 64, 67, 0.3), 0px 1px 3px 1px rgba(60, 64, 67, 0.15);\n",
       "      fill: #174EA6;\n",
       "    }\n",
       "\n",
       "    .colab-df-buttons div {\n",
       "      margin-bottom: 4px;\n",
       "    }\n",
       "\n",
       "    [theme=dark] .colab-df-convert {\n",
       "      background-color: #3B4455;\n",
       "      fill: #D2E3FC;\n",
       "    }\n",
       "\n",
       "    [theme=dark] .colab-df-convert:hover {\n",
       "      background-color: #434B5C;\n",
       "      box-shadow: 0px 1px 3px 1px rgba(0, 0, 0, 0.15);\n",
       "      filter: drop-shadow(0px 1px 2px rgba(0, 0, 0, 0.3));\n",
       "      fill: #FFFFFF;\n",
       "    }\n",
       "  </style>\n",
       "\n",
       "    <script>\n",
       "      const buttonEl =\n",
       "        document.querySelector('#df-877345fc-a69b-4e32-b1c6-440b628efa51 button.colab-df-convert');\n",
       "      buttonEl.style.display =\n",
       "        google.colab.kernel.accessAllowed ? 'block' : 'none';\n",
       "\n",
       "      async function convertToInteractive(key) {\n",
       "        const element = document.querySelector('#df-877345fc-a69b-4e32-b1c6-440b628efa51');\n",
       "        const dataTable =\n",
       "          await google.colab.kernel.invokeFunction('convertToInteractive',\n",
       "                                                    [key], {});\n",
       "        if (!dataTable) return;\n",
       "\n",
       "        const docLinkHtml = 'Like what you see? Visit the ' +\n",
       "          '<a target=\"_blank\" href=https://colab.research.google.com/notebooks/data_table.ipynb>data table notebook</a>'\n",
       "          + ' to learn more about interactive tables.';\n",
       "        element.innerHTML = '';\n",
       "        dataTable['output_type'] = 'display_data';\n",
       "        await google.colab.output.renderOutput(dataTable, element);\n",
       "        const docLink = document.createElement('div');\n",
       "        docLink.innerHTML = docLinkHtml;\n",
       "        element.appendChild(docLink);\n",
       "      }\n",
       "    </script>\n",
       "  </div>\n",
       "\n",
       "\n",
       "    <div id=\"df-36c8bcf5-1711-4f3d-b75b-bed41d313d1e\">\n",
       "      <button class=\"colab-df-quickchart\" onclick=\"quickchart('df-36c8bcf5-1711-4f3d-b75b-bed41d313d1e')\"\n",
       "                title=\"Suggest charts\"\n",
       "                style=\"display:none;\">\n",
       "\n",
       "<svg xmlns=\"http://www.w3.org/2000/svg\" height=\"24px\"viewBox=\"0 0 24 24\"\n",
       "     width=\"24px\">\n",
       "    <g>\n",
       "        <path d=\"M19 3H5c-1.1 0-2 .9-2 2v14c0 1.1.9 2 2 2h14c1.1 0 2-.9 2-2V5c0-1.1-.9-2-2-2zM9 17H7v-7h2v7zm4 0h-2V7h2v10zm4 0h-2v-4h2v4z\"/>\n",
       "    </g>\n",
       "</svg>\n",
       "      </button>\n",
       "\n",
       "<style>\n",
       "  .colab-df-quickchart {\n",
       "      --bg-color: #E8F0FE;\n",
       "      --fill-color: #1967D2;\n",
       "      --hover-bg-color: #E2EBFA;\n",
       "      --hover-fill-color: #174EA6;\n",
       "      --disabled-fill-color: #AAA;\n",
       "      --disabled-bg-color: #DDD;\n",
       "  }\n",
       "\n",
       "  [theme=dark] .colab-df-quickchart {\n",
       "      --bg-color: #3B4455;\n",
       "      --fill-color: #D2E3FC;\n",
       "      --hover-bg-color: #434B5C;\n",
       "      --hover-fill-color: #FFFFFF;\n",
       "      --disabled-bg-color: #3B4455;\n",
       "      --disabled-fill-color: #666;\n",
       "  }\n",
       "\n",
       "  .colab-df-quickchart {\n",
       "    background-color: var(--bg-color);\n",
       "    border: none;\n",
       "    border-radius: 50%;\n",
       "    cursor: pointer;\n",
       "    display: none;\n",
       "    fill: var(--fill-color);\n",
       "    height: 32px;\n",
       "    padding: 0;\n",
       "    width: 32px;\n",
       "  }\n",
       "\n",
       "  .colab-df-quickchart:hover {\n",
       "    background-color: var(--hover-bg-color);\n",
       "    box-shadow: 0 1px 2px rgba(60, 64, 67, 0.3), 0 1px 3px 1px rgba(60, 64, 67, 0.15);\n",
       "    fill: var(--button-hover-fill-color);\n",
       "  }\n",
       "\n",
       "  .colab-df-quickchart-complete:disabled,\n",
       "  .colab-df-quickchart-complete:disabled:hover {\n",
       "    background-color: var(--disabled-bg-color);\n",
       "    fill: var(--disabled-fill-color);\n",
       "    box-shadow: none;\n",
       "  }\n",
       "\n",
       "  .colab-df-spinner {\n",
       "    border: 2px solid var(--fill-color);\n",
       "    border-color: transparent;\n",
       "    border-bottom-color: var(--fill-color);\n",
       "    animation:\n",
       "      spin 1s steps(1) infinite;\n",
       "  }\n",
       "\n",
       "  @keyframes spin {\n",
       "    0% {\n",
       "      border-color: transparent;\n",
       "      border-bottom-color: var(--fill-color);\n",
       "      border-left-color: var(--fill-color);\n",
       "    }\n",
       "    20% {\n",
       "      border-color: transparent;\n",
       "      border-left-color: var(--fill-color);\n",
       "      border-top-color: var(--fill-color);\n",
       "    }\n",
       "    30% {\n",
       "      border-color: transparent;\n",
       "      border-left-color: var(--fill-color);\n",
       "      border-top-color: var(--fill-color);\n",
       "      border-right-color: var(--fill-color);\n",
       "    }\n",
       "    40% {\n",
       "      border-color: transparent;\n",
       "      border-right-color: var(--fill-color);\n",
       "      border-top-color: var(--fill-color);\n",
       "    }\n",
       "    60% {\n",
       "      border-color: transparent;\n",
       "      border-right-color: var(--fill-color);\n",
       "    }\n",
       "    80% {\n",
       "      border-color: transparent;\n",
       "      border-right-color: var(--fill-color);\n",
       "      border-bottom-color: var(--fill-color);\n",
       "    }\n",
       "    90% {\n",
       "      border-color: transparent;\n",
       "      border-bottom-color: var(--fill-color);\n",
       "    }\n",
       "  }\n",
       "</style>\n",
       "\n",
       "      <script>\n",
       "        async function quickchart(key) {\n",
       "          const quickchartButtonEl =\n",
       "            document.querySelector('#' + key + ' button');\n",
       "          quickchartButtonEl.disabled = true;  // To prevent multiple clicks.\n",
       "          quickchartButtonEl.classList.add('colab-df-spinner');\n",
       "          try {\n",
       "            const charts = await google.colab.kernel.invokeFunction(\n",
       "                'suggestCharts', [key], {});\n",
       "          } catch (error) {\n",
       "            console.error('Error during call to suggestCharts:', error);\n",
       "          }\n",
       "          quickchartButtonEl.classList.remove('colab-df-spinner');\n",
       "          quickchartButtonEl.classList.add('colab-df-quickchart-complete');\n",
       "        }\n",
       "        (() => {\n",
       "          let quickchartButtonEl =\n",
       "            document.querySelector('#df-36c8bcf5-1711-4f3d-b75b-bed41d313d1e button');\n",
       "          quickchartButtonEl.style.display =\n",
       "            google.colab.kernel.accessAllowed ? 'block' : 'none';\n",
       "        })();\n",
       "      </script>\n",
       "    </div>\n",
       "\n",
       "    </div>\n",
       "  </div>\n"
      ],
      "text/plain": [
       "                                                                                                                                                                                                                                                                                                                                                                                                                                                         text_all  \\\n",
       "0  Thông tin về doanh nghiệp chỉ có 6 lao động đứng sau loạt sản phẩm Detox được vợ chồng Hữu Công quảng bá rầm rộ trên mạng xã hội 🥴\\nTheo các dữ liệu được Cổng thông tin Quốc gia về Đăng ký doanh nghiệp công bố đối với Công ty CP Sản xuất và Thương mại EHERBAL cho thấy, vợ chồng diễn viên Hữu Công (ông Nguyễn Hữu Công và bà Phan Thủy Tiên) hiện không sở hữu cổ phần hay tham gia đại diện pháp luật tại doanh nghiệp này 👉 https://s.biz.vn/Ar8KglZ   \n",
       "1                                                                                                                                                                                                                                                                                            Thông tin về doanh nghiệp chỉ có 6 lao động đứng sau loạt sản phẩm Detox được vợ chồng Hữu Công quảng bá rầm rộ trên mạng xã hội 🥴\\nMỗi ngày thêm 1 thành viên mới 🥲   \n",
       "\n",
       "                                                                                                                         text_content  \\\n",
       "0  Thông tin về doanh nghiệp chỉ có 6 lao động đứng sau loạt sản phẩm Detox được vợ chồng Hữu Công quảng bá rầm rộ trên mạng xã hội 🥴   \n",
       "1  Thông tin về doanh nghiệp chỉ có 6 lao động đứng sau loạt sản phẩm Detox được vợ chồng Hữu Công quảng bá rầm rộ trên mạng xã hội 🥴   \n",
       "\n",
       "  creation_time total_reactions share_count  \n",
       "0    1750898193            6292          99  \n",
       "1    1750898193            6292          99  "
      ]
     },
     "metadata": {},
     "output_type": "display_data"
    }
   ],
   "source": [
    "pd.set_option(\"display.max_colwidth\", None)\n",
    "for i in range(8):\n",
    "    clear_output(wait=True)\n",
    "    df_live = spark.sql(\"SELECT * FROM debug_text\")\n",
    "    print(f\"Live view at {(i)*10} seconds:\")\n",
    "    display(df_live.toPandas())\n",
    "    time.sleep(10)"
   ]
  },
  {
   "cell_type": "code",
   "execution_count": 47,
   "id": "617KjbqPyfDG",
   "metadata": {
    "colab": {
     "base_uri": "https://localhost:8080/",
     "height": 1000
    },
    "executionInfo": {
     "elapsed": 81515,
     "status": "ok",
     "timestamp": 1752460373663,
     "user": {
      "displayName": "Duy Hoang",
      "userId": "14942285181523211297"
     },
     "user_tz": -420
    },
    "id": "617KjbqPyfDG",
    "outputId": "841ceda3-06f8-41ef-c463-3b5b6da1b65c"
   },
   "outputs": [
    {
     "name": "stdout",
     "output_type": "stream",
     "text": [
      "70 giây\n"
     ]
    },
    {
     "data": {
      "application/vnd.google.colaboratory.intrinsic+json": {
       "summary": "{\n  \"name\": \"    time\",\n  \"rows\": 18,\n  \"fields\": [\n    {\n      \"column\": \"text_all\",\n      \"properties\": {\n        \"dtype\": \"string\",\n        \"num_unique_values\": 18,\n        \"samples\": [\n          \"Th\\u00f4ng tin v\\u1ec1 doanh nghi\\u1ec7p ch\\u1ec9 c\\u00f3 6 lao \\u0111\\u1ed9ng \\u0111\\u1ee9ng sau lo\\u1ea1t s\\u1ea3n ph\\u1ea9m Detox \\u0111\\u01b0\\u1ee3c v\\u1ee3 ch\\u1ed3ng H\\u1eefu C\\u00f4ng qu\\u1ea3ng b\\u00e1 r\\u1ea7m r\\u1ed9 tr\\u00ean m\\u1ea1ng x\\u00e3 h\\u1ed9i \\ud83e\\udd74\\nTheo c\\u00e1c d\\u1eef li\\u1ec7u \\u0111\\u01b0\\u1ee3c C\\u1ed5ng th\\u00f4ng tin Qu\\u1ed1c gia v\\u1ec1 \\u0110\\u0103ng k\\u00fd doanh nghi\\u1ec7p c\\u00f4ng b\\u1ed1 \\u0111\\u1ed1i v\\u1edbi C\\u00f4ng ty CP S\\u1ea3n xu\\u1ea5t v\\u00e0 Th\\u01b0\\u01a1ng m\\u1ea1i EHERBAL cho th\\u1ea5y, v\\u1ee3 ch\\u1ed3ng di\\u1ec5n vi\\u00ean H\\u1eefu C\\u00f4ng (\\u00f4ng Nguy\\u1ec5n H\\u1eefu C\\u00f4ng v\\u00e0 b\\u00e0 Phan Th\\u1ee7y Ti\\u00ean) hi\\u1ec7n kh\\u00f4ng s\\u1edf h\\u1eefu c\\u1ed5 ph\\u1ea7n hay tham gia \\u0111\\u1ea1i di\\u1ec7n ph\\u00e1p lu\\u1eadt t\\u1ea1i doanh nghi\\u1ec7p n\\u00e0y \\ud83d\\udc49 https://s.biz.vn/Ar8KglZ\",\n          \"Th\\u00f4ng tin v\\u1ec1 doanh nghi\\u1ec7p ch\\u1ec9 c\\u00f3 6 lao \\u0111\\u1ed9ng \\u0111\\u1ee9ng sau lo\\u1ea1t s\\u1ea3n ph\\u1ea9m Detox \\u0111\\u01b0\\u1ee3c v\\u1ee3 ch\\u1ed3ng H\\u1eefu C\\u00f4ng qu\\u1ea3ng b\\u00e1 r\\u1ea7m r\\u1ed9 tr\\u00ean m\\u1ea1ng x\\u00e3 h\\u1ed9i \\ud83e\\udd74\\nM\\u1ed7i ng\\u00e0y th\\u00eam 1 th\\u00e0nh vi\\u00ean m\\u1edbi \\ud83e\\udd72\",\n          \"Th\\u00f4ng tin v\\u1ec1 doanh nghi\\u1ec7p ch\\u1ec9 c\\u00f3 6 lao \\u0111\\u1ed9ng \\u0111\\u1ee9ng sau lo\\u1ea1t s\\u1ea3n ph\\u1ea9m Detox \\u0111\\u01b0\\u1ee3c v\\u1ee3 ch\\u1ed3ng H\\u1eefu C\\u00f4ng qu\\u1ea3ng b\\u00e1 r\\u1ea7m r\\u1ed9 tr\\u00ean m\\u1ea1ng x\\u00e3 h\\u1ed9i \\ud83e\\udd74\\nCh\\u1ec9 n\\u1ec3 ng mua h\\u00e0ng\\n\\u0110\\u00e0o Trung t\\u00f4i ch\\u01b0a k\\u1ecbp mua kkk\"\n        ],\n        \"semantic_type\": \"\",\n        \"description\": \"\"\n      }\n    },\n    {\n      \"column\": \"text_content\",\n      \"properties\": {\n        \"dtype\": \"category\",\n        \"num_unique_values\": 1,\n        \"samples\": [\n          \"Th\\u00f4ng tin v\\u1ec1 doanh nghi\\u1ec7p ch\\u1ec9 c\\u00f3 6 lao \\u0111\\u1ed9ng \\u0111\\u1ee9ng sau lo\\u1ea1t s\\u1ea3n ph\\u1ea9m Detox \\u0111\\u01b0\\u1ee3c v\\u1ee3 ch\\u1ed3ng H\\u1eefu C\\u00f4ng qu\\u1ea3ng b\\u00e1 r\\u1ea7m r\\u1ed9 tr\\u00ean m\\u1ea1ng x\\u00e3 h\\u1ed9i \\ud83e\\udd74\"\n        ],\n        \"semantic_type\": \"\",\n        \"description\": \"\"\n      }\n    },\n    {\n      \"column\": \"creation_time\",\n      \"properties\": {\n        \"dtype\": \"category\",\n        \"num_unique_values\": 1,\n        \"samples\": [\n          \"1750898193\"\n        ],\n        \"semantic_type\": \"\",\n        \"description\": \"\"\n      }\n    },\n    {\n      \"column\": \"total_reactions\",\n      \"properties\": {\n        \"dtype\": \"category\",\n        \"num_unique_values\": 1,\n        \"samples\": [\n          \"6292\"\n        ],\n        \"semantic_type\": \"\",\n        \"description\": \"\"\n      }\n    },\n    {\n      \"column\": \"share_count\",\n      \"properties\": {\n        \"dtype\": \"category\",\n        \"num_unique_values\": 1,\n        \"samples\": [\n          \"99\"\n        ],\n        \"semantic_type\": \"\",\n        \"description\": \"\"\n      }\n    },\n    {\n      \"column\": \"ner_content\",\n      \"properties\": {\n        \"dtype\": \"category\",\n        \"num_unique_values\": 1,\n        \"samples\": [\n          \"[\\\"Nguy\\u1ec5n H\\u1eefu C\\u00f4ng\\\"]\"\n        ],\n        \"semantic_type\": \"\",\n        \"description\": \"\"\n      }\n    },\n    {\n      \"column\": \"ner_all\",\n      \"properties\": {\n        \"dtype\": \"category\",\n        \"num_unique_values\": 6,\n        \"samples\": [\n          \"[\\\"Nguy\\u1ec5n H\\u1eefu C\\u00f4ng\\\", \\\"Vi\\u00ean\\\", \\\"Phan Th\\u1ee7y Ti\\u00ean\\\"]\"\n        ],\n        \"semantic_type\": \"\",\n        \"description\": \"\"\n      }\n    },\n    {\n      \"column\": \"aspect1\",\n      \"properties\": {\n        \"dtype\": \"category\",\n        \"num_unique_values\": 4,\n        \"samples\": [\n          \"Health\"\n        ],\n        \"semantic_type\": \"\",\n        \"description\": \"\"\n      }\n    },\n    {\n      \"column\": \"aspect2\",\n      \"properties\": {\n        \"dtype\": \"category\",\n        \"num_unique_values\": 3,\n        \"samples\": [\n          \"Other\"\n        ],\n        \"semantic_type\": \"\",\n        \"description\": \"\"\n      }\n    },\n    {\n      \"column\": \"sent1\",\n      \"properties\": {\n        \"dtype\": \"category\",\n        \"num_unique_values\": 3,\n        \"samples\": [\n          \"negative\"\n        ],\n        \"semantic_type\": \"\",\n        \"description\": \"\"\n      }\n    },\n    {\n      \"column\": \"sent2\",\n      \"properties\": {\n        \"dtype\": \"category\",\n        \"num_unique_values\": 3,\n        \"samples\": [\n          \"positive\"\n        ],\n        \"semantic_type\": \"\",\n        \"description\": \"\"\n      }\n    }\n  ]\n}",
       "type": "dataframe"
      },
      "text/html": [
       "\n",
       "  <div id=\"df-7e4e56e4-e48b-45c0-856d-b3f35bb9b04a\" class=\"colab-df-container\">\n",
       "    <div>\n",
       "<style scoped>\n",
       "    .dataframe tbody tr th:only-of-type {\n",
       "        vertical-align: middle;\n",
       "    }\n",
       "\n",
       "    .dataframe tbody tr th {\n",
       "        vertical-align: top;\n",
       "    }\n",
       "\n",
       "    .dataframe thead th {\n",
       "        text-align: right;\n",
       "    }\n",
       "</style>\n",
       "<table border=\"1\" class=\"dataframe\">\n",
       "  <thead>\n",
       "    <tr style=\"text-align: right;\">\n",
       "      <th></th>\n",
       "      <th>text_all</th>\n",
       "      <th>text_content</th>\n",
       "      <th>creation_time</th>\n",
       "      <th>total_reactions</th>\n",
       "      <th>share_count</th>\n",
       "      <th>ner_content</th>\n",
       "      <th>ner_all</th>\n",
       "      <th>aspect1</th>\n",
       "      <th>aspect2</th>\n",
       "      <th>sent1</th>\n",
       "      <th>sent2</th>\n",
       "    </tr>\n",
       "  </thead>\n",
       "  <tbody>\n",
       "    <tr>\n",
       "      <th>0</th>\n",
       "      <td>Thông tin về doanh nghiệp chỉ có 6 lao động đứng sau loạt sản phẩm Detox được vợ chồng Hữu Công quảng bá rầm rộ trên mạng xã hội 🥴\\nTheo các dữ liệu được Cổng thông tin Quốc gia về Đăng ký doanh nghiệp công bố đối với Công ty CP Sản xuất và Thương mại EHERBAL cho thấy, vợ chồng diễn viên Hữu Công (ông Nguyễn Hữu Công và bà Phan Thủy Tiên) hiện không sở hữu cổ phần hay tham gia đại diện pháp luật tại doanh nghiệp này 👉 https://s.biz.vn/Ar8KglZ</td>\n",
       "      <td>Thông tin về doanh nghiệp chỉ có 6 lao động đứng sau loạt sản phẩm Detox được vợ chồng Hữu Công quảng bá rầm rộ trên mạng xã hội 🥴</td>\n",
       "      <td>1750898193</td>\n",
       "      <td>6292</td>\n",
       "      <td>99</td>\n",
       "      <td>[\"Nguyễn Hữu Công\"]</td>\n",
       "      <td>[\"Nguyễn Hữu Công\", \"Viên\", \"Phan Thủy Tiên\"]</td>\n",
       "      <td>Law</td>\n",
       "      <td>Other</td>\n",
       "      <td>negative</td>\n",
       "      <td>positive</td>\n",
       "    </tr>\n",
       "    <tr>\n",
       "      <th>1</th>\n",
       "      <td>Thông tin về doanh nghiệp chỉ có 6 lao động đứng sau loạt sản phẩm Detox được vợ chồng Hữu Công quảng bá rầm rộ trên mạng xã hội 🥴\\nMỗi ngày thêm 1 thành viên mới 🥲</td>\n",
       "      <td>Thông tin về doanh nghiệp chỉ có 6 lao động đứng sau loạt sản phẩm Detox được vợ chồng Hữu Công quảng bá rầm rộ trên mạng xã hội 🥴</td>\n",
       "      <td>1750898193</td>\n",
       "      <td>6292</td>\n",
       "      <td>99</td>\n",
       "      <td>[\"Nguyễn Hữu Công\"]</td>\n",
       "      <td>[\"Nguyễn Hữu Công\"]</td>\n",
       "      <td>Health</td>\n",
       "      <td>Food</td>\n",
       "      <td>positive</td>\n",
       "      <td>negative</td>\n",
       "    </tr>\n",
       "    <tr>\n",
       "      <th>2</th>\n",
       "      <td>Thông tin về doanh nghiệp chỉ có 6 lao động đứng sau loạt sản phẩm Detox được vợ chồng Hữu Công quảng bá rầm rộ trên mạng xã hội 🥴\\nMỗi ngày thêm 1 thành viên mới 🥲\\nYến Lâm năm nay tiktoker thay thế nghề kế toán rồi</td>\n",
       "      <td>Thông tin về doanh nghiệp chỉ có 6 lao động đứng sau loạt sản phẩm Detox được vợ chồng Hữu Công quảng bá rầm rộ trên mạng xã hội 🥴</td>\n",
       "      <td>1750898193</td>\n",
       "      <td>6292</td>\n",
       "      <td>99</td>\n",
       "      <td>[\"Nguyễn Hữu Công\"]</td>\n",
       "      <td>[\"Nguyễn Hữu Công\", \"Yến Lâm\", \"Tiktoker\"]</td>\n",
       "      <td>Food</td>\n",
       "      <td>Law</td>\n",
       "      <td>neutral</td>\n",
       "      <td>neutral</td>\n",
       "    </tr>\n",
       "    <tr>\n",
       "      <th>3</th>\n",
       "      <td>Thông tin về doanh nghiệp chỉ có 6 lao động đứng sau loạt sản phẩm Detox được vợ chồng Hữu Công quảng bá rầm rộ trên mạng xã hội 🥴\\nChỉ nể ng mua hàng</td>\n",
       "      <td>Thông tin về doanh nghiệp chỉ có 6 lao động đứng sau loạt sản phẩm Detox được vợ chồng Hữu Công quảng bá rầm rộ trên mạng xã hội 🥴</td>\n",
       "      <td>1750898193</td>\n",
       "      <td>6292</td>\n",
       "      <td>99</td>\n",
       "      <td>[\"Nguyễn Hữu Công\"]</td>\n",
       "      <td>[\"Nguyễn Hữu Công\", \"Ng\"]</td>\n",
       "      <td>Food</td>\n",
       "      <td>Law</td>\n",
       "      <td>positive</td>\n",
       "      <td>neutral</td>\n",
       "    </tr>\n",
       "    <tr>\n",
       "      <th>4</th>\n",
       "      <td>Thông tin về doanh nghiệp chỉ có 6 lao động đứng sau loạt sản phẩm Detox được vợ chồng Hữu Công quảng bá rầm rộ trên mạng xã hội 🥴\\nChỉ nể ng mua hàng\\nĐào Trung thiệt, nể mấy Má gặp ai cũng tin, gặp ai bán cũng mua, niềm tin thiệt là …..</td>\n",
       "      <td>Thông tin về doanh nghiệp chỉ có 6 lao động đứng sau loạt sản phẩm Detox được vợ chồng Hữu Công quảng bá rầm rộ trên mạng xã hội 🥴</td>\n",
       "      <td>1750898193</td>\n",
       "      <td>6292</td>\n",
       "      <td>99</td>\n",
       "      <td>[\"Nguyễn Hữu Công\"]</td>\n",
       "      <td>[\"Nguyễn Hữu Công\"]</td>\n",
       "      <td>Sport</td>\n",
       "      <td>Food</td>\n",
       "      <td>positive</td>\n",
       "      <td>neutral</td>\n",
       "    </tr>\n",
       "    <tr>\n",
       "      <th>5</th>\n",
       "      <td>Thông tin về doanh nghiệp chỉ có 6 lao động đứng sau loạt sản phẩm Detox được vợ chồng Hữu Công quảng bá rầm rộ trên mạng xã hội 🥴\\nChỉ nể ng mua hàng\\nĐào Trung chưa biết mặt hàng này hjj</td>\n",
       "      <td>Thông tin về doanh nghiệp chỉ có 6 lao động đứng sau loạt sản phẩm Detox được vợ chồng Hữu Công quảng bá rầm rộ trên mạng xã hội 🥴</td>\n",
       "      <td>1750898193</td>\n",
       "      <td>6292</td>\n",
       "      <td>99</td>\n",
       "      <td>[\"Nguyễn Hữu Công\"]</td>\n",
       "      <td>[\"Nguyễn Hữu Công\", \"Ng\"]</td>\n",
       "      <td>Food</td>\n",
       "      <td>Law</td>\n",
       "      <td>negative</td>\n",
       "      <td>negative</td>\n",
       "    </tr>\n",
       "    <tr>\n",
       "      <th>6</th>\n",
       "      <td>Thông tin về doanh nghiệp chỉ có 6 lao động đứng sau loạt sản phẩm Detox được vợ chồng Hữu Công quảng bá rầm rộ trên mạng xã hội 🥴\\nChỉ nể ng mua hàng\\nĐào Trung động vào nỗi đau của tôi cứ nghĩ tốt cho sk lại hại bản thân.làm giàu cho chúng nó</td>\n",
       "      <td>Thông tin về doanh nghiệp chỉ có 6 lao động đứng sau loạt sản phẩm Detox được vợ chồng Hữu Công quảng bá rầm rộ trên mạng xã hội 🥴</td>\n",
       "      <td>1750898193</td>\n",
       "      <td>6292</td>\n",
       "      <td>99</td>\n",
       "      <td>[\"Nguyễn Hữu Công\"]</td>\n",
       "      <td>[\"Nguyễn Hữu Công\", \"Ng\"]</td>\n",
       "      <td>Health</td>\n",
       "      <td>Law</td>\n",
       "      <td>positive</td>\n",
       "      <td>neutral</td>\n",
       "    </tr>\n",
       "    <tr>\n",
       "      <th>7</th>\n",
       "      <td>Thông tin về doanh nghiệp chỉ có 6 lao động đứng sau loạt sản phẩm Detox được vợ chồng Hữu Công quảng bá rầm rộ trên mạng xã hội 🥴\\nChỉ nể ng mua hàng\\nTrinh Phạm Văn tin ng quá và niềm tin đặt sai chỗ</td>\n",
       "      <td>Thông tin về doanh nghiệp chỉ có 6 lao động đứng sau loạt sản phẩm Detox được vợ chồng Hữu Công quảng bá rầm rộ trên mạng xã hội 🥴</td>\n",
       "      <td>1750898193</td>\n",
       "      <td>6292</td>\n",
       "      <td>99</td>\n",
       "      <td>[\"Nguyễn Hữu Công\"]</td>\n",
       "      <td>[\"Nguyễn Hữu Công\", \"Trinh Phạm Văn\"]</td>\n",
       "      <td>Food</td>\n",
       "      <td>Law</td>\n",
       "      <td>neutral</td>\n",
       "      <td>neutral</td>\n",
       "    </tr>\n",
       "    <tr>\n",
       "      <th>8</th>\n",
       "      <td>Thông tin về doanh nghiệp chỉ có 6 lao động đứng sau loạt sản phẩm Detox được vợ chồng Hữu Công quảng bá rầm rộ trên mạng xã hội 🥴\\nChỉ nể ng mua hàng\\nĐào Trung tôi chưa kịp mua kkk</td>\n",
       "      <td>Thông tin về doanh nghiệp chỉ có 6 lao động đứng sau loạt sản phẩm Detox được vợ chồng Hữu Công quảng bá rầm rộ trên mạng xã hội 🥴</td>\n",
       "      <td>1750898193</td>\n",
       "      <td>6292</td>\n",
       "      <td>99</td>\n",
       "      <td>[\"Nguyễn Hữu Công\"]</td>\n",
       "      <td>[\"Nguyễn Hữu Công\", \"Ng\"]</td>\n",
       "      <td>Law</td>\n",
       "      <td>Other</td>\n",
       "      <td>negative</td>\n",
       "      <td>positive</td>\n",
       "    </tr>\n",
       "    <tr>\n",
       "      <th>9</th>\n",
       "      <td>Thông tin về doanh nghiệp chỉ có 6 lao động đứng sau loạt sản phẩm Detox được vợ chồng Hữu Công quảng bá rầm rộ trên mạng xã hội 🥴\\nVãi vừa hqa đặt mua xog 😂</td>\n",
       "      <td>Thông tin về doanh nghiệp chỉ có 6 lao động đứng sau loạt sản phẩm Detox được vợ chồng Hữu Công quảng bá rầm rộ trên mạng xã hội 🥴</td>\n",
       "      <td>1750898193</td>\n",
       "      <td>6292</td>\n",
       "      <td>99</td>\n",
       "      <td>[\"Nguyễn Hữu Công\"]</td>\n",
       "      <td>[\"Nguyễn Hữu Công\"]</td>\n",
       "      <td>Food</td>\n",
       "      <td>Law</td>\n",
       "      <td>positive</td>\n",
       "      <td>neutral</td>\n",
       "    </tr>\n",
       "    <tr>\n",
       "      <th>10</th>\n",
       "      <td>Thông tin về doanh nghiệp chỉ có 6 lao động đứng sau loạt sản phẩm Detox được vợ chồng Hữu Công quảng bá rầm rộ trên mạng xã hội 🥴\\nVãi vừa hqa đặt mua xog 😂\\nQuỳnh Mie huỷ đơn bác ơi🤣</td>\n",
       "      <td>Thông tin về doanh nghiệp chỉ có 6 lao động đứng sau loạt sản phẩm Detox được vợ chồng Hữu Công quảng bá rầm rộ trên mạng xã hội 🥴</td>\n",
       "      <td>1750898193</td>\n",
       "      <td>6292</td>\n",
       "      <td>99</td>\n",
       "      <td>[\"Nguyễn Hữu Công\"]</td>\n",
       "      <td>[\"Nguyễn Hữu Công\", \"Vãi\", \"Quỳnh Mie\"]</td>\n",
       "      <td>Food</td>\n",
       "      <td>Law</td>\n",
       "      <td>positive</td>\n",
       "      <td>neutral</td>\n",
       "    </tr>\n",
       "    <tr>\n",
       "      <th>11</th>\n",
       "      <td>Thông tin về doanh nghiệp chỉ có 6 lao động đứng sau loạt sản phẩm Detox được vợ chồng Hữu Công quảng bá rầm rộ trên mạng xã hội 🥴\\nVãi vừa hqa đặt mua xog 😂\\nQuỳnh Mie hủy đơn còn kịp</td>\n",
       "      <td>Thông tin về doanh nghiệp chỉ có 6 lao động đứng sau loạt sản phẩm Detox được vợ chồng Hữu Công quảng bá rầm rộ trên mạng xã hội 🥴</td>\n",
       "      <td>1750898193</td>\n",
       "      <td>6292</td>\n",
       "      <td>99</td>\n",
       "      <td>[\"Nguyễn Hữu Công\"]</td>\n",
       "      <td>[\"Nguyễn Hữu Công\", \"Vãi\", \"Quỳnh Mie\"]</td>\n",
       "      <td>Food</td>\n",
       "      <td>Law</td>\n",
       "      <td>positive</td>\n",
       "      <td>neutral</td>\n",
       "    </tr>\n",
       "    <tr>\n",
       "      <th>12</th>\n",
       "      <td>Thông tin về doanh nghiệp chỉ có 6 lao động đứng sau loạt sản phẩm Detox được vợ chồng Hữu Công quảng bá rầm rộ trên mạng xã hội 🥴\\nVãi vừa hqa đặt mua xog 😂\\nQuỳnh Mie cứ rau má tươi alo e ship tận giường bác ơi😂</td>\n",
       "      <td>Thông tin về doanh nghiệp chỉ có 6 lao động đứng sau loạt sản phẩm Detox được vợ chồng Hữu Công quảng bá rầm rộ trên mạng xã hội 🥴</td>\n",
       "      <td>1750898193</td>\n",
       "      <td>6292</td>\n",
       "      <td>99</td>\n",
       "      <td>[\"Nguyễn Hữu Công\"]</td>\n",
       "      <td>[\"Nguyễn Hữu Công\", \"Vãi\", \"Quỳnh Mie\"]</td>\n",
       "      <td>Health</td>\n",
       "      <td>Food</td>\n",
       "      <td>positive</td>\n",
       "      <td>negative</td>\n",
       "    </tr>\n",
       "    <tr>\n",
       "      <th>13</th>\n",
       "      <td>Thông tin về doanh nghiệp chỉ có 6 lao động đứng sau loạt sản phẩm Detox được vợ chồng Hữu Công quảng bá rầm rộ trên mạng xã hội 🥴\\nVãi vừa hqa đặt mua xog 😂\\nQuỳnh Mie boom nhanh còn kịp😆</td>\n",
       "      <td>Thông tin về doanh nghiệp chỉ có 6 lao động đứng sau loạt sản phẩm Detox được vợ chồng Hữu Công quảng bá rầm rộ trên mạng xã hội 🥴</td>\n",
       "      <td>1750898193</td>\n",
       "      <td>6292</td>\n",
       "      <td>99</td>\n",
       "      <td>[\"Nguyễn Hữu Công\"]</td>\n",
       "      <td>[\"Nguyễn Hữu Công\", \"Vãi\", \"Quỳnh Mie\"]</td>\n",
       "      <td>Food</td>\n",
       "      <td>Law</td>\n",
       "      <td>positive</td>\n",
       "      <td>negative</td>\n",
       "    </tr>\n",
       "    <tr>\n",
       "      <th>14</th>\n",
       "      <td>Thông tin về doanh nghiệp chỉ có 6 lao động đứng sau loạt sản phẩm Detox được vợ chồng Hữu Công quảng bá rầm rộ trên mạng xã hội 🥴\\nVãi vừa hqa đặt mua xog 😂\\nQuỳnh Mie động lực nào để bà đặt zị bà 😑</td>\n",
       "      <td>Thông tin về doanh nghiệp chỉ có 6 lao động đứng sau loạt sản phẩm Detox được vợ chồng Hữu Công quảng bá rầm rộ trên mạng xã hội 🥴</td>\n",
       "      <td>1750898193</td>\n",
       "      <td>6292</td>\n",
       "      <td>99</td>\n",
       "      <td>[\"Nguyễn Hữu Công\"]</td>\n",
       "      <td>[\"Nguyễn Hữu Công\", \"Vãi\", \"Quỳnh Mie\"]</td>\n",
       "      <td>Sport</td>\n",
       "      <td>Food</td>\n",
       "      <td>positive</td>\n",
       "      <td>negative</td>\n",
       "    </tr>\n",
       "    <tr>\n",
       "      <th>15</th>\n",
       "      <td>Thông tin về doanh nghiệp chỉ có 6 lao động đứng sau loạt sản phẩm Detox được vợ chồng Hữu Công quảng bá rầm rộ trên mạng xã hội 🥴\\nVãi vừa hqa đặt mua xog 😂\\nQuỳnh Mie  bom luôn chứ nhận chi nữa😆</td>\n",
       "      <td>Thông tin về doanh nghiệp chỉ có 6 lao động đứng sau loạt sản phẩm Detox được vợ chồng Hữu Công quảng bá rầm rộ trên mạng xã hội 🥴</td>\n",
       "      <td>1750898193</td>\n",
       "      <td>6292</td>\n",
       "      <td>99</td>\n",
       "      <td>[\"Nguyễn Hữu Công\"]</td>\n",
       "      <td>[\"Nguyễn Hữu Công\", \"Vãi\", \"Quỳnh Mie\"]</td>\n",
       "      <td>Health</td>\n",
       "      <td>Law</td>\n",
       "      <td>positive</td>\n",
       "      <td>neutral</td>\n",
       "    </tr>\n",
       "    <tr>\n",
       "      <th>16</th>\n",
       "      <td>Thông tin về doanh nghiệp chỉ có 6 lao động đứng sau loạt sản phẩm Detox được vợ chồng Hữu Công quảng bá rầm rộ trên mạng xã hội 🥴\\nVãi vừa hqa đặt mua xog 😂\\nQuỳnh Mie mới đặt hết 1tr2🥹</td>\n",
       "      <td>Thông tin về doanh nghiệp chỉ có 6 lao động đứng sau loạt sản phẩm Detox được vợ chồng Hữu Công quảng bá rầm rộ trên mạng xã hội 🥴</td>\n",
       "      <td>1750898193</td>\n",
       "      <td>6292</td>\n",
       "      <td>99</td>\n",
       "      <td>[\"Nguyễn Hữu Công\"]</td>\n",
       "      <td>[\"Nguyễn Hữu Công\", \"Vãi\", \"Quỳnh Mie\"]</td>\n",
       "      <td>Health</td>\n",
       "      <td>Food</td>\n",
       "      <td>positive</td>\n",
       "      <td>negative</td>\n",
       "    </tr>\n",
       "    <tr>\n",
       "      <th>17</th>\n",
       "      <td>Thông tin về doanh nghiệp chỉ có 6 lao động đứng sau loạt sản phẩm Detox được vợ chồng Hữu Công quảng bá rầm rộ trên mạng xã hội 🥴\\nVãi vừa hqa đặt mua xog 😂\\nQuỳnh Mie nó nói hay quá mà</td>\n",
       "      <td>Thông tin về doanh nghiệp chỉ có 6 lao động đứng sau loạt sản phẩm Detox được vợ chồng Hữu Công quảng bá rầm rộ trên mạng xã hội 🥴</td>\n",
       "      <td>1750898193</td>\n",
       "      <td>6292</td>\n",
       "      <td>99</td>\n",
       "      <td>[\"Nguyễn Hữu Công\"]</td>\n",
       "      <td>[\"Nguyễn Hữu Công\", \"Vãi\", \"Quỳnh Mie\"]</td>\n",
       "      <td>Sport</td>\n",
       "      <td>Food</td>\n",
       "      <td>positive</td>\n",
       "      <td>neutral</td>\n",
       "    </tr>\n",
       "  </tbody>\n",
       "</table>\n",
       "</div>\n",
       "    <div class=\"colab-df-buttons\">\n",
       "\n",
       "  <div class=\"colab-df-container\">\n",
       "    <button class=\"colab-df-convert\" onclick=\"convertToInteractive('df-7e4e56e4-e48b-45c0-856d-b3f35bb9b04a')\"\n",
       "            title=\"Convert this dataframe to an interactive table.\"\n",
       "            style=\"display:none;\">\n",
       "\n",
       "  <svg xmlns=\"http://www.w3.org/2000/svg\" height=\"24px\" viewBox=\"0 -960 960 960\">\n",
       "    <path d=\"M120-120v-720h720v720H120Zm60-500h600v-160H180v160Zm220 220h160v-160H400v160Zm0 220h160v-160H400v160ZM180-400h160v-160H180v160Zm440 0h160v-160H620v160ZM180-180h160v-160H180v160Zm440 0h160v-160H620v160Z\"/>\n",
       "  </svg>\n",
       "    </button>\n",
       "\n",
       "  <style>\n",
       "    .colab-df-container {\n",
       "      display:flex;\n",
       "      gap: 12px;\n",
       "    }\n",
       "\n",
       "    .colab-df-convert {\n",
       "      background-color: #E8F0FE;\n",
       "      border: none;\n",
       "      border-radius: 50%;\n",
       "      cursor: pointer;\n",
       "      display: none;\n",
       "      fill: #1967D2;\n",
       "      height: 32px;\n",
       "      padding: 0 0 0 0;\n",
       "      width: 32px;\n",
       "    }\n",
       "\n",
       "    .colab-df-convert:hover {\n",
       "      background-color: #E2EBFA;\n",
       "      box-shadow: 0px 1px 2px rgba(60, 64, 67, 0.3), 0px 1px 3px 1px rgba(60, 64, 67, 0.15);\n",
       "      fill: #174EA6;\n",
       "    }\n",
       "\n",
       "    .colab-df-buttons div {\n",
       "      margin-bottom: 4px;\n",
       "    }\n",
       "\n",
       "    [theme=dark] .colab-df-convert {\n",
       "      background-color: #3B4455;\n",
       "      fill: #D2E3FC;\n",
       "    }\n",
       "\n",
       "    [theme=dark] .colab-df-convert:hover {\n",
       "      background-color: #434B5C;\n",
       "      box-shadow: 0px 1px 3px 1px rgba(0, 0, 0, 0.15);\n",
       "      filter: drop-shadow(0px 1px 2px rgba(0, 0, 0, 0.3));\n",
       "      fill: #FFFFFF;\n",
       "    }\n",
       "  </style>\n",
       "\n",
       "    <script>\n",
       "      const buttonEl =\n",
       "        document.querySelector('#df-7e4e56e4-e48b-45c0-856d-b3f35bb9b04a button.colab-df-convert');\n",
       "      buttonEl.style.display =\n",
       "        google.colab.kernel.accessAllowed ? 'block' : 'none';\n",
       "\n",
       "      async function convertToInteractive(key) {\n",
       "        const element = document.querySelector('#df-7e4e56e4-e48b-45c0-856d-b3f35bb9b04a');\n",
       "        const dataTable =\n",
       "          await google.colab.kernel.invokeFunction('convertToInteractive',\n",
       "                                                    [key], {});\n",
       "        if (!dataTable) return;\n",
       "\n",
       "        const docLinkHtml = 'Like what you see? Visit the ' +\n",
       "          '<a target=\"_blank\" href=https://colab.research.google.com/notebooks/data_table.ipynb>data table notebook</a>'\n",
       "          + ' to learn more about interactive tables.';\n",
       "        element.innerHTML = '';\n",
       "        dataTable['output_type'] = 'display_data';\n",
       "        await google.colab.output.renderOutput(dataTable, element);\n",
       "        const docLink = document.createElement('div');\n",
       "        docLink.innerHTML = docLinkHtml;\n",
       "        element.appendChild(docLink);\n",
       "      }\n",
       "    </script>\n",
       "  </div>\n",
       "\n",
       "\n",
       "    <div id=\"df-8a32dcdf-963b-4e9d-b937-bcb97f0531c4\">\n",
       "      <button class=\"colab-df-quickchart\" onclick=\"quickchart('df-8a32dcdf-963b-4e9d-b937-bcb97f0531c4')\"\n",
       "                title=\"Suggest charts\"\n",
       "                style=\"display:none;\">\n",
       "\n",
       "<svg xmlns=\"http://www.w3.org/2000/svg\" height=\"24px\"viewBox=\"0 0 24 24\"\n",
       "     width=\"24px\">\n",
       "    <g>\n",
       "        <path d=\"M19 3H5c-1.1 0-2 .9-2 2v14c0 1.1.9 2 2 2h14c1.1 0 2-.9 2-2V5c0-1.1-.9-2-2-2zM9 17H7v-7h2v7zm4 0h-2V7h2v10zm4 0h-2v-4h2v4z\"/>\n",
       "    </g>\n",
       "</svg>\n",
       "      </button>\n",
       "\n",
       "<style>\n",
       "  .colab-df-quickchart {\n",
       "      --bg-color: #E8F0FE;\n",
       "      --fill-color: #1967D2;\n",
       "      --hover-bg-color: #E2EBFA;\n",
       "      --hover-fill-color: #174EA6;\n",
       "      --disabled-fill-color: #AAA;\n",
       "      --disabled-bg-color: #DDD;\n",
       "  }\n",
       "\n",
       "  [theme=dark] .colab-df-quickchart {\n",
       "      --bg-color: #3B4455;\n",
       "      --fill-color: #D2E3FC;\n",
       "      --hover-bg-color: #434B5C;\n",
       "      --hover-fill-color: #FFFFFF;\n",
       "      --disabled-bg-color: #3B4455;\n",
       "      --disabled-fill-color: #666;\n",
       "  }\n",
       "\n",
       "  .colab-df-quickchart {\n",
       "    background-color: var(--bg-color);\n",
       "    border: none;\n",
       "    border-radius: 50%;\n",
       "    cursor: pointer;\n",
       "    display: none;\n",
       "    fill: var(--fill-color);\n",
       "    height: 32px;\n",
       "    padding: 0;\n",
       "    width: 32px;\n",
       "  }\n",
       "\n",
       "  .colab-df-quickchart:hover {\n",
       "    background-color: var(--hover-bg-color);\n",
       "    box-shadow: 0 1px 2px rgba(60, 64, 67, 0.3), 0 1px 3px 1px rgba(60, 64, 67, 0.15);\n",
       "    fill: var(--button-hover-fill-color);\n",
       "  }\n",
       "\n",
       "  .colab-df-quickchart-complete:disabled,\n",
       "  .colab-df-quickchart-complete:disabled:hover {\n",
       "    background-color: var(--disabled-bg-color);\n",
       "    fill: var(--disabled-fill-color);\n",
       "    box-shadow: none;\n",
       "  }\n",
       "\n",
       "  .colab-df-spinner {\n",
       "    border: 2px solid var(--fill-color);\n",
       "    border-color: transparent;\n",
       "    border-bottom-color: var(--fill-color);\n",
       "    animation:\n",
       "      spin 1s steps(1) infinite;\n",
       "  }\n",
       "\n",
       "  @keyframes spin {\n",
       "    0% {\n",
       "      border-color: transparent;\n",
       "      border-bottom-color: var(--fill-color);\n",
       "      border-left-color: var(--fill-color);\n",
       "    }\n",
       "    20% {\n",
       "      border-color: transparent;\n",
       "      border-left-color: var(--fill-color);\n",
       "      border-top-color: var(--fill-color);\n",
       "    }\n",
       "    30% {\n",
       "      border-color: transparent;\n",
       "      border-left-color: var(--fill-color);\n",
       "      border-top-color: var(--fill-color);\n",
       "      border-right-color: var(--fill-color);\n",
       "    }\n",
       "    40% {\n",
       "      border-color: transparent;\n",
       "      border-right-color: var(--fill-color);\n",
       "      border-top-color: var(--fill-color);\n",
       "    }\n",
       "    60% {\n",
       "      border-color: transparent;\n",
       "      border-right-color: var(--fill-color);\n",
       "    }\n",
       "    80% {\n",
       "      border-color: transparent;\n",
       "      border-right-color: var(--fill-color);\n",
       "      border-bottom-color: var(--fill-color);\n",
       "    }\n",
       "    90% {\n",
       "      border-color: transparent;\n",
       "      border-bottom-color: var(--fill-color);\n",
       "    }\n",
       "  }\n",
       "</style>\n",
       "\n",
       "      <script>\n",
       "        async function quickchart(key) {\n",
       "          const quickchartButtonEl =\n",
       "            document.querySelector('#' + key + ' button');\n",
       "          quickchartButtonEl.disabled = true;  // To prevent multiple clicks.\n",
       "          quickchartButtonEl.classList.add('colab-df-spinner');\n",
       "          try {\n",
       "            const charts = await google.colab.kernel.invokeFunction(\n",
       "                'suggestCharts', [key], {});\n",
       "          } catch (error) {\n",
       "            console.error('Error during call to suggestCharts:', error);\n",
       "          }\n",
       "          quickchartButtonEl.classList.remove('colab-df-spinner');\n",
       "          quickchartButtonEl.classList.add('colab-df-quickchart-complete');\n",
       "        }\n",
       "        (() => {\n",
       "          let quickchartButtonEl =\n",
       "            document.querySelector('#df-8a32dcdf-963b-4e9d-b937-bcb97f0531c4 button');\n",
       "          quickchartButtonEl.style.display =\n",
       "            google.colab.kernel.accessAllowed ? 'block' : 'none';\n",
       "        })();\n",
       "      </script>\n",
       "    </div>\n",
       "\n",
       "    </div>\n",
       "  </div>\n"
      ],
      "text/plain": [
       "                                                                                                                                                                                                                                                                                                                                                                                                                                                          text_all  \\\n",
       "0   Thông tin về doanh nghiệp chỉ có 6 lao động đứng sau loạt sản phẩm Detox được vợ chồng Hữu Công quảng bá rầm rộ trên mạng xã hội 🥴\\nTheo các dữ liệu được Cổng thông tin Quốc gia về Đăng ký doanh nghiệp công bố đối với Công ty CP Sản xuất và Thương mại EHERBAL cho thấy, vợ chồng diễn viên Hữu Công (ông Nguyễn Hữu Công và bà Phan Thủy Tiên) hiện không sở hữu cổ phần hay tham gia đại diện pháp luật tại doanh nghiệp này 👉 https://s.biz.vn/Ar8KglZ   \n",
       "1                                                                                                                                                                                                                                                                                             Thông tin về doanh nghiệp chỉ có 6 lao động đứng sau loạt sản phẩm Detox được vợ chồng Hữu Công quảng bá rầm rộ trên mạng xã hội 🥴\\nMỗi ngày thêm 1 thành viên mới 🥲   \n",
       "2                                                                                                                                                                                                                                         Thông tin về doanh nghiệp chỉ có 6 lao động đứng sau loạt sản phẩm Detox được vợ chồng Hữu Công quảng bá rầm rộ trên mạng xã hội 🥴\\nMỗi ngày thêm 1 thành viên mới 🥲\\nYến Lâm năm nay tiktoker thay thế nghề kế toán rồi   \n",
       "3                                                                                                                                                                                                                                                                                                           Thông tin về doanh nghiệp chỉ có 6 lao động đứng sau loạt sản phẩm Detox được vợ chồng Hữu Công quảng bá rầm rộ trên mạng xã hội 🥴\\nChỉ nể ng mua hàng   \n",
       "4                                                                                                                                                                                                                   Thông tin về doanh nghiệp chỉ có 6 lao động đứng sau loạt sản phẩm Detox được vợ chồng Hữu Công quảng bá rầm rộ trên mạng xã hội 🥴\\nChỉ nể ng mua hàng\\nĐào Trung thiệt, nể mấy Má gặp ai cũng tin, gặp ai bán cũng mua, niềm tin thiệt là …..   \n",
       "5                                                                                                                                                                                                                                                                     Thông tin về doanh nghiệp chỉ có 6 lao động đứng sau loạt sản phẩm Detox được vợ chồng Hữu Công quảng bá rầm rộ trên mạng xã hội 🥴\\nChỉ nể ng mua hàng\\nĐào Trung chưa biết mặt hàng này hjj   \n",
       "6                                                                                                                                                                                                             Thông tin về doanh nghiệp chỉ có 6 lao động đứng sau loạt sản phẩm Detox được vợ chồng Hữu Công quảng bá rầm rộ trên mạng xã hội 🥴\\nChỉ nể ng mua hàng\\nĐào Trung động vào nỗi đau của tôi cứ nghĩ tốt cho sk lại hại bản thân.làm giàu cho chúng nó   \n",
       "7                                                                                                                                                                                                                                                        Thông tin về doanh nghiệp chỉ có 6 lao động đứng sau loạt sản phẩm Detox được vợ chồng Hữu Công quảng bá rầm rộ trên mạng xã hội 🥴\\nChỉ nể ng mua hàng\\nTrinh Phạm Văn tin ng quá và niềm tin đặt sai chỗ   \n",
       "8                                                                                                                                                                                                                                                                           Thông tin về doanh nghiệp chỉ có 6 lao động đứng sau loạt sản phẩm Detox được vợ chồng Hữu Công quảng bá rầm rộ trên mạng xã hội 🥴\\nChỉ nể ng mua hàng\\nĐào Trung tôi chưa kịp mua kkk   \n",
       "9                                                                                                                                                                                                                                                                                                    Thông tin về doanh nghiệp chỉ có 6 lao động đứng sau loạt sản phẩm Detox được vợ chồng Hữu Công quảng bá rầm rộ trên mạng xã hội 🥴\\nVãi vừa hqa đặt mua xog 😂   \n",
       "10                                                                                                                                                                                                                                                                        Thông tin về doanh nghiệp chỉ có 6 lao động đứng sau loạt sản phẩm Detox được vợ chồng Hữu Công quảng bá rầm rộ trên mạng xã hội 🥴\\nVãi vừa hqa đặt mua xog 😂\\nQuỳnh Mie huỷ đơn bác ơi🤣   \n",
       "11                                                                                                                                                                                                                                                                        Thông tin về doanh nghiệp chỉ có 6 lao động đứng sau loạt sản phẩm Detox được vợ chồng Hữu Công quảng bá rầm rộ trên mạng xã hội 🥴\\nVãi vừa hqa đặt mua xog 😂\\nQuỳnh Mie hủy đơn còn kịp   \n",
       "12                                                                                                                                                                                                                                           Thông tin về doanh nghiệp chỉ có 6 lao động đứng sau loạt sản phẩm Detox được vợ chồng Hữu Công quảng bá rầm rộ trên mạng xã hội 🥴\\nVãi vừa hqa đặt mua xog 😂\\nQuỳnh Mie cứ rau má tươi alo e ship tận giường bác ơi😂   \n",
       "13                                                                                                                                                                                                                                                                    Thông tin về doanh nghiệp chỉ có 6 lao động đứng sau loạt sản phẩm Detox được vợ chồng Hữu Công quảng bá rầm rộ trên mạng xã hội 🥴\\nVãi vừa hqa đặt mua xog 😂\\nQuỳnh Mie boom nhanh còn kịp😆   \n",
       "14                                                                                                                                                                                                                                                         Thông tin về doanh nghiệp chỉ có 6 lao động đứng sau loạt sản phẩm Detox được vợ chồng Hữu Công quảng bá rầm rộ trên mạng xã hội 🥴\\nVãi vừa hqa đặt mua xog 😂\\nQuỳnh Mie động lực nào để bà đặt zị bà 😑   \n",
       "15                                                                                                                                                                                                                                                            Thông tin về doanh nghiệp chỉ có 6 lao động đứng sau loạt sản phẩm Detox được vợ chồng Hữu Công quảng bá rầm rộ trên mạng xã hội 🥴\\nVãi vừa hqa đặt mua xog 😂\\nQuỳnh Mie  bom luôn chứ nhận chi nữa😆   \n",
       "16                                                                                                                                                                                                                                                                      Thông tin về doanh nghiệp chỉ có 6 lao động đứng sau loạt sản phẩm Detox được vợ chồng Hữu Công quảng bá rầm rộ trên mạng xã hội 🥴\\nVãi vừa hqa đặt mua xog 😂\\nQuỳnh Mie mới đặt hết 1tr2🥹   \n",
       "17                                                                                                                                                                                                                                                                      Thông tin về doanh nghiệp chỉ có 6 lao động đứng sau loạt sản phẩm Detox được vợ chồng Hữu Công quảng bá rầm rộ trên mạng xã hội 🥴\\nVãi vừa hqa đặt mua xog 😂\\nQuỳnh Mie nó nói hay quá mà   \n",
       "\n",
       "                                                                                                                          text_content  \\\n",
       "0   Thông tin về doanh nghiệp chỉ có 6 lao động đứng sau loạt sản phẩm Detox được vợ chồng Hữu Công quảng bá rầm rộ trên mạng xã hội 🥴   \n",
       "1   Thông tin về doanh nghiệp chỉ có 6 lao động đứng sau loạt sản phẩm Detox được vợ chồng Hữu Công quảng bá rầm rộ trên mạng xã hội 🥴   \n",
       "2   Thông tin về doanh nghiệp chỉ có 6 lao động đứng sau loạt sản phẩm Detox được vợ chồng Hữu Công quảng bá rầm rộ trên mạng xã hội 🥴   \n",
       "3   Thông tin về doanh nghiệp chỉ có 6 lao động đứng sau loạt sản phẩm Detox được vợ chồng Hữu Công quảng bá rầm rộ trên mạng xã hội 🥴   \n",
       "4   Thông tin về doanh nghiệp chỉ có 6 lao động đứng sau loạt sản phẩm Detox được vợ chồng Hữu Công quảng bá rầm rộ trên mạng xã hội 🥴   \n",
       "5   Thông tin về doanh nghiệp chỉ có 6 lao động đứng sau loạt sản phẩm Detox được vợ chồng Hữu Công quảng bá rầm rộ trên mạng xã hội 🥴   \n",
       "6   Thông tin về doanh nghiệp chỉ có 6 lao động đứng sau loạt sản phẩm Detox được vợ chồng Hữu Công quảng bá rầm rộ trên mạng xã hội 🥴   \n",
       "7   Thông tin về doanh nghiệp chỉ có 6 lao động đứng sau loạt sản phẩm Detox được vợ chồng Hữu Công quảng bá rầm rộ trên mạng xã hội 🥴   \n",
       "8   Thông tin về doanh nghiệp chỉ có 6 lao động đứng sau loạt sản phẩm Detox được vợ chồng Hữu Công quảng bá rầm rộ trên mạng xã hội 🥴   \n",
       "9   Thông tin về doanh nghiệp chỉ có 6 lao động đứng sau loạt sản phẩm Detox được vợ chồng Hữu Công quảng bá rầm rộ trên mạng xã hội 🥴   \n",
       "10  Thông tin về doanh nghiệp chỉ có 6 lao động đứng sau loạt sản phẩm Detox được vợ chồng Hữu Công quảng bá rầm rộ trên mạng xã hội 🥴   \n",
       "11  Thông tin về doanh nghiệp chỉ có 6 lao động đứng sau loạt sản phẩm Detox được vợ chồng Hữu Công quảng bá rầm rộ trên mạng xã hội 🥴   \n",
       "12  Thông tin về doanh nghiệp chỉ có 6 lao động đứng sau loạt sản phẩm Detox được vợ chồng Hữu Công quảng bá rầm rộ trên mạng xã hội 🥴   \n",
       "13  Thông tin về doanh nghiệp chỉ có 6 lao động đứng sau loạt sản phẩm Detox được vợ chồng Hữu Công quảng bá rầm rộ trên mạng xã hội 🥴   \n",
       "14  Thông tin về doanh nghiệp chỉ có 6 lao động đứng sau loạt sản phẩm Detox được vợ chồng Hữu Công quảng bá rầm rộ trên mạng xã hội 🥴   \n",
       "15  Thông tin về doanh nghiệp chỉ có 6 lao động đứng sau loạt sản phẩm Detox được vợ chồng Hữu Công quảng bá rầm rộ trên mạng xã hội 🥴   \n",
       "16  Thông tin về doanh nghiệp chỉ có 6 lao động đứng sau loạt sản phẩm Detox được vợ chồng Hữu Công quảng bá rầm rộ trên mạng xã hội 🥴   \n",
       "17  Thông tin về doanh nghiệp chỉ có 6 lao động đứng sau loạt sản phẩm Detox được vợ chồng Hữu Công quảng bá rầm rộ trên mạng xã hội 🥴   \n",
       "\n",
       "   creation_time total_reactions share_count          ner_content  \\\n",
       "0     1750898193            6292          99  [\"Nguyễn Hữu Công\"]   \n",
       "1     1750898193            6292          99  [\"Nguyễn Hữu Công\"]   \n",
       "2     1750898193            6292          99  [\"Nguyễn Hữu Công\"]   \n",
       "3     1750898193            6292          99  [\"Nguyễn Hữu Công\"]   \n",
       "4     1750898193            6292          99  [\"Nguyễn Hữu Công\"]   \n",
       "5     1750898193            6292          99  [\"Nguyễn Hữu Công\"]   \n",
       "6     1750898193            6292          99  [\"Nguyễn Hữu Công\"]   \n",
       "7     1750898193            6292          99  [\"Nguyễn Hữu Công\"]   \n",
       "8     1750898193            6292          99  [\"Nguyễn Hữu Công\"]   \n",
       "9     1750898193            6292          99  [\"Nguyễn Hữu Công\"]   \n",
       "10    1750898193            6292          99  [\"Nguyễn Hữu Công\"]   \n",
       "11    1750898193            6292          99  [\"Nguyễn Hữu Công\"]   \n",
       "12    1750898193            6292          99  [\"Nguyễn Hữu Công\"]   \n",
       "13    1750898193            6292          99  [\"Nguyễn Hữu Công\"]   \n",
       "14    1750898193            6292          99  [\"Nguyễn Hữu Công\"]   \n",
       "15    1750898193            6292          99  [\"Nguyễn Hữu Công\"]   \n",
       "16    1750898193            6292          99  [\"Nguyễn Hữu Công\"]   \n",
       "17    1750898193            6292          99  [\"Nguyễn Hữu Công\"]   \n",
       "\n",
       "                                          ner_all aspect1 aspect2     sent1  \\\n",
       "0   [\"Nguyễn Hữu Công\", \"Viên\", \"Phan Thủy Tiên\"]     Law   Other  negative   \n",
       "1                             [\"Nguyễn Hữu Công\"]  Health    Food  positive   \n",
       "2      [\"Nguyễn Hữu Công\", \"Yến Lâm\", \"Tiktoker\"]    Food     Law   neutral   \n",
       "3                       [\"Nguyễn Hữu Công\", \"Ng\"]    Food     Law  positive   \n",
       "4                             [\"Nguyễn Hữu Công\"]   Sport    Food  positive   \n",
       "5                       [\"Nguyễn Hữu Công\", \"Ng\"]    Food     Law  negative   \n",
       "6                       [\"Nguyễn Hữu Công\", \"Ng\"]  Health     Law  positive   \n",
       "7           [\"Nguyễn Hữu Công\", \"Trinh Phạm Văn\"]    Food     Law   neutral   \n",
       "8                       [\"Nguyễn Hữu Công\", \"Ng\"]     Law   Other  negative   \n",
       "9                             [\"Nguyễn Hữu Công\"]    Food     Law  positive   \n",
       "10        [\"Nguyễn Hữu Công\", \"Vãi\", \"Quỳnh Mie\"]    Food     Law  positive   \n",
       "11        [\"Nguyễn Hữu Công\", \"Vãi\", \"Quỳnh Mie\"]    Food     Law  positive   \n",
       "12        [\"Nguyễn Hữu Công\", \"Vãi\", \"Quỳnh Mie\"]  Health    Food  positive   \n",
       "13        [\"Nguyễn Hữu Công\", \"Vãi\", \"Quỳnh Mie\"]    Food     Law  positive   \n",
       "14        [\"Nguyễn Hữu Công\", \"Vãi\", \"Quỳnh Mie\"]   Sport    Food  positive   \n",
       "15        [\"Nguyễn Hữu Công\", \"Vãi\", \"Quỳnh Mie\"]  Health     Law  positive   \n",
       "16        [\"Nguyễn Hữu Công\", \"Vãi\", \"Quỳnh Mie\"]  Health    Food  positive   \n",
       "17        [\"Nguyễn Hữu Công\", \"Vãi\", \"Quỳnh Mie\"]   Sport    Food  positive   \n",
       "\n",
       "       sent2  \n",
       "0   positive  \n",
       "1   negative  \n",
       "2    neutral  \n",
       "3    neutral  \n",
       "4    neutral  \n",
       "5   negative  \n",
       "6    neutral  \n",
       "7    neutral  \n",
       "8   positive  \n",
       "9    neutral  \n",
       "10   neutral  \n",
       "11   neutral  \n",
       "12  negative  \n",
       "13  negative  \n",
       "14  negative  \n",
       "15   neutral  \n",
       "16  negative  \n",
       "17   neutral  "
      ]
     },
     "metadata": {},
     "output_type": "display_data"
    }
   ],
   "source": [
    "pd.set_option(\"display.max_colwidth\", None)\n",
    "for i in range(8):\n",
    "    clear_output(wait=True)\n",
    "    df_show = spark.sql(\"SELECT * FROM debug_pred\")\n",
    "    print(f\"{(i)*10} giây\")\n",
    "    display(df_show.toPandas())\n",
    "    time.sleep(10)"
   ]
  },
  {
   "cell_type": "code",
   "execution_count": 48,
   "id": "WzMUlJKW0ymK",
   "metadata": {
    "colab": {
     "base_uri": "https://localhost:8080/"
    },
    "executionInfo": {
     "elapsed": 1518,
     "status": "ok",
     "timestamp": 1752460375183,
     "user": {
      "displayName": "Duy Hoang",
      "userId": "14942285181523211297"
     },
     "user_tz": -420
    },
    "id": "WzMUlJKW0ymK",
    "outputId": "e63c5144-87a8-4ea4-c3a2-89a107534423"
   },
   "outputs": [
    {
     "name": "stdout",
     "output_type": "stream",
     "text": [
      "+--------+\n",
      "|count(1)|\n",
      "+--------+\n",
      "|      28|\n",
      "+--------+\n",
      "\n"
     ]
    }
   ],
   "source": [
    "spark.sql(\"SELECT COUNT(*) FROM debug_pred\").show()"
   ]
  },
  {
   "cell_type": "code",
   "execution_count": 49,
   "id": "UUo9H98jOvuQ",
   "metadata": {
    "executionInfo": {
     "elapsed": 50,
     "status": "ok",
     "timestamp": 1752460375235,
     "user": {
      "displayName": "Duy Hoang",
      "userId": "14942285181523211297"
     },
     "user_tz": -420
    },
    "id": "UUo9H98jOvuQ"
   },
   "outputs": [],
   "source": [
    "query.stop()"
   ]
  },
  {
   "cell_type": "code",
   "execution_count": 50,
   "id": "6c6wfdZ3XCDp",
   "metadata": {
    "executionInfo": {
     "elapsed": 14,
     "status": "ok",
     "timestamp": 1752460375251,
     "user": {
      "displayName": "Duy Hoang",
      "userId": "14942285181523211297"
     },
     "user_tz": -420
    },
    "id": "6c6wfdZ3XCDp"
   },
   "outputs": [],
   "source": [
    "debug_pred_query.stop()"
   ]
  },
  {
   "cell_type": "code",
   "execution_count": 51,
   "id": "J6o_QJ1EXCcB",
   "metadata": {
    "executionInfo": {
     "elapsed": 16,
     "status": "ok",
     "timestamp": 1752460375269,
     "user": {
      "displayName": "Duy Hoang",
      "userId": "14942285181523211297"
     },
     "user_tz": -420
    },
    "id": "J6o_QJ1EXCcB"
   },
   "outputs": [],
   "source": [
    "streaming_predict.stop()"
   ]
  },
  {
   "cell_type": "code",
   "execution_count": 52,
   "id": "NASyYPp2IWSY",
   "metadata": {
    "colab": {
     "base_uri": "https://localhost:8080/"
    },
    "executionInfo": {
     "elapsed": 9530,
     "status": "ok",
     "timestamp": 1752460384800,
     "user": {
      "displayName": "Duy Hoang",
      "userId": "14942285181523211297"
     },
     "user_tz": -420
    },
    "id": "NASyYPp2IWSY",
    "outputId": "d5a02a76-68a7-4927-9a00-cd6fcc25c650"
   },
   "outputs": [
    {
     "name": "stdout",
     "output_type": "stream",
     "text": [
      "Producer stopped early\n",
      "Producer done sending.\n"
     ]
    }
   ],
   "source": [
    "stop_flag.set()\n",
    "producer_thread.join()"
   ]
  },
  {
   "cell_type": "code",
   "execution_count": 53,
   "id": "x-ePHkouYrYT",
   "metadata": {
    "executionInfo": {
     "elapsed": 3,
     "status": "ok",
     "timestamp": 1752460384800,
     "user": {
      "displayName": "Duy Hoang",
      "userId": "14942285181523211297"
     },
     "user_tz": -420
    },
    "id": "x-ePHkouYrYT"
   },
   "outputs": [],
   "source": [
    "import time"
   ]
  },
  {
   "cell_type": "code",
   "execution_count": 54,
   "id": "1MJcGTbGpGu1",
   "metadata": {
    "executionInfo": {
     "elapsed": 50,
     "status": "ok",
     "timestamp": 1752460384849,
     "user": {
      "displayName": "Duy Hoang",
      "userId": "14942285181523211297"
     },
     "user_tz": -420
    },
    "id": "1MJcGTbGpGu1"
   },
   "outputs": [],
   "source": [
    "from pyspark.sql import Row\n",
    "import time\n",
    "\n",
    "sample_records = [\n",
    "    Row(\n",
    "        text_all=\"Ca sĩ Mỹ Tâm vừa ra mắt MV mới. Cô ấy được khen ngợi rất nhiều. Mỹ Tâm quá tuyệt vời!\",\n",
    "        text_content=\"Ca sĩ Mỹ Tâm vừa ra mắt MV mới.\",\n",
    "        creation_time=str(int(time.time())),\n",
    "        total_reactions=\"1200\"\n",
    "    ),\n",
    "    Row(\n",
    "        text_all=\"Sơn Tùng M-TP bị chỉ trích vì lời bài hát. Không nên chỉ trích Sơn Tùng như vậy.\",\n",
    "        text_content=\"Sơn Tùng M-TP bị chỉ trích vì lời bài hát.\",\n",
    "        creation_time=str(int(time.time())),\n",
    "        total_reactions=\"900\"\n",
    "    )\n",
    "]\n",
    "\n",
    "test_df = spark.createDataFrame(sample_records)\n"
   ]
  },
  {
   "cell_type": "code",
   "execution_count": 55,
   "id": "Zw6guap4pHBU",
   "metadata": {
    "colab": {
     "base_uri": "https://localhost:8080/",
     "height": 691,
     "referenced_widgets": [
      "d070b10ebcc5499f8695f795f71ee84f",
      "ad58c0fbdb464c3394ace8365973526d",
      "6bb46964c99b42cdb9734d73507219cd",
      "ad5c498277c64bae81cc00a44e1c772e",
      "d97285a183c84d9fad53c166273c6942",
      "f77ccae0fee246a58ebcc452f3ae7807",
      "48d65f4b3a23488bb3bd3a1e8eedfee4",
      "39de195485d940068924a52f19fd47c5",
      "dda1daf66ef34f8f84af87bc318eb18d",
      "7756880218a24d5aa36f594436961207",
      "9cfd7616245849c0b988362be252cfc6",
      "06879519c33e4bab9c779a10c4bb51e0",
      "a79b0716f05f430aae84702cf275828c",
      "84363e860e184cbbb0287da7cc39c65b",
      "63c9736d50c742dba603c0e80b485032",
      "bedc06837dea4a3fa66723d33e73a117",
      "86876bafdfae421c974f6f428f32a0bb",
      "2aafe317c6ea43888c3e312caecc5825",
      "1edfdbb83ae54ea3acc11c7d9f7f9594",
      "b91774668fa74912be3fb804d0faff80",
      "ee804ab92d0a46c288343c09abe94f1b",
      "7d68cdbb4a9148cbaefd9d58b2eb5a51"
     ]
    },
    "executionInfo": {
     "elapsed": 75684,
     "status": "ok",
     "timestamp": 1752460460536,
     "user": {
      "displayName": "Duy Hoang",
      "userId": "14942285181523211297"
     },
     "user_tz": -420
    },
    "id": "Zw6guap4pHBU",
    "outputId": "34285f73-5199-437e-b3fb-912784263ae4"
   },
   "outputs": [
    {
     "name": "stderr",
     "output_type": "stream",
     "text": [
      "/usr/local/lib/python3.11/dist-packages/huggingface_hub/utils/_auth.py:94: UserWarning: \n",
      "The secret `HF_TOKEN` does not exist in your Colab secrets.\n",
      "To authenticate with the Hugging Face Hub, create a token in your settings tab (https://huggingface.co/settings/tokens), set it as secret in your Google Colab and restart your session.\n",
      "You will be able to reuse this secret in all of your notebooks.\n",
      "Please note that authentication is recommended but still optional to access public models or datasets.\n",
      "  warnings.warn(\n",
      "Device set to use cuda:0\n"
     ]
    },
    {
     "data": {
      "application/vnd.jupyter.widget-view+json": {
       "model_id": "d070b10ebcc5499f8695f795f71ee84f",
       "version_major": 2,
       "version_minor": 0
      },
      "text/plain": [
       "Downloading https://raw.githubusercontent.com/stanfordnlp/stanza-resources/main/resources_1.10.0.json:   0%|  …"
      ]
     },
     "metadata": {},
     "output_type": "display_data"
    },
    {
     "name": "stderr",
     "output_type": "stream",
     "text": [
      "INFO:stanza:Downloaded file to /root/stanza_resources/resources.json\n",
      "INFO:stanza:Downloading default packages for language: vi (Vietnamese) ...\n",
      "INFO:stanza:File exists: /root/stanza_resources/vi/default.zip\n",
      "INFO:stanza:Finished downloading models and saved to /root/stanza_resources\n",
      "INFO:stanza:Checking for updates to resources.json in case models have been updated.  Note: this behavior can be turned off with download_method=None or download_method=DownloadMethod.REUSE_RESOURCES\n"
     ]
    },
    {
     "data": {
      "application/vnd.jupyter.widget-view+json": {
       "model_id": "06879519c33e4bab9c779a10c4bb51e0",
       "version_major": 2,
       "version_minor": 0
      },
      "text/plain": [
       "Downloading https://raw.githubusercontent.com/stanfordnlp/stanza-resources/main/resources_1.10.0.json:   0%|  …"
      ]
     },
     "metadata": {},
     "output_type": "display_data"
    },
    {
     "name": "stderr",
     "output_type": "stream",
     "text": [
      "INFO:stanza:Downloaded file to /root/stanza_resources/resources.json\n",
      "INFO:stanza:Loading these models for language: vi (Vietnamese):\n",
      "==========================\n",
      "| Processor | Package    |\n",
      "--------------------------\n",
      "| tokenize  | vtb        |\n",
      "| pos       | vtb_charlm |\n",
      "| lemma     | identity   |\n",
      "| depparse  | vtb_charlm |\n",
      "==========================\n",
      "\n",
      "INFO:stanza:Using device: cuda\n",
      "INFO:stanza:Loading: tokenize\n",
      "INFO:stanza:Loading: pos\n",
      "INFO:stanza:Loading: lemma\n",
      "INFO:stanza:Loading: depparse\n",
      "INFO:stanza:Done loading processors!\n",
      "Some weights of XLMRobertaModel were not initialized from the model checkpoint at /content/drive/MyDrive/ds200/final_project/model/saved_model and are newly initialized: ['embeddings.LayerNorm.bias', 'embeddings.LayerNorm.weight', 'embeddings.position_embeddings.weight', 'embeddings.token_type_embeddings.weight', 'embeddings.word_embeddings.weight', 'encoder.layer.0.attention.output.LayerNorm.bias', 'encoder.layer.0.attention.output.LayerNorm.weight', 'encoder.layer.0.attention.output.dense.bias', 'encoder.layer.0.attention.output.dense.weight', 'encoder.layer.0.attention.self.key.bias', 'encoder.layer.0.attention.self.key.weight', 'encoder.layer.0.attention.self.query.bias', 'encoder.layer.0.attention.self.query.weight', 'encoder.layer.0.attention.self.value.bias', 'encoder.layer.0.attention.self.value.weight', 'encoder.layer.0.intermediate.dense.bias', 'encoder.layer.0.intermediate.dense.weight', 'encoder.layer.0.output.LayerNorm.bias', 'encoder.layer.0.output.LayerNorm.weight', 'encoder.layer.0.output.dense.bias', 'encoder.layer.0.output.dense.weight', 'encoder.layer.1.attention.output.LayerNorm.bias', 'encoder.layer.1.attention.output.LayerNorm.weight', 'encoder.layer.1.attention.output.dense.bias', 'encoder.layer.1.attention.output.dense.weight', 'encoder.layer.1.attention.self.key.bias', 'encoder.layer.1.attention.self.key.weight', 'encoder.layer.1.attention.self.query.bias', 'encoder.layer.1.attention.self.query.weight', 'encoder.layer.1.attention.self.value.bias', 'encoder.layer.1.attention.self.value.weight', 'encoder.layer.1.intermediate.dense.bias', 'encoder.layer.1.intermediate.dense.weight', 'encoder.layer.1.output.LayerNorm.bias', 'encoder.layer.1.output.LayerNorm.weight', 'encoder.layer.1.output.dense.bias', 'encoder.layer.1.output.dense.weight', 'encoder.layer.10.attention.output.LayerNorm.bias', 'encoder.layer.10.attention.output.LayerNorm.weight', 'encoder.layer.10.attention.output.dense.bias', 'encoder.layer.10.attention.output.dense.weight', 'encoder.layer.10.attention.self.key.bias', 'encoder.layer.10.attention.self.key.weight', 'encoder.layer.10.attention.self.query.bias', 'encoder.layer.10.attention.self.query.weight', 'encoder.layer.10.attention.self.value.bias', 'encoder.layer.10.attention.self.value.weight', 'encoder.layer.10.intermediate.dense.bias', 'encoder.layer.10.intermediate.dense.weight', 'encoder.layer.10.output.LayerNorm.bias', 'encoder.layer.10.output.LayerNorm.weight', 'encoder.layer.10.output.dense.bias', 'encoder.layer.10.output.dense.weight', 'encoder.layer.11.attention.output.LayerNorm.bias', 'encoder.layer.11.attention.output.LayerNorm.weight', 'encoder.layer.11.attention.output.dense.bias', 'encoder.layer.11.attention.output.dense.weight', 'encoder.layer.11.attention.self.key.bias', 'encoder.layer.11.attention.self.key.weight', 'encoder.layer.11.attention.self.query.bias', 'encoder.layer.11.attention.self.query.weight', 'encoder.layer.11.attention.self.value.bias', 'encoder.layer.11.attention.self.value.weight', 'encoder.layer.11.intermediate.dense.bias', 'encoder.layer.11.intermediate.dense.weight', 'encoder.layer.11.output.LayerNorm.bias', 'encoder.layer.11.output.LayerNorm.weight', 'encoder.layer.11.output.dense.bias', 'encoder.layer.11.output.dense.weight', 'encoder.layer.12.attention.output.LayerNorm.bias', 'encoder.layer.12.attention.output.LayerNorm.weight', 'encoder.layer.12.attention.output.dense.bias', 'encoder.layer.12.attention.output.dense.weight', 'encoder.layer.12.attention.self.key.bias', 'encoder.layer.12.attention.self.key.weight', 'encoder.layer.12.attention.self.query.bias', 'encoder.layer.12.attention.self.query.weight', 'encoder.layer.12.attention.self.value.bias', 'encoder.layer.12.attention.self.value.weight', 'encoder.layer.12.intermediate.dense.bias', 'encoder.layer.12.intermediate.dense.weight', 'encoder.layer.12.output.LayerNorm.bias', 'encoder.layer.12.output.LayerNorm.weight', 'encoder.layer.12.output.dense.bias', 'encoder.layer.12.output.dense.weight', 'encoder.layer.13.attention.output.LayerNorm.bias', 'encoder.layer.13.attention.output.LayerNorm.weight', 'encoder.layer.13.attention.output.dense.bias', 'encoder.layer.13.attention.output.dense.weight', 'encoder.layer.13.attention.self.key.bias', 'encoder.layer.13.attention.self.key.weight', 'encoder.layer.13.attention.self.query.bias', 'encoder.layer.13.attention.self.query.weight', 'encoder.layer.13.attention.self.value.bias', 'encoder.layer.13.attention.self.value.weight', 'encoder.layer.13.intermediate.dense.bias', 'encoder.layer.13.intermediate.dense.weight', 'encoder.layer.13.output.LayerNorm.bias', 'encoder.layer.13.output.LayerNorm.weight', 'encoder.layer.13.output.dense.bias', 'encoder.layer.13.output.dense.weight', 'encoder.layer.14.attention.output.LayerNorm.bias', 'encoder.layer.14.attention.output.LayerNorm.weight', 'encoder.layer.14.attention.output.dense.bias', 'encoder.layer.14.attention.output.dense.weight', 'encoder.layer.14.attention.self.key.bias', 'encoder.layer.14.attention.self.key.weight', 'encoder.layer.14.attention.self.query.bias', 'encoder.layer.14.attention.self.query.weight', 'encoder.layer.14.attention.self.value.bias', 'encoder.layer.14.attention.self.value.weight', 'encoder.layer.14.intermediate.dense.bias', 'encoder.layer.14.intermediate.dense.weight', 'encoder.layer.14.output.LayerNorm.bias', 'encoder.layer.14.output.LayerNorm.weight', 'encoder.layer.14.output.dense.bias', 'encoder.layer.14.output.dense.weight', 'encoder.layer.15.attention.output.LayerNorm.bias', 'encoder.layer.15.attention.output.LayerNorm.weight', 'encoder.layer.15.attention.output.dense.bias', 'encoder.layer.15.attention.output.dense.weight', 'encoder.layer.15.attention.self.key.bias', 'encoder.layer.15.attention.self.key.weight', 'encoder.layer.15.attention.self.query.bias', 'encoder.layer.15.attention.self.query.weight', 'encoder.layer.15.attention.self.value.bias', 'encoder.layer.15.attention.self.value.weight', 'encoder.layer.15.intermediate.dense.bias', 'encoder.layer.15.intermediate.dense.weight', 'encoder.layer.15.output.LayerNorm.bias', 'encoder.layer.15.output.LayerNorm.weight', 'encoder.layer.15.output.dense.bias', 'encoder.layer.15.output.dense.weight', 'encoder.layer.16.attention.output.LayerNorm.bias', 'encoder.layer.16.attention.output.LayerNorm.weight', 'encoder.layer.16.attention.output.dense.bias', 'encoder.layer.16.attention.output.dense.weight', 'encoder.layer.16.attention.self.key.bias', 'encoder.layer.16.attention.self.key.weight', 'encoder.layer.16.attention.self.query.bias', 'encoder.layer.16.attention.self.query.weight', 'encoder.layer.16.attention.self.value.bias', 'encoder.layer.16.attention.self.value.weight', 'encoder.layer.16.intermediate.dense.bias', 'encoder.layer.16.intermediate.dense.weight', 'encoder.layer.16.output.LayerNorm.bias', 'encoder.layer.16.output.LayerNorm.weight', 'encoder.layer.16.output.dense.bias', 'encoder.layer.16.output.dense.weight', 'encoder.layer.17.attention.output.LayerNorm.bias', 'encoder.layer.17.attention.output.LayerNorm.weight', 'encoder.layer.17.attention.output.dense.bias', 'encoder.layer.17.attention.output.dense.weight', 'encoder.layer.17.attention.self.key.bias', 'encoder.layer.17.attention.self.key.weight', 'encoder.layer.17.attention.self.query.bias', 'encoder.layer.17.attention.self.query.weight', 'encoder.layer.17.attention.self.value.bias', 'encoder.layer.17.attention.self.value.weight', 'encoder.layer.17.intermediate.dense.bias', 'encoder.layer.17.intermediate.dense.weight', 'encoder.layer.17.output.LayerNorm.bias', 'encoder.layer.17.output.LayerNorm.weight', 'encoder.layer.17.output.dense.bias', 'encoder.layer.17.output.dense.weight', 'encoder.layer.18.attention.output.LayerNorm.bias', 'encoder.layer.18.attention.output.LayerNorm.weight', 'encoder.layer.18.attention.output.dense.bias', 'encoder.layer.18.attention.output.dense.weight', 'encoder.layer.18.attention.self.key.bias', 'encoder.layer.18.attention.self.key.weight', 'encoder.layer.18.attention.self.query.bias', 'encoder.layer.18.attention.self.query.weight', 'encoder.layer.18.attention.self.value.bias', 'encoder.layer.18.attention.self.value.weight', 'encoder.layer.18.intermediate.dense.bias', 'encoder.layer.18.intermediate.dense.weight', 'encoder.layer.18.output.LayerNorm.bias', 'encoder.layer.18.output.LayerNorm.weight', 'encoder.layer.18.output.dense.bias', 'encoder.layer.18.output.dense.weight', 'encoder.layer.19.attention.output.LayerNorm.bias', 'encoder.layer.19.attention.output.LayerNorm.weight', 'encoder.layer.19.attention.output.dense.bias', 'encoder.layer.19.attention.output.dense.weight', 'encoder.layer.19.attention.self.key.bias', 'encoder.layer.19.attention.self.key.weight', 'encoder.layer.19.attention.self.query.bias', 'encoder.layer.19.attention.self.query.weight', 'encoder.layer.19.attention.self.value.bias', 'encoder.layer.19.attention.self.value.weight', 'encoder.layer.19.intermediate.dense.bias', 'encoder.layer.19.intermediate.dense.weight', 'encoder.layer.19.output.LayerNorm.bias', 'encoder.layer.19.output.LayerNorm.weight', 'encoder.layer.19.output.dense.bias', 'encoder.layer.19.output.dense.weight', 'encoder.layer.2.attention.output.LayerNorm.bias', 'encoder.layer.2.attention.output.LayerNorm.weight', 'encoder.layer.2.attention.output.dense.bias', 'encoder.layer.2.attention.output.dense.weight', 'encoder.layer.2.attention.self.key.bias', 'encoder.layer.2.attention.self.key.weight', 'encoder.layer.2.attention.self.query.bias', 'encoder.layer.2.attention.self.query.weight', 'encoder.layer.2.attention.self.value.bias', 'encoder.layer.2.attention.self.value.weight', 'encoder.layer.2.intermediate.dense.bias', 'encoder.layer.2.intermediate.dense.weight', 'encoder.layer.2.output.LayerNorm.bias', 'encoder.layer.2.output.LayerNorm.weight', 'encoder.layer.2.output.dense.bias', 'encoder.layer.2.output.dense.weight', 'encoder.layer.20.attention.output.LayerNorm.bias', 'encoder.layer.20.attention.output.LayerNorm.weight', 'encoder.layer.20.attention.output.dense.bias', 'encoder.layer.20.attention.output.dense.weight', 'encoder.layer.20.attention.self.key.bias', 'encoder.layer.20.attention.self.key.weight', 'encoder.layer.20.attention.self.query.bias', 'encoder.layer.20.attention.self.query.weight', 'encoder.layer.20.attention.self.value.bias', 'encoder.layer.20.attention.self.value.weight', 'encoder.layer.20.intermediate.dense.bias', 'encoder.layer.20.intermediate.dense.weight', 'encoder.layer.20.output.LayerNorm.bias', 'encoder.layer.20.output.LayerNorm.weight', 'encoder.layer.20.output.dense.bias', 'encoder.layer.20.output.dense.weight', 'encoder.layer.21.attention.output.LayerNorm.bias', 'encoder.layer.21.attention.output.LayerNorm.weight', 'encoder.layer.21.attention.output.dense.bias', 'encoder.layer.21.attention.output.dense.weight', 'encoder.layer.21.attention.self.key.bias', 'encoder.layer.21.attention.self.key.weight', 'encoder.layer.21.attention.self.query.bias', 'encoder.layer.21.attention.self.query.weight', 'encoder.layer.21.attention.self.value.bias', 'encoder.layer.21.attention.self.value.weight', 'encoder.layer.21.intermediate.dense.bias', 'encoder.layer.21.intermediate.dense.weight', 'encoder.layer.21.output.LayerNorm.bias', 'encoder.layer.21.output.LayerNorm.weight', 'encoder.layer.21.output.dense.bias', 'encoder.layer.21.output.dense.weight', 'encoder.layer.22.attention.output.LayerNorm.bias', 'encoder.layer.22.attention.output.LayerNorm.weight', 'encoder.layer.22.attention.output.dense.bias', 'encoder.layer.22.attention.output.dense.weight', 'encoder.layer.22.attention.self.key.bias', 'encoder.layer.22.attention.self.key.weight', 'encoder.layer.22.attention.self.query.bias', 'encoder.layer.22.attention.self.query.weight', 'encoder.layer.22.attention.self.value.bias', 'encoder.layer.22.attention.self.value.weight', 'encoder.layer.22.intermediate.dense.bias', 'encoder.layer.22.intermediate.dense.weight', 'encoder.layer.22.output.LayerNorm.bias', 'encoder.layer.22.output.LayerNorm.weight', 'encoder.layer.22.output.dense.bias', 'encoder.layer.22.output.dense.weight', 'encoder.layer.23.attention.output.LayerNorm.bias', 'encoder.layer.23.attention.output.LayerNorm.weight', 'encoder.layer.23.attention.output.dense.bias', 'encoder.layer.23.attention.output.dense.weight', 'encoder.layer.23.attention.self.key.bias', 'encoder.layer.23.attention.self.key.weight', 'encoder.layer.23.attention.self.query.bias', 'encoder.layer.23.attention.self.query.weight', 'encoder.layer.23.attention.self.value.bias', 'encoder.layer.23.attention.self.value.weight', 'encoder.layer.23.intermediate.dense.bias', 'encoder.layer.23.intermediate.dense.weight', 'encoder.layer.23.output.LayerNorm.bias', 'encoder.layer.23.output.LayerNorm.weight', 'encoder.layer.23.output.dense.bias', 'encoder.layer.23.output.dense.weight', 'encoder.layer.3.attention.output.LayerNorm.bias', 'encoder.layer.3.attention.output.LayerNorm.weight', 'encoder.layer.3.attention.output.dense.bias', 'encoder.layer.3.attention.output.dense.weight', 'encoder.layer.3.attention.self.key.bias', 'encoder.layer.3.attention.self.key.weight', 'encoder.layer.3.attention.self.query.bias', 'encoder.layer.3.attention.self.query.weight', 'encoder.layer.3.attention.self.value.bias', 'encoder.layer.3.attention.self.value.weight', 'encoder.layer.3.intermediate.dense.bias', 'encoder.layer.3.intermediate.dense.weight', 'encoder.layer.3.output.LayerNorm.bias', 'encoder.layer.3.output.LayerNorm.weight', 'encoder.layer.3.output.dense.bias', 'encoder.layer.3.output.dense.weight', 'encoder.layer.4.attention.output.LayerNorm.bias', 'encoder.layer.4.attention.output.LayerNorm.weight', 'encoder.layer.4.attention.output.dense.bias', 'encoder.layer.4.attention.output.dense.weight', 'encoder.layer.4.attention.self.key.bias', 'encoder.layer.4.attention.self.key.weight', 'encoder.layer.4.attention.self.query.bias', 'encoder.layer.4.attention.self.query.weight', 'encoder.layer.4.attention.self.value.bias', 'encoder.layer.4.attention.self.value.weight', 'encoder.layer.4.intermediate.dense.bias', 'encoder.layer.4.intermediate.dense.weight', 'encoder.layer.4.output.LayerNorm.bias', 'encoder.layer.4.output.LayerNorm.weight', 'encoder.layer.4.output.dense.bias', 'encoder.layer.4.output.dense.weight', 'encoder.layer.5.attention.output.LayerNorm.bias', 'encoder.layer.5.attention.output.LayerNorm.weight', 'encoder.layer.5.attention.output.dense.bias', 'encoder.layer.5.attention.output.dense.weight', 'encoder.layer.5.attention.self.key.bias', 'encoder.layer.5.attention.self.key.weight', 'encoder.layer.5.attention.self.query.bias', 'encoder.layer.5.attention.self.query.weight', 'encoder.layer.5.attention.self.value.bias', 'encoder.layer.5.attention.self.value.weight', 'encoder.layer.5.intermediate.dense.bias', 'encoder.layer.5.intermediate.dense.weight', 'encoder.layer.5.output.LayerNorm.bias', 'encoder.layer.5.output.LayerNorm.weight', 'encoder.layer.5.output.dense.bias', 'encoder.layer.5.output.dense.weight', 'encoder.layer.6.attention.output.LayerNorm.bias', 'encoder.layer.6.attention.output.LayerNorm.weight', 'encoder.layer.6.attention.output.dense.bias', 'encoder.layer.6.attention.output.dense.weight', 'encoder.layer.6.attention.self.key.bias', 'encoder.layer.6.attention.self.key.weight', 'encoder.layer.6.attention.self.query.bias', 'encoder.layer.6.attention.self.query.weight', 'encoder.layer.6.attention.self.value.bias', 'encoder.layer.6.attention.self.value.weight', 'encoder.layer.6.intermediate.dense.bias', 'encoder.layer.6.intermediate.dense.weight', 'encoder.layer.6.output.LayerNorm.bias', 'encoder.layer.6.output.LayerNorm.weight', 'encoder.layer.6.output.dense.bias', 'encoder.layer.6.output.dense.weight', 'encoder.layer.7.attention.output.LayerNorm.bias', 'encoder.layer.7.attention.output.LayerNorm.weight', 'encoder.layer.7.attention.output.dense.bias', 'encoder.layer.7.attention.output.dense.weight', 'encoder.layer.7.attention.self.key.bias', 'encoder.layer.7.attention.self.key.weight', 'encoder.layer.7.attention.self.query.bias', 'encoder.layer.7.attention.self.query.weight', 'encoder.layer.7.attention.self.value.bias', 'encoder.layer.7.attention.self.value.weight', 'encoder.layer.7.intermediate.dense.bias', 'encoder.layer.7.intermediate.dense.weight', 'encoder.layer.7.output.LayerNorm.bias', 'encoder.layer.7.output.LayerNorm.weight', 'encoder.layer.7.output.dense.bias', 'encoder.layer.7.output.dense.weight', 'encoder.layer.8.attention.output.LayerNorm.bias', 'encoder.layer.8.attention.output.LayerNorm.weight', 'encoder.layer.8.attention.output.dense.bias', 'encoder.layer.8.attention.output.dense.weight', 'encoder.layer.8.attention.self.key.bias', 'encoder.layer.8.attention.self.key.weight', 'encoder.layer.8.attention.self.query.bias', 'encoder.layer.8.attention.self.query.weight', 'encoder.layer.8.attention.self.value.bias', 'encoder.layer.8.attention.self.value.weight', 'encoder.layer.8.intermediate.dense.bias', 'encoder.layer.8.intermediate.dense.weight', 'encoder.layer.8.output.LayerNorm.bias', 'encoder.layer.8.output.LayerNorm.weight', 'encoder.layer.8.output.dense.bias', 'encoder.layer.8.output.dense.weight', 'encoder.layer.9.attention.output.LayerNorm.bias', 'encoder.layer.9.attention.output.LayerNorm.weight', 'encoder.layer.9.attention.output.dense.bias', 'encoder.layer.9.attention.output.dense.weight', 'encoder.layer.9.attention.self.key.bias', 'encoder.layer.9.attention.self.key.weight', 'encoder.layer.9.attention.self.query.bias', 'encoder.layer.9.attention.self.query.weight', 'encoder.layer.9.attention.self.value.bias', 'encoder.layer.9.attention.self.value.weight', 'encoder.layer.9.intermediate.dense.bias', 'encoder.layer.9.intermediate.dense.weight', 'encoder.layer.9.output.LayerNorm.bias', 'encoder.layer.9.output.LayerNorm.weight', 'encoder.layer.9.output.dense.bias', 'encoder.layer.9.output.dense.weight', 'pooler.dense.weight']\n",
      "You should probably TRAIN this model on a down-stream task to be able to use it for predictions and inference.\n",
      "/usr/local/lib/python3.11/dist-packages/sklearn/base.py:380: InconsistentVersionWarning: Trying to unpickle estimator LabelEncoder from version 1.2.2 when using version 1.6.1. This might lead to breaking code or invalid results. Use at your own risk. For more info please refer to:\n",
      "https://scikit-learn.org/stable/model_persistence.html#security-maintainability-limitations\n",
      "  warnings.warn(\n"
     ]
    }
   ],
   "source": [
    "# Khởi tạo hàm predict\n",
    "predict = make_predict_fn()\n"
   ]
  },
  {
   "cell_type": "code",
   "execution_count": 56,
   "id": "CxIH4OUmsBYH",
   "metadata": {
    "executionInfo": {
     "elapsed": 2436,
     "status": "ok",
     "timestamp": 1752460462973,
     "user": {
      "displayName": "Duy Hoang",
      "userId": "14942285181523211297"
     },
     "user_tz": -420
    },
    "id": "CxIH4OUmsBYH"
   },
   "outputs": [],
   "source": [
    "batch = test_df.select(\"text_all\", \"text_content\").rdd.map(lambda r: (r[\"text_all\"], r[\"text_content\"])).collect()"
   ]
  },
  {
   "cell_type": "code",
   "execution_count": 57,
   "id": "76211hRer4Gl",
   "metadata": {
    "colab": {
     "base_uri": "https://localhost:8080/",
     "height": 0
    },
    "executionInfo": {
     "elapsed": 1858,
     "status": "ok",
     "timestamp": 1752460464836,
     "user": {
      "displayName": "Duy Hoang",
      "userId": "14942285181523211297"
     },
     "user_tz": -420
    },
    "id": "76211hRer4Gl",
    "outputId": "735c0ec4-a908-4fad-840f-cb5c47fa49b9"
   },
   "outputs": [
    {
     "name": "stderr",
     "output_type": "stream",
     "text": [
      "Asking to truncate to max_length but no maximum length is provided and the model has no predefined maximum length. Default to no truncation.\n"
     ]
    },
    {
     "name": "stdout",
     "output_type": "stream",
     "text": [
      "[{'entity_group': 'PERSON', 'score': np.float32(0.9992484), 'word': 'Mỹ Tâm', 'start': 6, 'end': 12}]\n",
      "[{'entity_group': 'PERSON', 'score': np.float32(0.9992484), 'word': 'Mỹ Tâm', 'start': 6, 'end': 12}]\n",
      "[{'entity_group': 'PERSON', 'score': np.float32(0.9995295), 'word': 'Mỹ Tâm', 'start': 6, 'end': 12}, {'entity_group': 'PERSON', 'score': np.float32(0.99947554), 'word': 'Mỹ Tâm', 'start': 64, 'end': 70}]\n",
      "[{'entity_group': 'PERSON', 'score': np.float32(0.9995295), 'word': 'Mỹ Tâm', 'start': 6, 'end': 12}, {'entity_group': 'PERSON', 'score': np.float32(0.99947554), 'word': 'Mỹ Tâm', 'start': 64, 'end': 70}]\n"
     ]
    },
    {
     "name": "stderr",
     "output_type": "stream",
     "text": [
      "XLMRobertaSdpaSelfAttention is used but `torch.nn.functional.scaled_dot_product_attention` does not support non-absolute `position_embedding_type` or `output_attentions=True` or `head_mask`. Falling back to the manual attention implementation, but specifying the manual implementation will be required from Transformers version v5.0.0 onwards. This warning can be removed using the argument `attn_implementation=\"eager\"` when loading the model.\n"
     ]
    },
    {
     "name": "stdout",
     "output_type": "stream",
     "text": [
      "[{'entity_group': 'PERSON', 'score': np.float32(0.99929726), 'word': 'Sơn Tùng M - Tp', 'start': 0, 'end': 13}]\n",
      "[{'entity_group': 'PERSON', 'score': np.float32(0.99929726), 'word': 'Sơn Tùng M - Tp', 'start': 0, 'end': 13}]\n",
      "[{'entity_group': 'PERSON', 'score': np.float32(0.9993553), 'word': 'Sơn Tùng M - Tp', 'start': 0, 'end': 13}, {'entity_group': 'PERSON', 'score': np.float32(0.999515), 'word': 'Sơn Tùng', 'start': 63, 'end': 71}]\n",
      "[{'entity_group': 'PERSON', 'score': np.float32(0.9993553), 'word': 'Sơn Tùng M - Tp', 'start': 0, 'end': 13}, {'entity_group': 'PERSON', 'score': np.float32(0.999515), 'word': 'Sơn Tùng', 'start': 63, 'end': 71}]\n"
     ]
    },
    {
     "data": {
      "application/vnd.google.colaboratory.intrinsic+json": {
       "summary": "{\n  \"name\": \"pd\",\n  \"rows\": 2,\n  \"fields\": [\n    {\n      \"column\": \"ner_content\",\n      \"properties\": {\n        \"dtype\": \"string\",\n        \"num_unique_values\": 2,\n        \"samples\": [\n          \"[\\\"S\\u01a1n T\\u00f9ng M - Tp\\\"]\",\n          \"[\\\"M\\u1ef9 T\\u00e2m\\\"]\"\n        ],\n        \"semantic_type\": \"\",\n        \"description\": \"\"\n      }\n    },\n    {\n      \"column\": \"ner_all\",\n      \"properties\": {\n        \"dtype\": \"string\",\n        \"num_unique_values\": 2,\n        \"samples\": [\n          \"[\\\"S\\u01a1n T\\u00f9ng M - Tp\\\", \\\"S\\u01a1n T\\u00f9ng\\\"]\",\n          \"[\\\"M\\u1ef9 T\\u00e2m\\\"]\"\n        ],\n        \"semantic_type\": \"\",\n        \"description\": \"\"\n      }\n    },\n    {\n      \"column\": \"aspect1\",\n      \"properties\": {\n        \"dtype\": \"string\",\n        \"num_unique_values\": 2,\n        \"samples\": [\n          \"Health\",\n          \"Fashion\"\n        ],\n        \"semantic_type\": \"\",\n        \"description\": \"\"\n      }\n    },\n    {\n      \"column\": \"aspect2\",\n      \"properties\": {\n        \"dtype\": \"string\",\n        \"num_unique_values\": 1,\n        \"samples\": [\n          \"Fashion\"\n        ],\n        \"semantic_type\": \"\",\n        \"description\": \"\"\n      }\n    },\n    {\n      \"column\": \"sent1\",\n      \"properties\": {\n        \"dtype\": \"string\",\n        \"num_unique_values\": 1,\n        \"samples\": [\n          \"negative\"\n        ],\n        \"semantic_type\": \"\",\n        \"description\": \"\"\n      }\n    },\n    {\n      \"column\": \"sent2\",\n      \"properties\": {\n        \"dtype\": \"string\",\n        \"num_unique_values\": 1,\n        \"samples\": [\n          \"neutral\"\n        ],\n        \"semantic_type\": \"\",\n        \"description\": \"\"\n      }\n    }\n  ]\n}",
       "type": "dataframe"
      },
      "text/html": [
       "\n",
       "  <div id=\"df-e204d724-93da-4041-b45f-126c8d030e54\" class=\"colab-df-container\">\n",
       "    <div>\n",
       "<style scoped>\n",
       "    .dataframe tbody tr th:only-of-type {\n",
       "        vertical-align: middle;\n",
       "    }\n",
       "\n",
       "    .dataframe tbody tr th {\n",
       "        vertical-align: top;\n",
       "    }\n",
       "\n",
       "    .dataframe thead th {\n",
       "        text-align: right;\n",
       "    }\n",
       "</style>\n",
       "<table border=\"1\" class=\"dataframe\">\n",
       "  <thead>\n",
       "    <tr style=\"text-align: right;\">\n",
       "      <th></th>\n",
       "      <th>ner_content</th>\n",
       "      <th>ner_all</th>\n",
       "      <th>aspect1</th>\n",
       "      <th>aspect2</th>\n",
       "      <th>sent1</th>\n",
       "      <th>sent2</th>\n",
       "    </tr>\n",
       "  </thead>\n",
       "  <tbody>\n",
       "    <tr>\n",
       "      <th>0</th>\n",
       "      <td>[\"Mỹ Tâm\"]</td>\n",
       "      <td>[\"Mỹ Tâm\"]</td>\n",
       "      <td>Fashion</td>\n",
       "      <td>Fashion</td>\n",
       "      <td>negative</td>\n",
       "      <td>neutral</td>\n",
       "    </tr>\n",
       "    <tr>\n",
       "      <th>1</th>\n",
       "      <td>[\"Sơn Tùng M - Tp\"]</td>\n",
       "      <td>[\"Sơn Tùng M - Tp\", \"Sơn Tùng\"]</td>\n",
       "      <td>Health</td>\n",
       "      <td>Fashion</td>\n",
       "      <td>negative</td>\n",
       "      <td>neutral</td>\n",
       "    </tr>\n",
       "  </tbody>\n",
       "</table>\n",
       "</div>\n",
       "    <div class=\"colab-df-buttons\">\n",
       "\n",
       "  <div class=\"colab-df-container\">\n",
       "    <button class=\"colab-df-convert\" onclick=\"convertToInteractive('df-e204d724-93da-4041-b45f-126c8d030e54')\"\n",
       "            title=\"Convert this dataframe to an interactive table.\"\n",
       "            style=\"display:none;\">\n",
       "\n",
       "  <svg xmlns=\"http://www.w3.org/2000/svg\" height=\"24px\" viewBox=\"0 -960 960 960\">\n",
       "    <path d=\"M120-120v-720h720v720H120Zm60-500h600v-160H180v160Zm220 220h160v-160H400v160Zm0 220h160v-160H400v160ZM180-400h160v-160H180v160Zm440 0h160v-160H620v160ZM180-180h160v-160H180v160Zm440 0h160v-160H620v160Z\"/>\n",
       "  </svg>\n",
       "    </button>\n",
       "\n",
       "  <style>\n",
       "    .colab-df-container {\n",
       "      display:flex;\n",
       "      gap: 12px;\n",
       "    }\n",
       "\n",
       "    .colab-df-convert {\n",
       "      background-color: #E8F0FE;\n",
       "      border: none;\n",
       "      border-radius: 50%;\n",
       "      cursor: pointer;\n",
       "      display: none;\n",
       "      fill: #1967D2;\n",
       "      height: 32px;\n",
       "      padding: 0 0 0 0;\n",
       "      width: 32px;\n",
       "    }\n",
       "\n",
       "    .colab-df-convert:hover {\n",
       "      background-color: #E2EBFA;\n",
       "      box-shadow: 0px 1px 2px rgba(60, 64, 67, 0.3), 0px 1px 3px 1px rgba(60, 64, 67, 0.15);\n",
       "      fill: #174EA6;\n",
       "    }\n",
       "\n",
       "    .colab-df-buttons div {\n",
       "      margin-bottom: 4px;\n",
       "    }\n",
       "\n",
       "    [theme=dark] .colab-df-convert {\n",
       "      background-color: #3B4455;\n",
       "      fill: #D2E3FC;\n",
       "    }\n",
       "\n",
       "    [theme=dark] .colab-df-convert:hover {\n",
       "      background-color: #434B5C;\n",
       "      box-shadow: 0px 1px 3px 1px rgba(0, 0, 0, 0.15);\n",
       "      filter: drop-shadow(0px 1px 2px rgba(0, 0, 0, 0.3));\n",
       "      fill: #FFFFFF;\n",
       "    }\n",
       "  </style>\n",
       "\n",
       "    <script>\n",
       "      const buttonEl =\n",
       "        document.querySelector('#df-e204d724-93da-4041-b45f-126c8d030e54 button.colab-df-convert');\n",
       "      buttonEl.style.display =\n",
       "        google.colab.kernel.accessAllowed ? 'block' : 'none';\n",
       "\n",
       "      async function convertToInteractive(key) {\n",
       "        const element = document.querySelector('#df-e204d724-93da-4041-b45f-126c8d030e54');\n",
       "        const dataTable =\n",
       "          await google.colab.kernel.invokeFunction('convertToInteractive',\n",
       "                                                    [key], {});\n",
       "        if (!dataTable) return;\n",
       "\n",
       "        const docLinkHtml = 'Like what you see? Visit the ' +\n",
       "          '<a target=\"_blank\" href=https://colab.research.google.com/notebooks/data_table.ipynb>data table notebook</a>'\n",
       "          + ' to learn more about interactive tables.';\n",
       "        element.innerHTML = '';\n",
       "        dataTable['output_type'] = 'display_data';\n",
       "        await google.colab.output.renderOutput(dataTable, element);\n",
       "        const docLink = document.createElement('div');\n",
       "        docLink.innerHTML = docLinkHtml;\n",
       "        element.appendChild(docLink);\n",
       "      }\n",
       "    </script>\n",
       "  </div>\n",
       "\n",
       "\n",
       "    <div id=\"df-9e90364e-cad8-4984-a9b7-84037aaa6b0d\">\n",
       "      <button class=\"colab-df-quickchart\" onclick=\"quickchart('df-9e90364e-cad8-4984-a9b7-84037aaa6b0d')\"\n",
       "                title=\"Suggest charts\"\n",
       "                style=\"display:none;\">\n",
       "\n",
       "<svg xmlns=\"http://www.w3.org/2000/svg\" height=\"24px\"viewBox=\"0 0 24 24\"\n",
       "     width=\"24px\">\n",
       "    <g>\n",
       "        <path d=\"M19 3H5c-1.1 0-2 .9-2 2v14c0 1.1.9 2 2 2h14c1.1 0 2-.9 2-2V5c0-1.1-.9-2-2-2zM9 17H7v-7h2v7zm4 0h-2V7h2v10zm4 0h-2v-4h2v4z\"/>\n",
       "    </g>\n",
       "</svg>\n",
       "      </button>\n",
       "\n",
       "<style>\n",
       "  .colab-df-quickchart {\n",
       "      --bg-color: #E8F0FE;\n",
       "      --fill-color: #1967D2;\n",
       "      --hover-bg-color: #E2EBFA;\n",
       "      --hover-fill-color: #174EA6;\n",
       "      --disabled-fill-color: #AAA;\n",
       "      --disabled-bg-color: #DDD;\n",
       "  }\n",
       "\n",
       "  [theme=dark] .colab-df-quickchart {\n",
       "      --bg-color: #3B4455;\n",
       "      --fill-color: #D2E3FC;\n",
       "      --hover-bg-color: #434B5C;\n",
       "      --hover-fill-color: #FFFFFF;\n",
       "      --disabled-bg-color: #3B4455;\n",
       "      --disabled-fill-color: #666;\n",
       "  }\n",
       "\n",
       "  .colab-df-quickchart {\n",
       "    background-color: var(--bg-color);\n",
       "    border: none;\n",
       "    border-radius: 50%;\n",
       "    cursor: pointer;\n",
       "    display: none;\n",
       "    fill: var(--fill-color);\n",
       "    height: 32px;\n",
       "    padding: 0;\n",
       "    width: 32px;\n",
       "  }\n",
       "\n",
       "  .colab-df-quickchart:hover {\n",
       "    background-color: var(--hover-bg-color);\n",
       "    box-shadow: 0 1px 2px rgba(60, 64, 67, 0.3), 0 1px 3px 1px rgba(60, 64, 67, 0.15);\n",
       "    fill: var(--button-hover-fill-color);\n",
       "  }\n",
       "\n",
       "  .colab-df-quickchart-complete:disabled,\n",
       "  .colab-df-quickchart-complete:disabled:hover {\n",
       "    background-color: var(--disabled-bg-color);\n",
       "    fill: var(--disabled-fill-color);\n",
       "    box-shadow: none;\n",
       "  }\n",
       "\n",
       "  .colab-df-spinner {\n",
       "    border: 2px solid var(--fill-color);\n",
       "    border-color: transparent;\n",
       "    border-bottom-color: var(--fill-color);\n",
       "    animation:\n",
       "      spin 1s steps(1) infinite;\n",
       "  }\n",
       "\n",
       "  @keyframes spin {\n",
       "    0% {\n",
       "      border-color: transparent;\n",
       "      border-bottom-color: var(--fill-color);\n",
       "      border-left-color: var(--fill-color);\n",
       "    }\n",
       "    20% {\n",
       "      border-color: transparent;\n",
       "      border-left-color: var(--fill-color);\n",
       "      border-top-color: var(--fill-color);\n",
       "    }\n",
       "    30% {\n",
       "      border-color: transparent;\n",
       "      border-left-color: var(--fill-color);\n",
       "      border-top-color: var(--fill-color);\n",
       "      border-right-color: var(--fill-color);\n",
       "    }\n",
       "    40% {\n",
       "      border-color: transparent;\n",
       "      border-right-color: var(--fill-color);\n",
       "      border-top-color: var(--fill-color);\n",
       "    }\n",
       "    60% {\n",
       "      border-color: transparent;\n",
       "      border-right-color: var(--fill-color);\n",
       "    }\n",
       "    80% {\n",
       "      border-color: transparent;\n",
       "      border-right-color: var(--fill-color);\n",
       "      border-bottom-color: var(--fill-color);\n",
       "    }\n",
       "    90% {\n",
       "      border-color: transparent;\n",
       "      border-bottom-color: var(--fill-color);\n",
       "    }\n",
       "  }\n",
       "</style>\n",
       "\n",
       "      <script>\n",
       "        async function quickchart(key) {\n",
       "          const quickchartButtonEl =\n",
       "            document.querySelector('#' + key + ' button');\n",
       "          quickchartButtonEl.disabled = true;  // To prevent multiple clicks.\n",
       "          quickchartButtonEl.classList.add('colab-df-spinner');\n",
       "          try {\n",
       "            const charts = await google.colab.kernel.invokeFunction(\n",
       "                'suggestCharts', [key], {});\n",
       "          } catch (error) {\n",
       "            console.error('Error during call to suggestCharts:', error);\n",
       "          }\n",
       "          quickchartButtonEl.classList.remove('colab-df-spinner');\n",
       "          quickchartButtonEl.classList.add('colab-df-quickchart-complete');\n",
       "        }\n",
       "        (() => {\n",
       "          let quickchartButtonEl =\n",
       "            document.querySelector('#df-9e90364e-cad8-4984-a9b7-84037aaa6b0d button');\n",
       "          quickchartButtonEl.style.display =\n",
       "            google.colab.kernel.accessAllowed ? 'block' : 'none';\n",
       "        })();\n",
       "      </script>\n",
       "    </div>\n",
       "\n",
       "    </div>\n",
       "  </div>\n"
      ],
      "text/plain": [
       "           ner_content                          ner_all  aspect1  aspect2  \\\n",
       "0           [\"Mỹ Tâm\"]                       [\"Mỹ Tâm\"]  Fashion  Fashion   \n",
       "1  [\"Sơn Tùng M - Tp\"]  [\"Sơn Tùng M - Tp\", \"Sơn Tùng\"]   Health  Fashion   \n",
       "\n",
       "      sent1    sent2  \n",
       "0  negative  neutral  \n",
       "1  negative  neutral  "
      ]
     },
     "execution_count": 57,
     "metadata": {},
     "output_type": "execute_result"
    }
   ],
   "source": [
    "# Dự đoán\n",
    "outputs = predict(batch)\n",
    "\n",
    "# In kết quả\n",
    "import pandas as pd\n",
    "pd.DataFrame(outputs)"
   ]
  },
  {
   "cell_type": "code",
   "execution_count": 58,
   "id": "nWvQrHDFaZYr",
   "metadata": {
    "colab": {
     "base_uri": "https://localhost:8080/",
     "height": 0
    },
    "executionInfo": {
     "elapsed": 2092,
     "status": "ok",
     "timestamp": 1752460466929,
     "user": {
      "displayName": "Duy Hoang",
      "userId": "14942285181523211297"
     },
     "user_tz": -420
    },
    "id": "nWvQrHDFaZYr",
    "outputId": "6dfe8ee9-5f1b-45d8-89f1-a96a6198726b"
   },
   "outputs": [
    {
     "name": "stdout",
     "output_type": "stream",
     "text": [
      "[]\n",
      "[]\n",
      "[]\n",
      "[]\n",
      "[]\n",
      "[]\n",
      "[{'entity_group': 'PERSON', 'score': np.float32(0.84630966), 'word': 'S', 'start': 0, 'end': 1}]\n",
      "[{'entity_group': 'PERSON', 'score': np.float32(0.84630966), 'word': 'S', 'start': 0, 'end': 1}]\n"
     ]
    },
    {
     "data": {
      "application/vnd.google.colaboratory.intrinsic+json": {
       "summary": "{\n  \"name\": \"pd\",\n  \"rows\": 2,\n  \"fields\": [\n    {\n      \"column\": \"ner_content\",\n      \"properties\": {\n        \"dtype\": \"string\",\n        \"num_unique_values\": 1,\n        \"samples\": [\n          \"[]\"\n        ],\n        \"semantic_type\": \"\",\n        \"description\": \"\"\n      }\n    },\n    {\n      \"column\": \"ner_all\",\n      \"properties\": {\n        \"dtype\": \"string\",\n        \"num_unique_values\": 2,\n        \"samples\": [\n          \"[\\\"S\\\"]\"\n        ],\n        \"semantic_type\": \"\",\n        \"description\": \"\"\n      }\n    },\n    {\n      \"column\": \"aspect1\",\n      \"properties\": {\n        \"dtype\": \"string\",\n        \"num_unique_values\": 1,\n        \"samples\": [\n          \"Fashion\"\n        ],\n        \"semantic_type\": \"\",\n        \"description\": \"\"\n      }\n    },\n    {\n      \"column\": \"aspect2\",\n      \"properties\": {\n        \"dtype\": \"string\",\n        \"num_unique_values\": 2,\n        \"samples\": [\n          \"Other\"\n        ],\n        \"semantic_type\": \"\",\n        \"description\": \"\"\n      }\n    },\n    {\n      \"column\": \"sent1\",\n      \"properties\": {\n        \"dtype\": \"string\",\n        \"num_unique_values\": 1,\n        \"samples\": [\n          \"negative\"\n        ],\n        \"semantic_type\": \"\",\n        \"description\": \"\"\n      }\n    },\n    {\n      \"column\": \"sent2\",\n      \"properties\": {\n        \"dtype\": \"string\",\n        \"num_unique_values\": 1,\n        \"samples\": [\n          \"negative\"\n        ],\n        \"semantic_type\": \"\",\n        \"description\": \"\"\n      }\n    }\n  ]\n}",
       "type": "dataframe"
      },
      "text/html": [
       "\n",
       "  <div id=\"df-a9c8f013-0408-4d56-86a9-7e1e04b3ba44\" class=\"colab-df-container\">\n",
       "    <div>\n",
       "<style scoped>\n",
       "    .dataframe tbody tr th:only-of-type {\n",
       "        vertical-align: middle;\n",
       "    }\n",
       "\n",
       "    .dataframe tbody tr th {\n",
       "        vertical-align: top;\n",
       "    }\n",
       "\n",
       "    .dataframe thead th {\n",
       "        text-align: right;\n",
       "    }\n",
       "</style>\n",
       "<table border=\"1\" class=\"dataframe\">\n",
       "  <thead>\n",
       "    <tr style=\"text-align: right;\">\n",
       "      <th></th>\n",
       "      <th>ner_content</th>\n",
       "      <th>ner_all</th>\n",
       "      <th>aspect1</th>\n",
       "      <th>aspect2</th>\n",
       "      <th>sent1</th>\n",
       "      <th>sent2</th>\n",
       "    </tr>\n",
       "  </thead>\n",
       "  <tbody>\n",
       "    <tr>\n",
       "      <th>0</th>\n",
       "      <td>[]</td>\n",
       "      <td>[]</td>\n",
       "      <td>Fashion</td>\n",
       "      <td>Fashion</td>\n",
       "      <td>negative</td>\n",
       "      <td>negative</td>\n",
       "    </tr>\n",
       "    <tr>\n",
       "      <th>1</th>\n",
       "      <td>[]</td>\n",
       "      <td>[\"S\"]</td>\n",
       "      <td>Fashion</td>\n",
       "      <td>Other</td>\n",
       "      <td>negative</td>\n",
       "      <td>negative</td>\n",
       "    </tr>\n",
       "  </tbody>\n",
       "</table>\n",
       "</div>\n",
       "    <div class=\"colab-df-buttons\">\n",
       "\n",
       "  <div class=\"colab-df-container\">\n",
       "    <button class=\"colab-df-convert\" onclick=\"convertToInteractive('df-a9c8f013-0408-4d56-86a9-7e1e04b3ba44')\"\n",
       "            title=\"Convert this dataframe to an interactive table.\"\n",
       "            style=\"display:none;\">\n",
       "\n",
       "  <svg xmlns=\"http://www.w3.org/2000/svg\" height=\"24px\" viewBox=\"0 -960 960 960\">\n",
       "    <path d=\"M120-120v-720h720v720H120Zm60-500h600v-160H180v160Zm220 220h160v-160H400v160Zm0 220h160v-160H400v160ZM180-400h160v-160H180v160Zm440 0h160v-160H620v160ZM180-180h160v-160H180v160Zm440 0h160v-160H620v160Z\"/>\n",
       "  </svg>\n",
       "    </button>\n",
       "\n",
       "  <style>\n",
       "    .colab-df-container {\n",
       "      display:flex;\n",
       "      gap: 12px;\n",
       "    }\n",
       "\n",
       "    .colab-df-convert {\n",
       "      background-color: #E8F0FE;\n",
       "      border: none;\n",
       "      border-radius: 50%;\n",
       "      cursor: pointer;\n",
       "      display: none;\n",
       "      fill: #1967D2;\n",
       "      height: 32px;\n",
       "      padding: 0 0 0 0;\n",
       "      width: 32px;\n",
       "    }\n",
       "\n",
       "    .colab-df-convert:hover {\n",
       "      background-color: #E2EBFA;\n",
       "      box-shadow: 0px 1px 2px rgba(60, 64, 67, 0.3), 0px 1px 3px 1px rgba(60, 64, 67, 0.15);\n",
       "      fill: #174EA6;\n",
       "    }\n",
       "\n",
       "    .colab-df-buttons div {\n",
       "      margin-bottom: 4px;\n",
       "    }\n",
       "\n",
       "    [theme=dark] .colab-df-convert {\n",
       "      background-color: #3B4455;\n",
       "      fill: #D2E3FC;\n",
       "    }\n",
       "\n",
       "    [theme=dark] .colab-df-convert:hover {\n",
       "      background-color: #434B5C;\n",
       "      box-shadow: 0px 1px 3px 1px rgba(0, 0, 0, 0.15);\n",
       "      filter: drop-shadow(0px 1px 2px rgba(0, 0, 0, 0.3));\n",
       "      fill: #FFFFFF;\n",
       "    }\n",
       "  </style>\n",
       "\n",
       "    <script>\n",
       "      const buttonEl =\n",
       "        document.querySelector('#df-a9c8f013-0408-4d56-86a9-7e1e04b3ba44 button.colab-df-convert');\n",
       "      buttonEl.style.display =\n",
       "        google.colab.kernel.accessAllowed ? 'block' : 'none';\n",
       "\n",
       "      async function convertToInteractive(key) {\n",
       "        const element = document.querySelector('#df-a9c8f013-0408-4d56-86a9-7e1e04b3ba44');\n",
       "        const dataTable =\n",
       "          await google.colab.kernel.invokeFunction('convertToInteractive',\n",
       "                                                    [key], {});\n",
       "        if (!dataTable) return;\n",
       "\n",
       "        const docLinkHtml = 'Like what you see? Visit the ' +\n",
       "          '<a target=\"_blank\" href=https://colab.research.google.com/notebooks/data_table.ipynb>data table notebook</a>'\n",
       "          + ' to learn more about interactive tables.';\n",
       "        element.innerHTML = '';\n",
       "        dataTable['output_type'] = 'display_data';\n",
       "        await google.colab.output.renderOutput(dataTable, element);\n",
       "        const docLink = document.createElement('div');\n",
       "        docLink.innerHTML = docLinkHtml;\n",
       "        element.appendChild(docLink);\n",
       "      }\n",
       "    </script>\n",
       "  </div>\n",
       "\n",
       "\n",
       "    <div id=\"df-7b9ca63b-9a48-4e8b-98da-6e5fa9fe02df\">\n",
       "      <button class=\"colab-df-quickchart\" onclick=\"quickchart('df-7b9ca63b-9a48-4e8b-98da-6e5fa9fe02df')\"\n",
       "                title=\"Suggest charts\"\n",
       "                style=\"display:none;\">\n",
       "\n",
       "<svg xmlns=\"http://www.w3.org/2000/svg\" height=\"24px\"viewBox=\"0 0 24 24\"\n",
       "     width=\"24px\">\n",
       "    <g>\n",
       "        <path d=\"M19 3H5c-1.1 0-2 .9-2 2v14c0 1.1.9 2 2 2h14c1.1 0 2-.9 2-2V5c0-1.1-.9-2-2-2zM9 17H7v-7h2v7zm4 0h-2V7h2v10zm4 0h-2v-4h2v4z\"/>\n",
       "    </g>\n",
       "</svg>\n",
       "      </button>\n",
       "\n",
       "<style>\n",
       "  .colab-df-quickchart {\n",
       "      --bg-color: #E8F0FE;\n",
       "      --fill-color: #1967D2;\n",
       "      --hover-bg-color: #E2EBFA;\n",
       "      --hover-fill-color: #174EA6;\n",
       "      --disabled-fill-color: #AAA;\n",
       "      --disabled-bg-color: #DDD;\n",
       "  }\n",
       "\n",
       "  [theme=dark] .colab-df-quickchart {\n",
       "      --bg-color: #3B4455;\n",
       "      --fill-color: #D2E3FC;\n",
       "      --hover-bg-color: #434B5C;\n",
       "      --hover-fill-color: #FFFFFF;\n",
       "      --disabled-bg-color: #3B4455;\n",
       "      --disabled-fill-color: #666;\n",
       "  }\n",
       "\n",
       "  .colab-df-quickchart {\n",
       "    background-color: var(--bg-color);\n",
       "    border: none;\n",
       "    border-radius: 50%;\n",
       "    cursor: pointer;\n",
       "    display: none;\n",
       "    fill: var(--fill-color);\n",
       "    height: 32px;\n",
       "    padding: 0;\n",
       "    width: 32px;\n",
       "  }\n",
       "\n",
       "  .colab-df-quickchart:hover {\n",
       "    background-color: var(--hover-bg-color);\n",
       "    box-shadow: 0 1px 2px rgba(60, 64, 67, 0.3), 0 1px 3px 1px rgba(60, 64, 67, 0.15);\n",
       "    fill: var(--button-hover-fill-color);\n",
       "  }\n",
       "\n",
       "  .colab-df-quickchart-complete:disabled,\n",
       "  .colab-df-quickchart-complete:disabled:hover {\n",
       "    background-color: var(--disabled-bg-color);\n",
       "    fill: var(--disabled-fill-color);\n",
       "    box-shadow: none;\n",
       "  }\n",
       "\n",
       "  .colab-df-spinner {\n",
       "    border: 2px solid var(--fill-color);\n",
       "    border-color: transparent;\n",
       "    border-bottom-color: var(--fill-color);\n",
       "    animation:\n",
       "      spin 1s steps(1) infinite;\n",
       "  }\n",
       "\n",
       "  @keyframes spin {\n",
       "    0% {\n",
       "      border-color: transparent;\n",
       "      border-bottom-color: var(--fill-color);\n",
       "      border-left-color: var(--fill-color);\n",
       "    }\n",
       "    20% {\n",
       "      border-color: transparent;\n",
       "      border-left-color: var(--fill-color);\n",
       "      border-top-color: var(--fill-color);\n",
       "    }\n",
       "    30% {\n",
       "      border-color: transparent;\n",
       "      border-left-color: var(--fill-color);\n",
       "      border-top-color: var(--fill-color);\n",
       "      border-right-color: var(--fill-color);\n",
       "    }\n",
       "    40% {\n",
       "      border-color: transparent;\n",
       "      border-right-color: var(--fill-color);\n",
       "      border-top-color: var(--fill-color);\n",
       "    }\n",
       "    60% {\n",
       "      border-color: transparent;\n",
       "      border-right-color: var(--fill-color);\n",
       "    }\n",
       "    80% {\n",
       "      border-color: transparent;\n",
       "      border-right-color: var(--fill-color);\n",
       "      border-bottom-color: var(--fill-color);\n",
       "    }\n",
       "    90% {\n",
       "      border-color: transparent;\n",
       "      border-bottom-color: var(--fill-color);\n",
       "    }\n",
       "  }\n",
       "</style>\n",
       "\n",
       "      <script>\n",
       "        async function quickchart(key) {\n",
       "          const quickchartButtonEl =\n",
       "            document.querySelector('#' + key + ' button');\n",
       "          quickchartButtonEl.disabled = true;  // To prevent multiple clicks.\n",
       "          quickchartButtonEl.classList.add('colab-df-spinner');\n",
       "          try {\n",
       "            const charts = await google.colab.kernel.invokeFunction(\n",
       "                'suggestCharts', [key], {});\n",
       "          } catch (error) {\n",
       "            console.error('Error during call to suggestCharts:', error);\n",
       "          }\n",
       "          quickchartButtonEl.classList.remove('colab-df-spinner');\n",
       "          quickchartButtonEl.classList.add('colab-df-quickchart-complete');\n",
       "        }\n",
       "        (() => {\n",
       "          let quickchartButtonEl =\n",
       "            document.querySelector('#df-7b9ca63b-9a48-4e8b-98da-6e5fa9fe02df button');\n",
       "          quickchartButtonEl.style.display =\n",
       "            google.colab.kernel.accessAllowed ? 'block' : 'none';\n",
       "        })();\n",
       "      </script>\n",
       "    </div>\n",
       "\n",
       "    </div>\n",
       "  </div>\n"
      ],
      "text/plain": [
       "  ner_content ner_all  aspect1  aspect2     sent1     sent2\n",
       "0          []      []  Fashion  Fashion  negative  negative\n",
       "1          []   [\"S\"]  Fashion    Other  negative  negative"
      ]
     },
     "execution_count": 58,
     "metadata": {},
     "output_type": "execute_result"
    }
   ],
   "source": [
    "batch = test_df.select(\"text_all\").rdd.map(lambda r: r[\"text_all\"]).collect()\n",
    "outputs = predict(batch)\n",
    "import pandas as pd\n",
    "pd.DataFrame(outputs)"
   ]
  },
  {
   "cell_type": "code",
   "execution_count": 59,
   "id": "z0Caki8nIDCH",
   "metadata": {
    "executionInfo": {
     "elapsed": 1,
     "status": "ok",
     "timestamp": 1752460466932,
     "user": {
      "displayName": "Duy Hoang",
      "userId": "14942285181523211297"
     },
     "user_tz": -420
    },
    "id": "z0Caki8nIDCH"
   },
   "outputs": [],
   "source": [
    "sample_data = [\n",
    "    {\n",
    "        \"creation_time\": str(int(time.time())),\n",
    "        \"ner_all\": '[\"Sơn Tùng M-TP\", \"Hà Hồ\"]',\n",
    "        \"aspect1\": \"Food\",\n",
    "        \"aspect2\": \"Other\",\n",
    "        \"sent1\": \"positive\",\n",
    "        \"sent2\": \"neutral\",\n",
    "        \"total_reactions\": 100,\n",
    "        \"share_count\": 20,\n",
    "    },\n",
    "    {\n",
    "        \"creation_time\": str(int(time.time())-10),\n",
    "        \"ner_all\": '[\"Trấn Thành\"]',\n",
    "        \"aspect1\": \"Art\",\n",
    "        \"aspect2\": \"\",\n",
    "        \"sent1\": \"positive\",\n",
    "        \"sent2\": \"\",\n",
    "        \"total_reactions\": 200,\n",
    "        \"share_count\": 50,\n",
    "    },\n",
    "]\n"
   ]
  },
  {
   "cell_type": "code",
   "execution_count": 60,
   "id": "iNgl6c6hISK0",
   "metadata": {
    "executionInfo": {
     "elapsed": 61,
     "status": "ok",
     "timestamp": 1752460466994,
     "user": {
      "displayName": "Duy Hoang",
      "userId": "14942285181523211297"
     },
     "user_tz": -420
    },
    "id": "iNgl6c6hISK0"
   },
   "outputs": [],
   "source": [
    "from pyspark.sql.types import *\n",
    "from pyspark.sql import Row\n",
    "\n",
    "rows = [Row(**item) for item in sample_data]\n",
    "df = spark.createDataFrame(rows)"
   ]
  },
  {
   "cell_type": "code",
   "execution_count": 61,
   "id": "xgG1pJOqISjk",
   "metadata": {
    "executionInfo": {
     "elapsed": 3,
     "status": "ok",
     "timestamp": 1752460466998,
     "user": {
      "displayName": "Duy Hoang",
      "userId": "14942285181523211297"
     },
     "user_tz": -420
    },
    "id": "xgG1pJOqISjk"
   },
   "outputs": [],
   "source": [
    "seen_creation_times = set()"
   ]
  },
  {
   "cell_type": "code",
   "execution_count": 62,
   "id": "Tx2wR4YTITxF",
   "metadata": {
    "executionInfo": {
     "elapsed": 2096,
     "status": "ok",
     "timestamp": 1752460469097,
     "user": {
      "displayName": "Duy Hoang",
      "userId": "14942285181523211297"
     },
     "user_tz": -420
    },
    "id": "Tx2wR4YTITxF"
   },
   "outputs": [],
   "source": [
    "write_full_batch(df, batch_id=0)"
   ]
  },
  {
   "cell_type": "code",
   "execution_count": 63,
   "id": "eG9m9cli1KPn",
   "metadata": {
    "executionInfo": {
     "elapsed": 6,
     "status": "ok",
     "timestamp": 1752460469104,
     "user": {
      "displayName": "Duy Hoang",
      "userId": "14942285181523211297"
     },
     "user_tz": -420
    },
    "id": "eG9m9cli1KPn"
   },
   "outputs": [],
   "source": [
    "# import psycopg2\n",
    "\n",
    "# conn = psycopg2.connect(PG_CONN_STR)\n",
    "# cur  = conn.cursor()\n",
    "\n",
    "# # 1) Liệt kê cột và kiểu\n",
    "# cur.execute(\"\"\"\n",
    "#   SELECT column_name, data_type\n",
    "#     FROM information_schema.columns\n",
    "#    WHERE table_schema = 'public'\n",
    "#      AND table_name   = 'interactions';\n",
    "# \"\"\")\n",
    "# for col, dtype in cur.fetchall():\n",
    "#     print(f\"{col:20s} | {dtype}\")\n",
    "\n",
    "# # 2) Liệt kê các constraint unique / pk\n",
    "# cur.execute(\"\"\"\n",
    "#   SELECT\n",
    "#     tc.constraint_name,\n",
    "#     tc.constraint_type,\n",
    "#     kcu.column_name\n",
    "#   FROM information_schema.table_constraints AS tc\n",
    "#   JOIN information_schema.key_column_usage AS kcu\n",
    "#     ON tc.constraint_name = kcu.constraint_name\n",
    "#    AND tc.table_schema   = kcu.table_schema\n",
    "#   WHERE tc.table_schema = 'public'\n",
    "#     AND tc.table_name   = 'interactions'\n",
    "#     AND tc.constraint_type IN ('PRIMARY KEY','UNIQUE');\n",
    "# \"\"\")\n",
    "# print(\"\\nConstraints:\")\n",
    "# for name, ctype, col in cur.fetchall():\n",
    "#     print(f\"{ctype:12s} | {name:30s} | {col}\")\n",
    "\n",
    "# cur.close()\n",
    "# conn.close()\n"
   ]
  },
  {
   "cell_type": "code",
   "execution_count": 64,
   "id": "dBObEE9W1bCJ",
   "metadata": {
    "executionInfo": {
     "elapsed": 6,
     "status": "ok",
     "timestamp": 1752460469106,
     "user": {
      "displayName": "Duy Hoang",
      "userId": "14942285181523211297"
     },
     "user_tz": -420
    },
    "id": "dBObEE9W1bCJ"
   },
   "outputs": [],
   "source": [
    "# import psycopg2\n",
    "\n",
    "# # Chuỗi kết nối psycopg2\n",
    "# PG_CONN_STR = (\n",
    "#     \"host=ep-mute-lab-a1al1nx2-pooler.ap-southeast-1.aws.neon.tech \"\n",
    "#     \"dbname=socialtrend user=socialtrend_owner password=npg_wOv01JkxVquo \"\n",
    "#     \"sslmode=require channel_binding=require\"\n",
    "# )\n",
    "\n",
    "# def print_table_info(table_name):\n",
    "#     conn = psycopg2.connect(PG_CONN_STR)\n",
    "#     cur  = conn.cursor()\n",
    "\n",
    "#     print(f\"\\n=== TABLE: {table_name} ===\")\n",
    "\n",
    "#     # 1) In schema: cột + kiểu\n",
    "#     cur.execute(f\"\"\"\n",
    "#       SELECT column_name, data_type\n",
    "#         FROM information_schema.columns\n",
    "#        WHERE table_schema = 'public'\n",
    "#          AND table_name   = %s\n",
    "#        ORDER BY ordinal_position;\n",
    "#     \"\"\", (table_name,))\n",
    "#     print(\"Columns:\")\n",
    "#     for col, dtype in cur.fetchall():\n",
    "#         print(f\"  {col:20s} | {dtype}\")\n",
    "\n",
    "#     # 2) In constraints: PK & UNIQUE\n",
    "#     cur.execute(f\"\"\"\n",
    "#       SELECT\n",
    "#         tc.constraint_name,\n",
    "#         tc.constraint_type,\n",
    "#         string_agg(kcu.column_name, ', ') AS columns\n",
    "#       FROM information_schema.table_constraints AS tc\n",
    "#       JOIN information_schema.key_column_usage AS kcu\n",
    "#         ON tc.constraint_name = kcu.constraint_name\n",
    "#        AND tc.table_schema   = kcu.table_schema\n",
    "#       WHERE tc.table_schema = 'public'\n",
    "#         AND tc.table_name   = %s\n",
    "#         AND tc.constraint_type IN ('PRIMARY KEY','UNIQUE')\n",
    "#       GROUP BY tc.constraint_name, tc.constraint_type\n",
    "#       ORDER BY tc.constraint_type, tc.constraint_name;\n",
    "#     \"\"\", (table_name,))\n",
    "\n",
    "#     constraints = cur.fetchall()\n",
    "#     if constraints:\n",
    "#         print(\"\\nConstraints:\")\n",
    "#         for name, ctype, cols in constraints:\n",
    "#             print(f\"  {ctype:12s} | {name:30s} | {cols}\")\n",
    "#     else:\n",
    "#         print(\"\\nNo PRIMARY KEY or UNIQUE constraints found.\")\n",
    "\n",
    "#     cur.close()\n",
    "#     conn.close()\n",
    "\n",
    "# # In cho hai bảng\n",
    "# print_table_info(\"celebrities\")\n",
    "# print_table_info(\"celebrity_aliases\")\n",
    "# print_table_info(\"reactions\")\n"
   ]
  },
  {
   "cell_type": "code",
   "execution_count": 64,
   "id": "9GapKkAN1laE",
   "metadata": {
    "executionInfo": {
     "elapsed": 7,
     "status": "ok",
     "timestamp": 1752460469108,
     "user": {
      "displayName": "Duy Hoang",
      "userId": "14942285181523211297"
     },
     "user_tz": -420
    },
    "id": "9GapKkAN1laE"
   },
   "outputs": [],
   "source": []
  }
 ],
 "metadata": {
  "accelerator": "GPU",
  "colab": {
   "gpuType": "T4",
   "provenance": []
  },
  "kernelspec": {
   "display_name": "Python 3",
   "name": "python3"
  },
  "language_info": {
   "codemirror_mode": {
    "name": "ipython",
    "version": 3
   },
   "file_extension": ".py",
   "mimetype": "text/x-python",
   "name": "python",
   "nbconvert_exporter": "python",
   "pygments_lexer": "ipython3",
   "version": "3.10.11"
  },
  "widgets": {
   "application/vnd.jupyter.widget-state+json": {
    "06879519c33e4bab9c779a10c4bb51e0": {
     "model_module": "@jupyter-widgets/controls",
     "model_module_version": "1.5.0",
     "model_name": "HBoxModel",
     "state": {
      "_dom_classes": [],
      "_model_module": "@jupyter-widgets/controls",
      "_model_module_version": "1.5.0",
      "_model_name": "HBoxModel",
      "_view_count": null,
      "_view_module": "@jupyter-widgets/controls",
      "_view_module_version": "1.5.0",
      "_view_name": "HBoxView",
      "box_style": "",
      "children": [
       "IPY_MODEL_a79b0716f05f430aae84702cf275828c",
       "IPY_MODEL_84363e860e184cbbb0287da7cc39c65b",
       "IPY_MODEL_63c9736d50c742dba603c0e80b485032"
      ],
      "layout": "IPY_MODEL_bedc06837dea4a3fa66723d33e73a117"
     }
    },
    "1edfdbb83ae54ea3acc11c7d9f7f9594": {
     "model_module": "@jupyter-widgets/base",
     "model_module_version": "1.2.0",
     "model_name": "LayoutModel",
     "state": {
      "_model_module": "@jupyter-widgets/base",
      "_model_module_version": "1.2.0",
      "_model_name": "LayoutModel",
      "_view_count": null,
      "_view_module": "@jupyter-widgets/base",
      "_view_module_version": "1.2.0",
      "_view_name": "LayoutView",
      "align_content": null,
      "align_items": null,
      "align_self": null,
      "border": null,
      "bottom": null,
      "display": null,
      "flex": null,
      "flex_flow": null,
      "grid_area": null,
      "grid_auto_columns": null,
      "grid_auto_flow": null,
      "grid_auto_rows": null,
      "grid_column": null,
      "grid_gap": null,
      "grid_row": null,
      "grid_template_areas": null,
      "grid_template_columns": null,
      "grid_template_rows": null,
      "height": null,
      "justify_content": null,
      "justify_items": null,
      "left": null,
      "margin": null,
      "max_height": null,
      "max_width": null,
      "min_height": null,
      "min_width": null,
      "object_fit": null,
      "object_position": null,
      "order": null,
      "overflow": null,
      "overflow_x": null,
      "overflow_y": null,
      "padding": null,
      "right": null,
      "top": null,
      "visibility": null,
      "width": null
     }
    },
    "2aafe317c6ea43888c3e312caecc5825": {
     "model_module": "@jupyter-widgets/controls",
     "model_module_version": "1.5.0",
     "model_name": "DescriptionStyleModel",
     "state": {
      "_model_module": "@jupyter-widgets/controls",
      "_model_module_version": "1.5.0",
      "_model_name": "DescriptionStyleModel",
      "_view_count": null,
      "_view_module": "@jupyter-widgets/base",
      "_view_module_version": "1.2.0",
      "_view_name": "StyleView",
      "description_width": ""
     }
    },
    "39de195485d940068924a52f19fd47c5": {
     "model_module": "@jupyter-widgets/base",
     "model_module_version": "1.2.0",
     "model_name": "LayoutModel",
     "state": {
      "_model_module": "@jupyter-widgets/base",
      "_model_module_version": "1.2.0",
      "_model_name": "LayoutModel",
      "_view_count": null,
      "_view_module": "@jupyter-widgets/base",
      "_view_module_version": "1.2.0",
      "_view_name": "LayoutView",
      "align_content": null,
      "align_items": null,
      "align_self": null,
      "border": null,
      "bottom": null,
      "display": null,
      "flex": null,
      "flex_flow": null,
      "grid_area": null,
      "grid_auto_columns": null,
      "grid_auto_flow": null,
      "grid_auto_rows": null,
      "grid_column": null,
      "grid_gap": null,
      "grid_row": null,
      "grid_template_areas": null,
      "grid_template_columns": null,
      "grid_template_rows": null,
      "height": null,
      "justify_content": null,
      "justify_items": null,
      "left": null,
      "margin": null,
      "max_height": null,
      "max_width": null,
      "min_height": null,
      "min_width": null,
      "object_fit": null,
      "object_position": null,
      "order": null,
      "overflow": null,
      "overflow_x": null,
      "overflow_y": null,
      "padding": null,
      "right": null,
      "top": null,
      "visibility": null,
      "width": null
     }
    },
    "48d65f4b3a23488bb3bd3a1e8eedfee4": {
     "model_module": "@jupyter-widgets/controls",
     "model_module_version": "1.5.0",
     "model_name": "DescriptionStyleModel",
     "state": {
      "_model_module": "@jupyter-widgets/controls",
      "_model_module_version": "1.5.0",
      "_model_name": "DescriptionStyleModel",
      "_view_count": null,
      "_view_module": "@jupyter-widgets/base",
      "_view_module_version": "1.2.0",
      "_view_name": "StyleView",
      "description_width": ""
     }
    },
    "63c9736d50c742dba603c0e80b485032": {
     "model_module": "@jupyter-widgets/controls",
     "model_module_version": "1.5.0",
     "model_name": "HTMLModel",
     "state": {
      "_dom_classes": [],
      "_model_module": "@jupyter-widgets/controls",
      "_model_module_version": "1.5.0",
      "_model_name": "HTMLModel",
      "_view_count": null,
      "_view_module": "@jupyter-widgets/controls",
      "_view_module_version": "1.5.0",
      "_view_name": "HTMLView",
      "description": "",
      "description_tooltip": null,
      "layout": "IPY_MODEL_ee804ab92d0a46c288343c09abe94f1b",
      "placeholder": "​",
      "style": "IPY_MODEL_7d68cdbb4a9148cbaefd9d58b2eb5a51",
      "value": " 433k/? [00:00&lt;00:00, 7.28MB/s]"
     }
    },
    "6bb46964c99b42cdb9734d73507219cd": {
     "model_module": "@jupyter-widgets/controls",
     "model_module_version": "1.5.0",
     "model_name": "FloatProgressModel",
     "state": {
      "_dom_classes": [],
      "_model_module": "@jupyter-widgets/controls",
      "_model_module_version": "1.5.0",
      "_model_name": "FloatProgressModel",
      "_view_count": null,
      "_view_module": "@jupyter-widgets/controls",
      "_view_module_version": "1.5.0",
      "_view_name": "ProgressView",
      "bar_style": "success",
      "description": "",
      "description_tooltip": null,
      "layout": "IPY_MODEL_39de195485d940068924a52f19fd47c5",
      "max": 53527,
      "min": 0,
      "orientation": "horizontal",
      "style": "IPY_MODEL_dda1daf66ef34f8f84af87bc318eb18d",
      "value": 53527
     }
    },
    "7756880218a24d5aa36f594436961207": {
     "model_module": "@jupyter-widgets/base",
     "model_module_version": "1.2.0",
     "model_name": "LayoutModel",
     "state": {
      "_model_module": "@jupyter-widgets/base",
      "_model_module_version": "1.2.0",
      "_model_name": "LayoutModel",
      "_view_count": null,
      "_view_module": "@jupyter-widgets/base",
      "_view_module_version": "1.2.0",
      "_view_name": "LayoutView",
      "align_content": null,
      "align_items": null,
      "align_self": null,
      "border": null,
      "bottom": null,
      "display": null,
      "flex": null,
      "flex_flow": null,
      "grid_area": null,
      "grid_auto_columns": null,
      "grid_auto_flow": null,
      "grid_auto_rows": null,
      "grid_column": null,
      "grid_gap": null,
      "grid_row": null,
      "grid_template_areas": null,
      "grid_template_columns": null,
      "grid_template_rows": null,
      "height": null,
      "justify_content": null,
      "justify_items": null,
      "left": null,
      "margin": null,
      "max_height": null,
      "max_width": null,
      "min_height": null,
      "min_width": null,
      "object_fit": null,
      "object_position": null,
      "order": null,
      "overflow": null,
      "overflow_x": null,
      "overflow_y": null,
      "padding": null,
      "right": null,
      "top": null,
      "visibility": null,
      "width": null
     }
    },
    "7d68cdbb4a9148cbaefd9d58b2eb5a51": {
     "model_module": "@jupyter-widgets/controls",
     "model_module_version": "1.5.0",
     "model_name": "DescriptionStyleModel",
     "state": {
      "_model_module": "@jupyter-widgets/controls",
      "_model_module_version": "1.5.0",
      "_model_name": "DescriptionStyleModel",
      "_view_count": null,
      "_view_module": "@jupyter-widgets/base",
      "_view_module_version": "1.2.0",
      "_view_name": "StyleView",
      "description_width": ""
     }
    },
    "84363e860e184cbbb0287da7cc39c65b": {
     "model_module": "@jupyter-widgets/controls",
     "model_module_version": "1.5.0",
     "model_name": "FloatProgressModel",
     "state": {
      "_dom_classes": [],
      "_model_module": "@jupyter-widgets/controls",
      "_model_module_version": "1.5.0",
      "_model_name": "FloatProgressModel",
      "_view_count": null,
      "_view_module": "@jupyter-widgets/controls",
      "_view_module_version": "1.5.0",
      "_view_name": "ProgressView",
      "bar_style": "success",
      "description": "",
      "description_tooltip": null,
      "layout": "IPY_MODEL_1edfdbb83ae54ea3acc11c7d9f7f9594",
      "max": 53527,
      "min": 0,
      "orientation": "horizontal",
      "style": "IPY_MODEL_b91774668fa74912be3fb804d0faff80",
      "value": 53527
     }
    },
    "86876bafdfae421c974f6f428f32a0bb": {
     "model_module": "@jupyter-widgets/base",
     "model_module_version": "1.2.0",
     "model_name": "LayoutModel",
     "state": {
      "_model_module": "@jupyter-widgets/base",
      "_model_module_version": "1.2.0",
      "_model_name": "LayoutModel",
      "_view_count": null,
      "_view_module": "@jupyter-widgets/base",
      "_view_module_version": "1.2.0",
      "_view_name": "LayoutView",
      "align_content": null,
      "align_items": null,
      "align_self": null,
      "border": null,
      "bottom": null,
      "display": null,
      "flex": null,
      "flex_flow": null,
      "grid_area": null,
      "grid_auto_columns": null,
      "grid_auto_flow": null,
      "grid_auto_rows": null,
      "grid_column": null,
      "grid_gap": null,
      "grid_row": null,
      "grid_template_areas": null,
      "grid_template_columns": null,
      "grid_template_rows": null,
      "height": null,
      "justify_content": null,
      "justify_items": null,
      "left": null,
      "margin": null,
      "max_height": null,
      "max_width": null,
      "min_height": null,
      "min_width": null,
      "object_fit": null,
      "object_position": null,
      "order": null,
      "overflow": null,
      "overflow_x": null,
      "overflow_y": null,
      "padding": null,
      "right": null,
      "top": null,
      "visibility": null,
      "width": null
     }
    },
    "9cfd7616245849c0b988362be252cfc6": {
     "model_module": "@jupyter-widgets/controls",
     "model_module_version": "1.5.0",
     "model_name": "DescriptionStyleModel",
     "state": {
      "_model_module": "@jupyter-widgets/controls",
      "_model_module_version": "1.5.0",
      "_model_name": "DescriptionStyleModel",
      "_view_count": null,
      "_view_module": "@jupyter-widgets/base",
      "_view_module_version": "1.2.0",
      "_view_name": "StyleView",
      "description_width": ""
     }
    },
    "a79b0716f05f430aae84702cf275828c": {
     "model_module": "@jupyter-widgets/controls",
     "model_module_version": "1.5.0",
     "model_name": "HTMLModel",
     "state": {
      "_dom_classes": [],
      "_model_module": "@jupyter-widgets/controls",
      "_model_module_version": "1.5.0",
      "_model_name": "HTMLModel",
      "_view_count": null,
      "_view_module": "@jupyter-widgets/controls",
      "_view_module_version": "1.5.0",
      "_view_name": "HTMLView",
      "description": "",
      "description_tooltip": null,
      "layout": "IPY_MODEL_86876bafdfae421c974f6f428f32a0bb",
      "placeholder": "​",
      "style": "IPY_MODEL_2aafe317c6ea43888c3e312caecc5825",
      "value": "Downloading https://raw.githubusercontent.com/stanfordnlp/stanza-resources/main/resources_1.10.0.json: "
     }
    },
    "ad58c0fbdb464c3394ace8365973526d": {
     "model_module": "@jupyter-widgets/controls",
     "model_module_version": "1.5.0",
     "model_name": "HTMLModel",
     "state": {
      "_dom_classes": [],
      "_model_module": "@jupyter-widgets/controls",
      "_model_module_version": "1.5.0",
      "_model_name": "HTMLModel",
      "_view_count": null,
      "_view_module": "@jupyter-widgets/controls",
      "_view_module_version": "1.5.0",
      "_view_name": "HTMLView",
      "description": "",
      "description_tooltip": null,
      "layout": "IPY_MODEL_f77ccae0fee246a58ebcc452f3ae7807",
      "placeholder": "​",
      "style": "IPY_MODEL_48d65f4b3a23488bb3bd3a1e8eedfee4",
      "value": "Downloading https://raw.githubusercontent.com/stanfordnlp/stanza-resources/main/resources_1.10.0.json: "
     }
    },
    "ad5c498277c64bae81cc00a44e1c772e": {
     "model_module": "@jupyter-widgets/controls",
     "model_module_version": "1.5.0",
     "model_name": "HTMLModel",
     "state": {
      "_dom_classes": [],
      "_model_module": "@jupyter-widgets/controls",
      "_model_module_version": "1.5.0",
      "_model_name": "HTMLModel",
      "_view_count": null,
      "_view_module": "@jupyter-widgets/controls",
      "_view_module_version": "1.5.0",
      "_view_name": "HTMLView",
      "description": "",
      "description_tooltip": null,
      "layout": "IPY_MODEL_7756880218a24d5aa36f594436961207",
      "placeholder": "​",
      "style": "IPY_MODEL_9cfd7616245849c0b988362be252cfc6",
      "value": " 433k/? [00:00&lt;00:00, 6.29MB/s]"
     }
    },
    "b91774668fa74912be3fb804d0faff80": {
     "model_module": "@jupyter-widgets/controls",
     "model_module_version": "1.5.0",
     "model_name": "ProgressStyleModel",
     "state": {
      "_model_module": "@jupyter-widgets/controls",
      "_model_module_version": "1.5.0",
      "_model_name": "ProgressStyleModel",
      "_view_count": null,
      "_view_module": "@jupyter-widgets/base",
      "_view_module_version": "1.2.0",
      "_view_name": "StyleView",
      "bar_color": null,
      "description_width": ""
     }
    },
    "bedc06837dea4a3fa66723d33e73a117": {
     "model_module": "@jupyter-widgets/base",
     "model_module_version": "1.2.0",
     "model_name": "LayoutModel",
     "state": {
      "_model_module": "@jupyter-widgets/base",
      "_model_module_version": "1.2.0",
      "_model_name": "LayoutModel",
      "_view_count": null,
      "_view_module": "@jupyter-widgets/base",
      "_view_module_version": "1.2.0",
      "_view_name": "LayoutView",
      "align_content": null,
      "align_items": null,
      "align_self": null,
      "border": null,
      "bottom": null,
      "display": null,
      "flex": null,
      "flex_flow": null,
      "grid_area": null,
      "grid_auto_columns": null,
      "grid_auto_flow": null,
      "grid_auto_rows": null,
      "grid_column": null,
      "grid_gap": null,
      "grid_row": null,
      "grid_template_areas": null,
      "grid_template_columns": null,
      "grid_template_rows": null,
      "height": null,
      "justify_content": null,
      "justify_items": null,
      "left": null,
      "margin": null,
      "max_height": null,
      "max_width": null,
      "min_height": null,
      "min_width": null,
      "object_fit": null,
      "object_position": null,
      "order": null,
      "overflow": null,
      "overflow_x": null,
      "overflow_y": null,
      "padding": null,
      "right": null,
      "top": null,
      "visibility": null,
      "width": null
     }
    },
    "d070b10ebcc5499f8695f795f71ee84f": {
     "model_module": "@jupyter-widgets/controls",
     "model_module_version": "1.5.0",
     "model_name": "HBoxModel",
     "state": {
      "_dom_classes": [],
      "_model_module": "@jupyter-widgets/controls",
      "_model_module_version": "1.5.0",
      "_model_name": "HBoxModel",
      "_view_count": null,
      "_view_module": "@jupyter-widgets/controls",
      "_view_module_version": "1.5.0",
      "_view_name": "HBoxView",
      "box_style": "",
      "children": [
       "IPY_MODEL_ad58c0fbdb464c3394ace8365973526d",
       "IPY_MODEL_6bb46964c99b42cdb9734d73507219cd",
       "IPY_MODEL_ad5c498277c64bae81cc00a44e1c772e"
      ],
      "layout": "IPY_MODEL_d97285a183c84d9fad53c166273c6942"
     }
    },
    "d97285a183c84d9fad53c166273c6942": {
     "model_module": "@jupyter-widgets/base",
     "model_module_version": "1.2.0",
     "model_name": "LayoutModel",
     "state": {
      "_model_module": "@jupyter-widgets/base",
      "_model_module_version": "1.2.0",
      "_model_name": "LayoutModel",
      "_view_count": null,
      "_view_module": "@jupyter-widgets/base",
      "_view_module_version": "1.2.0",
      "_view_name": "LayoutView",
      "align_content": null,
      "align_items": null,
      "align_self": null,
      "border": null,
      "bottom": null,
      "display": null,
      "flex": null,
      "flex_flow": null,
      "grid_area": null,
      "grid_auto_columns": null,
      "grid_auto_flow": null,
      "grid_auto_rows": null,
      "grid_column": null,
      "grid_gap": null,
      "grid_row": null,
      "grid_template_areas": null,
      "grid_template_columns": null,
      "grid_template_rows": null,
      "height": null,
      "justify_content": null,
      "justify_items": null,
      "left": null,
      "margin": null,
      "max_height": null,
      "max_width": null,
      "min_height": null,
      "min_width": null,
      "object_fit": null,
      "object_position": null,
      "order": null,
      "overflow": null,
      "overflow_x": null,
      "overflow_y": null,
      "padding": null,
      "right": null,
      "top": null,
      "visibility": null,
      "width": null
     }
    },
    "dda1daf66ef34f8f84af87bc318eb18d": {
     "model_module": "@jupyter-widgets/controls",
     "model_module_version": "1.5.0",
     "model_name": "ProgressStyleModel",
     "state": {
      "_model_module": "@jupyter-widgets/controls",
      "_model_module_version": "1.5.0",
      "_model_name": "ProgressStyleModel",
      "_view_count": null,
      "_view_module": "@jupyter-widgets/base",
      "_view_module_version": "1.2.0",
      "_view_name": "StyleView",
      "bar_color": null,
      "description_width": ""
     }
    },
    "ee804ab92d0a46c288343c09abe94f1b": {
     "model_module": "@jupyter-widgets/base",
     "model_module_version": "1.2.0",
     "model_name": "LayoutModel",
     "state": {
      "_model_module": "@jupyter-widgets/base",
      "_model_module_version": "1.2.0",
      "_model_name": "LayoutModel",
      "_view_count": null,
      "_view_module": "@jupyter-widgets/base",
      "_view_module_version": "1.2.0",
      "_view_name": "LayoutView",
      "align_content": null,
      "align_items": null,
      "align_self": null,
      "border": null,
      "bottom": null,
      "display": null,
      "flex": null,
      "flex_flow": null,
      "grid_area": null,
      "grid_auto_columns": null,
      "grid_auto_flow": null,
      "grid_auto_rows": null,
      "grid_column": null,
      "grid_gap": null,
      "grid_row": null,
      "grid_template_areas": null,
      "grid_template_columns": null,
      "grid_template_rows": null,
      "height": null,
      "justify_content": null,
      "justify_items": null,
      "left": null,
      "margin": null,
      "max_height": null,
      "max_width": null,
      "min_height": null,
      "min_width": null,
      "object_fit": null,
      "object_position": null,
      "order": null,
      "overflow": null,
      "overflow_x": null,
      "overflow_y": null,
      "padding": null,
      "right": null,
      "top": null,
      "visibility": null,
      "width": null
     }
    },
    "f77ccae0fee246a58ebcc452f3ae7807": {
     "model_module": "@jupyter-widgets/base",
     "model_module_version": "1.2.0",
     "model_name": "LayoutModel",
     "state": {
      "_model_module": "@jupyter-widgets/base",
      "_model_module_version": "1.2.0",
      "_model_name": "LayoutModel",
      "_view_count": null,
      "_view_module": "@jupyter-widgets/base",
      "_view_module_version": "1.2.0",
      "_view_name": "LayoutView",
      "align_content": null,
      "align_items": null,
      "align_self": null,
      "border": null,
      "bottom": null,
      "display": null,
      "flex": null,
      "flex_flow": null,
      "grid_area": null,
      "grid_auto_columns": null,
      "grid_auto_flow": null,
      "grid_auto_rows": null,
      "grid_column": null,
      "grid_gap": null,
      "grid_row": null,
      "grid_template_areas": null,
      "grid_template_columns": null,
      "grid_template_rows": null,
      "height": null,
      "justify_content": null,
      "justify_items": null,
      "left": null,
      "margin": null,
      "max_height": null,
      "max_width": null,
      "min_height": null,
      "min_width": null,
      "object_fit": null,
      "object_position": null,
      "order": null,
      "overflow": null,
      "overflow_x": null,
      "overflow_y": null,
      "padding": null,
      "right": null,
      "top": null,
      "visibility": null,
      "width": null
     }
    }
   }
  }
 },
 "nbformat": 4,
 "nbformat_minor": 5
}
